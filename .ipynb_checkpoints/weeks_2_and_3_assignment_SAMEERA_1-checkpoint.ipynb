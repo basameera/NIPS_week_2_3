{
 "cells": [
  {
   "cell_type": "markdown",
   "metadata": {
    "colab_type": "text",
    "id": "HlqVBEfLBOF_"
   },
   "source": [
    "**SOW-MKI49: Neural Information Processing Systems**  \n",
    "*Weeks 2 and 3: Assignment (200 points + 20 bonus points + 1 bonus point for each bug you find and another bonus point if you debug it and before you ask, no, typos unfortunately are not considered bugs - first come, first served)*  \n",
    "Author: Umut"
   ]
  },
  {
   "cell_type": "code",
   "execution_count": 0,
   "metadata": {
    "colab": {},
    "colab_type": "code",
    "id": "rT8BaKk5CpeB"
   },
   "outputs": [],
   "source": [
    "# Group 17: ...\n",
    "# Sameera Sandaruwan - s1014012\n",
    "# Student 2 name, student 2 number: ...\n",
    "# Student 3 name, student 3 number: ..."
   ]
  },
  {
   "cell_type": "markdown",
   "metadata": {},
   "source": [
    "# To Do List\n",
    "1. add_persistant problem when loading Vgg4 model .npz file\n",
    "2. "
   ]
  },
  {
   "cell_type": "code",
   "execution_count": 2,
   "metadata": {
    "colab": {},
    "colab_type": "code",
    "id": "00iIAIv37Del"
   },
   "outputs": [],
   "source": [
    "batch_size = 4\n",
    "data_directory = 'Data' # Make a directory to store the data and enter it here.\n",
    "                    # We will be using a smaller dataset (LFW) than the one used in the paper (CelebA) for computational resource considerations.\n",
    "                    # Download it from http://vis-www.cs.umass.edu/lfw/lfw-deepfunneled.tgz.\n",
    "device = 0 #sameera GPU\n",
    "epochs = 100\n",
    "lambda_ = {'feature': 1., 'pixel': 1., 'total_variation': 1e-5}\n",
    "model_directory = 'Model' # Make a directory to store the models and enter it here. Move Vgg4Layers.npz to the model directory.\n",
    "outsize = (96, 96)"
   ]
  },
  {
   "cell_type": "markdown",
   "metadata": {
    "colab_type": "text",
    "id": "86zZctPu1K2M"
   },
   "source": [
    "**Packages (10 points)**  \n",
    "In this cell, you will import the required packages.  \n",
    "*Tasks*   \n",
    "- (1) It is always good practice to first think about the big picture and not rush into writing code before clearly knowing everything that you will have to do so as to avoid future complications. Therefore, your first task is to study the skeleton code and come up with a plan of how to proceed. (**0 points**)\n",
    "- (2) However, I agree that doing so is arguably the most boring part of coding, and you rather skip it. To help you to resist the temptation of skipping going through the skeleton code, I have removed the import statements. Your second task is to Identify the required packages and import them. Note that if you are using Python 2.7, you should import print from the future. (**10 points**)"
   ]
  },
  {
   "cell_type": "code",
   "execution_count": 3,
   "metadata": {
    "colab": {},
    "colab_type": "code",
    "id": "RBiJw5pV030o"
   },
   "outputs": [],
   "source": [
    "# (2) start\n",
    "# numpy, cv2, pillow, chainer, scikit-image, glob, os\n",
    "import numpy as np\n",
    "import cv2\n",
    "from PIL import Image\n",
    "import os\n",
    "from matplotlib import pyplot as plt\n",
    "%matplotlib inline\n",
    "# (2) end"
   ]
  },
  {
   "cell_type": "code",
   "execution_count": 4,
   "metadata": {},
   "outputs": [],
   "source": [
    "import chainer\n",
    "from chainer import Function, gradient_check, report, training, utils, Variable\n",
    "from chainer import datasets, iterators, serializers, dataset\n",
    "from chainer import Link, Chain, ChainList\n",
    "from chainer.optimizers import Adam\n",
    "from chainer.dataset import concat_examples\n",
    "import chainer.functions as F\n",
    "import chainer.links as L\n",
    "from chainer.training import extensions"
   ]
  },
  {
   "cell_type": "code",
   "execution_count": null,
   "metadata": {},
   "outputs": [],
   "source": [
    "from chainer.backends import cuda"
   ]
  },
  {
   "cell_type": "markdown",
   "metadata": {
    "colab_type": "text",
    "id": "JOhjvsOx9lJY"
   },
   "source": [
    "**Preprocessing functions (10 points + 5 bonus points)** (taken from https://github.com/mbeyeler/opencv-python-blueprints)  \n",
    "In the following cell, you will implement some of the preprocessing functions. The rest of the preprocessing steps have already been applied to the data.  \n",
    "*Tasks*\n",
    "- (1) Implement the resizing operation. That is, you should extract the data, resize each portrait to 96 pixels x 96 pixels and save them to the data directory as JPG. (**10 points **)\n",
    "- (2) The pencil sketch class implements the sketch effect in a simpler way than the one mentioned in the lecture. Explain how/why the used operations (blur and divide) convert portraits to sketches, and how it differs from that which was mentioned in the lecture? (**5 bonus points**)"
   ]
  },
  {
   "cell_type": "markdown",
   "metadata": {},
   "source": [
    "- get directory list from Data folder\n",
    "- count empyt folders\n",
    "- count all data"
   ]
  },
  {
   "cell_type": "code",
   "execution_count": 21,
   "metadata": {},
   "outputs": [],
   "source": [
    "# Open all images\n",
    "all_folders_in_Data = sorted(os.listdir(data_directory))\n",
    "for n in range(2):\n",
    "    celebs = sorted(os.listdir(os.path.join(data_directory, all_folders_in_Data[n])))\n",
    "    for celeb_name in celebs:\n",
    "        im = Image.open(os.path.join(data_directory, all_folders_in_Data[n], celeb_name))\n",
    "        im.show()"
   ]
  },
  {
   "cell_type": "code",
   "execution_count": 5,
   "metadata": {
    "colab": {},
    "colab_type": "code",
    "id": "iY4lbpLK9kp4"
   },
   "outputs": [],
   "source": [
    "# (1) start\n",
    "# .\n",
    "# .\n",
    "# .\n",
    "# (1) end\n",
    "\n",
    "class PencilSketch:\n",
    "    \"\"\"Pencil sketch effect\n",
    "        A class that applies a pencil sketch effect to an image.\n",
    "    \"\"\"\n",
    "\n",
    "    def __init__(self, width, height): #ERROR: can't have () here --> def __init__(self, (width, height)):\n",
    "        \"\"\"Initialize parameters\n",
    "            :param (width, height): Image size.\n",
    "        \"\"\"\n",
    "        self.width = width\n",
    "        self.height = height\n",
    "\n",
    "        ### ERROR: useless\n",
    "        # try to open background canvas (if it exists)\n",
    "        #self.canvas = cv2.imread(bg_gray, cv2.CV_8UC1)\n",
    "        #if self.canvas is not None:\n",
    "            #self.canvas = cv2.resize(self.canvas, (self.width, self.height))\n",
    "\n",
    "    def render(self, img_rgb):\n",
    "        \"\"\"Applies pencil sketch effect to an RGB image\n",
    "            :param img_rgb: RGB image to be processed\n",
    "            :returns: Processed RGB image\n",
    "        \"\"\"\n",
    "        img_gray = cv2.cvtColor(img_rgb, cv2.COLOR_RGB2GRAY)\n",
    "        img_blur = cv2.GaussianBlur(img_gray, (21, 21), 0, 0)\n",
    "        img_blend = cv2.divide(img_gray, img_blur, scale=256)\n",
    "\n",
    "        # return cv2.cvtColor(img_blend, cv2.COLOR_GRAY2RGB)\n",
    "        return img_blend\n",
    "\n",
    "def pencil_sketch(img_rgb):\n",
    "    pencilSketch = PencilSketch(img_rgb.shape[1], img_rgb.shape[0])\n",
    "\n",
    "    return pencilSketch.render(img_rgb)\n",
    "\n",
    "# (2) Write your answer here.\n",
    "\n",
    "#find out what this is\n",
    "def preprocess(img):\n",
    "    if img.mode == 'L':\n",
    "        return np.rollaxis(np.asarray(img, 'float32')[..., None], 2)\n",
    "    else:\n",
    "        return np.rollaxis(np.asarray(img, 'float32')[..., ::-1], 2)"
   ]
  },
  {
   "cell_type": "code",
   "execution_count": 5,
   "metadata": {
    "scrolled": false
   },
   "outputs": [
    {
     "data": {
      "image/png": "[encoded data removed]",
      "text/plain": [
       "<Figure size 432x288 with 2 Axes>"
      ]
     },
     "metadata": {
      "needs_background": "light"
     },
     "output_type": "display_data"
    }
   ],
   "source": [
    "\n",
    "# Open all images\n",
    "all_folders_in_Data = sorted(os.listdir(data_directory))\n",
    "for n in range(1):\n",
    "    celebs = sorted(os.listdir(os.path.join(data_directory, all_folders_in_Data[n])))\n",
    "    for celeb_name in celebs:\n",
    "        im = cv2.imread(os.path.join(data_directory, all_folders_in_Data[n], celeb_name))\n",
    "        im = cv2.cvtColor(im, cv2.COLOR_BGR2RGB)\n",
    "        sketch_img = pencil_sketch(im)\n",
    "        plt.subplot(121)\n",
    "        plt.imshow(im)\n",
    "        plt.subplot(122)\n",
    "        plt.imshow(sketch_img)"
   ]
  },
  {
   "cell_type": "markdown",
   "metadata": {
    "colab_type": "text",
    "id": "ovQMUuo_7D2k"
   },
   "source": [
    "**Data class**  \n",
    "The following cell defines the data class. It is used to manage the data (loading, etc.). *You do not have to make any changes to the code.*  \n",
    "*Task*\n",
    "- (1) Study the code and refer to the chainer docuimentation if anything is unclear. You will be expected to write similar code by yourself in the coming practicals. (**0 points**)"
   ]
  },
  {
   "cell_type": "code",
   "execution_count": 6,
   "metadata": {
    "colab": {},
    "colab_type": "code",
    "id": "-OF39paH6wff"
   },
   "outputs": [],
   "source": [
    "class Dataset(dataset.DatasetMixin):\n",
    "    def __init__(self, data_files):\n",
    "        self.data_files = data_files\n",
    "\n",
    "    ## ERROR: indentation problem was here\n",
    "    def __len__(self):\n",
    "        return len(self.data_files)\n",
    "\n",
    "    def get_example(self, i):\n",
    "        t = np.asarray(Image.open(self.data_files[i]).convert('RGB').resize((96, 96), Image.LANCZOS), 'f').transpose(2, 0, 1)\n",
    "        x = pencil_sketch(np.asarray(Image.open(self.data_files[i]).convert('RGB').resize((96, 96), Image.LANCZOS)))[None]\n",
    "    \n",
    "        return t, x #t-target (realistic img), x-input(sketch img)"
   ]
  },
  {
   "cell_type": "markdown",
   "metadata": {
    "colab_type": "text",
    "id": "iUjEFdDD6xBq"
   },
   "source": [
    "**Model classes (45 points)**  \n",
    "In the following cell you will implement the model classes.\n",
    "*Tasks*   \n",
    "- (1) Implement the layers of the model by filling in the missing code. (**20 points**)\n",
    "- (2) Reimplement the model as a ChainList instead of a Chain. (**5 points**)\n",
    "- (3) Implement the forward pass of the residual block by filling in the missing code. (**20 points**)"
   ]
  },
  {
   "cell_type": "markdown",
   "metadata": {},
   "source": [
    "# Notes\n",
    "### https://docs.chainer.org/en/stable/glance.html\n",
    "### https://docs.chainer.org/en/stable/guides/index.html\n",
    "### https://docs.chainer.org/en/stable/reference/index.html\n",
    "- what are in_channels, out_channels\n",
    "- wht Functions and Links\n",
    "- param of Convolution2D"
   ]
  },
  {
   "cell_type": "markdown",
   "metadata": {},
   "source": [
    "- what is parsing X = X is the input to the network\n",
    "- Chain class = In order to make it more reusable, we want to support parameter management, CPU/GPU migration, robust and flexible save/load features, etc. These features are all supported by the \"Chain\" class in Chainer.\n",
    "- __call__ = We often define a single forward method of a link by the __call__ operator. Such links and chains are callable and behave like regular functions of Variables.\n",
    "- super = Inheritance\n",
    "class Animal:\n",
    "  def __init__(self, animalName):\n",
    "    print(animalName, 'is an animal.');\n",
    "\n",
    "class Mammal(Animal):\n",
    "  def __init__(self, mammalName):\n",
    "    print(mammalName, 'is a warm-blooded animal.')\n",
    "    super().__init__(mammalName)\n",
    "    \n",
    "class NonWingedMammal(Mammal):\n",
    "  def __init__(self, NonWingedMammalName):\n",
    "    print(NonWingedMammalName, \"can't fly.\")\n",
    "    super().__init__(NonWingedMammalName)\n",
    "\n",
    "class NonMarineMammal(Mammal):\n",
    "  def __init__(self, NonMarineMammalName):\n",
    "    print(NonMarineMammalName, \"can't swim.\")\n",
    "    super().__init__(NonMarineMammalName)\n",
    "\n",
    "class Dog(NonMarineMammal, NonWingedMammal):\n",
    "  def __init__(self):\n",
    "    print('Dog has 4 legs.');\n",
    "    super().__init__('Dog')\n",
    "    \n",
    "d = Dog()\n",
    "print('')\n",
    "bat = NonMarineMammal('Bat') \n",
    "\n",
    "- self.init_scope() = A child link can be added just by assigning it to an attribute of the chain within init_scope().\n",
    "\n",
    "The registered child link is saved and loaded on serialization and deserialization, and involved in the optimization. The registered link is called a child. \n",
    "\n",
    "- Links = Building block of model definitions.\n",
    "- Chain = Composable link with object-like interface.\n",
    "- ChainList = Composable link with list-like interface."
   ]
  },
  {
   "cell_type": "code",
   "execution_count": 6,
   "metadata": {},
   "outputs": [],
   "source": [
    "class LeNet5(Chain):\n",
    "    def __init__(self):\n",
    "        super(LeNet5, self).__init__()\n",
    "        with self.init_scope():\n",
    "            self.conv1 = L.Convolution2D(in_channels=1, out_channels=6, ksize=5, stride=1)\n",
    "            self.conv2 = L.Convolution2D(in_channels=6, out_channels=16, ksize=5, stride=1)\n",
    "            self.conv3 = L.Convolution2D(in_channels=16, out_channels=120, ksize=4, stride=1)\n",
    "            self.fc4 = L.Linear(None, 84)\n",
    "            self.fc5 = L.Linear(84, 10)\n",
    "\n",
    "    def __call__(self, x):\n",
    "        h = F.sigmoid(self.conv1(x))\n",
    "        h = F.max_pooling_2d(h, 2, 2)\n",
    "        h = F.sigmoid(self.conv2(h))\n",
    "        h = F.max_pooling_2d(h, 2, 2)\n",
    "        h = F.sigmoid(self.conv3(h))\n",
    "        h = F.sigmoid(self.fc4(h))\n",
    "        if chainer.config.train:\n",
    "            return self.fc5(h)\n",
    "        return F.softmax(self.fc5(h))"
   ]
  },
  {
   "cell_type": "code",
   "execution_count": 7,
   "metadata": {
    "colab": {},
    "colab_type": "code",
    "id": "nafY2Wgx6QLt"
   },
   "outputs": [],
   "source": [
    "class Model(Chain):\n",
    "    def __init__(self, in_channels, outsize):\n",
    "        super(Model, self).__init__()\n",
    "        ''' just inicializing different layers (Links [L]) '''\n",
    "        with self.init_scope():\n",
    "            # (1) start\n",
    "            # convolution2D_0 = ...\n",
    "            self.convolution2D_0 = L.Convolution2D(in_channels=3, out_channels=32, \n",
    "                                                   ksize=9, stride=1, pad=4)\n",
    "            # batchNormalization_0 = ...\n",
    "            self.batchNormalization_0 = L.BatchNormalization(32)\n",
    "            # convolution2D_1 = ...\n",
    "            self.convolution2D_1 = L.Convolution2D(in_channels=32, out_channels=64, \n",
    "                                                   ksize=3, stride=2, pad=1)\n",
    "            # batchNormalization_1 = ...\n",
    "            self.batchNormalization_1 = L.BatchNormalization(64)\n",
    "            # convolution2D_2 = ...\n",
    "            self.convolution2D_2 = L.Convolution2D(in_channels=64, out_channels=128, \n",
    "                                                   ksize=3, stride=2, pad=1)\n",
    "            # batchNormalization_2 = ...\n",
    "            self.batchNormalization_2 = L.BatchNormalization(128)\n",
    "        \n",
    "            \n",
    "            # residualBlock_3 = ...\n",
    "            self.residualBlock_3 = ResidualBlock(128, 128)\n",
    "            # residualBlock_4 = ...\n",
    "            self.residualBlock_4 = ResidualBlock(128, 128)\n",
    "            # residualBlock_5 = ...\n",
    "            self.residualBlock_5 = ResidualBlock(128, 128)\n",
    "            # residualBlock_6 = ...\n",
    "            self.residualBlock_6 = ResidualBlock(128, 128)\n",
    "            # residualBlock_7 = ...\n",
    "            self.residualBlock_7 = ResidualBlock(128, 128)\n",
    "            \n",
    "            # deconvolution2D_8 = ...\n",
    "            self.deconvolution2D_8 = L.Deconvolution2D(in_channels=128, out_channels=64, \n",
    "                                                       ksize=3, stride=2, pad=1, nobias=True, outsize=outsize)\n",
    "            # batchNormalization_8 = ...\n",
    "            self.batchNormalization_8 = L.BatchNormalization(64)\n",
    "            # (1) end\n",
    "            self.deconvolution2D_9 = L.Deconvolution2D(64, 32, 3, 2, 1, True, outsize)\n",
    "            self.batchNormalization_9 = L.BatchNormalization(32)\n",
    "            self.convolution2D_10 = L.Convolution2D(32, 3, 9, stride=1, pad = 4, nobias = True)\n",
    "            self.batchNormalization_10 = L.BatchNormalization(3)\n",
    "\n",
    "        self.in_channels = in_channels\n",
    "        self.outsize = outsize\n",
    "\n",
    "    def __call__(self, x, finetune = False):\n",
    "        ''' creating the model using the defined \n",
    "        layers and arranging them sequencially. (Functions [F])'''\n",
    "        h = self.convolution2D_0(x)\n",
    "        h = self.batchNormalization_0(h, finetune)\n",
    "        h = F.relu(h)\n",
    "        h = self.convolution2D_1(h)\n",
    "        h = self.batchNormalization_1(h, finetune)\n",
    "        h = F.relu(h)\n",
    "        h = self.convolution2D_2(h)\n",
    "        h = self.batchNormalization_2(h, finetune)\n",
    "        h = F.relu(h)\n",
    "        h = self.residualBlock_3(h, finetune)\n",
    "        h = self.residualBlock_4(h, finetune)\n",
    "        h = self.residualBlock_5(h, finetune)\n",
    "        h = self.residualBlock_6(h, finetune)\n",
    "        h = self.residualBlock_7(h, finetune)\n",
    "        h = self.deconvolution2D_8(h)\n",
    "        h = self.batchNormalization_8(h, finetune)\n",
    "        h = F.relu(h)\n",
    "        h = self.deconvolution2D_9(h)\n",
    "        h = self.batchNormalization_9(h, finetune)\n",
    "        h = F.relu(h)\n",
    "        h = self.convolution2D_10(h)\n",
    "        h = self.batchNormalization_10(h, finetune)\n",
    "        y = 127.5 * F.tanh(h) + 127.5 # QQQ: what is this\n",
    "\n",
    "        return y\n",
    "\n",
    "# Another way to define a chain is using the ChainList class, \n",
    "# which behaves like a list of links:\n",
    "class ModelCL(ChainList):\n",
    "    # (2) start\n",
    "    def __init__(self, in_channels, outsize):\n",
    "        # super init is the difference in ChainList\n",
    "        super(ModelCL, self).__init__(\n",
    "            L.Convolution2D(in_channels=3, out_channels=32, ksize=9, stride=1, pad=4),#0\n",
    "            L.BatchNormalization(32),#1\n",
    "            L.Convolution2D(in_channels=32, out_channels=64, ksize=3, stride=2, pad=1),#2\n",
    "            L.BatchNormalization(64),#3\n",
    "            L.Convolution2D(in_channels=64, out_channels=128, ksize=3, stride=2, pad=1),#4\n",
    "            L.BatchNormalization(128),#5\n",
    "            ResidualBlock(128, 128),#6\n",
    "            ResidualBlock(128, 128),#7\n",
    "            ResidualBlock(128, 128),#8\n",
    "            ResidualBlock(128, 128),#9\n",
    "            ResidualBlock(128, 128),#10\n",
    "            L.Deconvolution2D(in_channels=128, out_channels=64, ksize=3, stride=2, pad=1, nobias=True, \n",
    "                              outsize=outsize),#11\n",
    "            L.BatchNormalization(64),#12\n",
    "            L.Deconvolution2D(64, 32, 3, 2, 1, True, outsize),#13\n",
    "            L.BatchNormalization(32),#14\n",
    "            L.Convolution2D(32, 3, 9, pad = 4, nobias = True),#15\n",
    "            L.BatchNormalization(3)#16\n",
    "        )\n",
    "        \n",
    "        self.in_channels = in_channels\n",
    "        self.outsize = outsize\n",
    "\n",
    "    def __call__(self, x, finetune = False):\n",
    "        ''' creating the model using the defined \n",
    "        layers and arranging them sequencially. (Functions [F])'''\n",
    "        h = self[0](x)\n",
    "        h = self[1](h, finetune)\n",
    "        h = F.relu(h)\n",
    "        h = self[2](h)\n",
    "        h = self[3](h, finetune)\n",
    "        h = F.relu(h)\n",
    "        h = self[4](h)\n",
    "        h = self[5](h, finetune)\n",
    "        h = F.relu(h)\n",
    "        h = self[6](h, finetune)\n",
    "        h = self[7](h, finetune)\n",
    "        h = self[8](h, finetune)\n",
    "        h = self[9](h, finetune)\n",
    "        h = self[10](h, finetune)\n",
    "        h = self[11](h)\n",
    "        h = self[12](h, finetune)\n",
    "        h = F.relu(h)\n",
    "        h = self[13](h)\n",
    "        h = self[14](h, finetune)\n",
    "        h = F.relu(h)\n",
    "        h = self[15](h)\n",
    "        h = self[16](h, finetune)\n",
    "        y = 127.5 * F.tanh(h) + 127.5\n",
    "\n",
    "        return y\n",
    "    # (2) end\n",
    "\n",
    "'''\n",
    "Questions:\n",
    "1. nobias = for neurons no bias variable (b) form (W,b)\n",
    "2. pad ??\n",
    "3. \n",
    "'''    \n",
    "    \n",
    "class ResidualBlock(Chain):\n",
    "    def __init__(self, in_channels, out_channels):\n",
    "        super(ResidualBlock, self).__init__()\n",
    "\n",
    "        with self.init_scope():\n",
    "            self.convolution2D_0 = L.Convolution2D( in_channels, out_channels, ksize=3, \n",
    "                                                   stride=1, pad = 1, nobias = True)\n",
    "            self.batchNormalization_0 = L.BatchNormalization(out_channels)\n",
    "            self.convolution2D_1 = L.Convolution2D(out_channels, out_channels, ksize=3, \n",
    "                                                   stride=1, pad = 1, nobias = True)\n",
    "            self.batchNormalization_1 = L.BatchNormalization(out_channels)\n",
    "        \n",
    "        self.in_channels = in_channels\n",
    "        self.out_channels = out_channels\n",
    "\n",
    "    def __call__(self, x, finetune = False):\n",
    "        # (3) start - configuraiton might be different here\n",
    "        h = self.convolution2D_0(x)\n",
    "        h = self.batchNormalization_0(h, finetune)\n",
    "        h = F.relu(h)\n",
    "        h = self.convolution2D_1(h)\n",
    "        h = self.batchNormalization_1(h, finetune)\n",
    "        y = h+x # no activation is used; as for the paper\n",
    "        # (3) start\n",
    "\n",
    "        return y"
   ]
  },
  {
   "cell_type": "markdown",
   "metadata": {
    "colab_type": "text",
    "id": "euDbOQWT1UA8"
   },
   "source": [
    "**Loss classes (45 points)**  \n",
    "In the following cell, you will implement the loss classes.  \n",
    "*Tasks*  \n",
    "- (1) You are provided with a custom VGG-16 implementation. How does it differ than the original implementation? Why can we get away with using the simpler implementation? (**5 points**)\n",
    "- (2) Implement the missing convolution layer of the total variation loss by filling in the missing code. (**10 points**)\n",
    "- (3) Implement the forward pass of the total variation loss by filling in the missing code. (**10 points**)\n",
    "- (4) Implement the feature loss component in the forward pass of the loss function by filling in the missing code. (**10 points**)\n",
    "- (5) Explain why the loss components are scaled. (**5 points**)\n",
    "- (6) Explain why the target features are extracted in test mode. (**5 points**)"
   ]
  },
  {
   "cell_type": "code",
   "execution_count": 8,
   "metadata": {
    "colab": {},
    "colab_type": "code",
    "id": "9DqHGhS_1M_x"
   },
   "outputs": [],
   "source": [
    "class Vgg4Layers(Chain):\n",
    "    def __init__(self):\n",
    "        super(Vgg4Layers, self).__init__()\n",
    "\n",
    "        with self.init_scope():\n",
    "            self.conv1_1 = L.Convolution2D(  3,  64, 3, pad = 1)\n",
    "            self.conv1_2 = L.Convolution2D( 64,  64, 3, pad = 1)\n",
    "            self.conv2_1 = L.Convolution2D( 64, 128, 3, pad = 1)\n",
    "            self.conv2_2 = L.Convolution2D(128, 128, 3, pad = 1)\n",
    "        #wht is this - adding a persistent value\n",
    "        #self.add_persistent('mean', np.array([[[[103.939]],[[116.779]],[[ 123.68]]]], dtype='float32'))\n",
    "        self.mean = np.array([[[[103.939]],[[116.779]],[[ 123.68]]]], dtype='float32')\n",
    "\n",
    "    def __call__(self, x):\n",
    "        #broadcast_to = Broadcast a given variable to a given shape.\n",
    "        h = x - F.broadcast_to(self.mean, x.shape)\n",
    "        h = self.conv1_1(h)\n",
    "        h = F.relu(h)\n",
    "        h = self.conv1_2(h)\n",
    "        h = F.relu(h)\n",
    "        h = F.max_pooling_2d(h, 2, 2)\n",
    "        h = self.conv2_1(h)\n",
    "        h = F.relu(h)\n",
    "        h = self.conv2_2(h)\n",
    "        y = F.relu(h)\n",
    "\n",
    "        return y\n"
   ]
  },
  {
   "cell_type": "code",
   "execution_count": 8,
   "metadata": {},
   "outputs": [
    {
     "name": "stdout",
     "output_type": "stream",
     "text": [
      "[[[[-1.]\n",
      "   [ 1.]]\n",
      "\n",
      "  [[-1.]\n",
      "   [ 1.]]\n",
      "\n",
      "  [[-1.]\n",
      "   [ 1.]]]]\n",
      "(1, 3, 2, 1)\n"
     ]
    }
   ],
   "source": [
    "zzz = np.array([3 * [[[-1], [1]]]], 'float32')\n",
    "print(zzz)\n",
    "print(zzz.shape)"
   ]
  },
  {
   "cell_type": "code",
   "execution_count": 17,
   "metadata": {},
   "outputs": [],
   "source": [
    "# 1. Total Variation Loss\n",
    "# 2. feature loss\n",
    "'''\n",
    "How 2x2 kernal convolution produce the total variation loss\n",
    "how kernal values are initialized\n",
    "how does the 2x2 kernal convolution operation accomplish the total variation loss given in the eqn. Does the 2 layer\n",
    "struct. help with that.\n",
    "\n",
    "'''\n",
    "class TotalVariationLoss(Chain):\n",
    "    def __init__(self):\n",
    "        super(TotalVariationLoss, self).__init__()\n",
    "        with self.init_scope():\n",
    "            self.convolution2D_0 = L.Convolution2D(in_channels=3, out_channels=1, ksize=2, nobias=True, initialW=np.array([3 * [[[-1], [1]]]], 'float32'))\n",
    "            # (2) start\n",
    "            self.convolution2D_1 = L.Convolution2D(in_channels=1, out_channels=1, ksize=2, nobias=True, initialW=np.array([1 * [[[-1], [1]]]], 'float32'))\n",
    "            # (2) end\n",
    "\n",
    "    def __call__(self, x):\n",
    "        # (3) start\n",
    "        # y = ...\n",
    "        # (3) end\n",
    "        h = self.convolution2D_0(x)\n",
    "        h = self.convolution2D_1(h)\n",
    "        \n",
    "        return y\n",
    "\n",
    "    \n",
    "class LossFunction(object):\n",
    "    def __init__(self, lambda_):\n",
    "        self.totalVariationLoss = TotalVariationLoss()\n",
    "        self.vgg4Layers         = Vgg4Layers()\n",
    "\n",
    "    def __call__(t, y):            \n",
    "        with chainer.using_config('train', False):\n",
    "            t_ = self.vgg4Layers(t)\n",
    "        # (4) start\n",
    "        # y_ = ...\n",
    "            y_ = self.vgg4Layers(y)\n",
    "        \n",
    "        '''\n",
    "        class chainer.links.VGG16Layers(pretrained_model='auto')\n",
    "        model = chainer.links.VGG16Layers()\n",
    "        t_hat = model.extract(t, layers = [‘conv2_2’], (96, 96))\n",
    "        y_hat = model.extract(y, layers = [‘conv2_2’], (96, 96))\n",
    "        feature_loss = chainer.functions.mean_squared_error(t_hat, y_hat)\n",
    "        '''\n",
    "        \n",
    "        feature_loss = lambda_['feature'] * F.mean_squared_error(t_ , y_)\n",
    "        # (4) end\n",
    "        pixel_loss = lambda_['pixel'] * F.mean_squared_error(t , y)\n",
    "        total_variation_loss = lambda_['total_variation'] * self.totalVariationLoss(t, y)\n",
    "        loss = feature_loss + pixel_loss + total_variation_loss\n",
    "\n",
    "        return loss\n",
    "\n",
    "# (1) Write your answer here.\n",
    "# (5) Write your answer here.\n",
    "# (6) Write your answer here."
   ]
  },
  {
   "cell_type": "markdown",
   "metadata": {
    "colab_type": "text",
    "id": "_nGcCNEy8p3g"
   },
   "source": [
    "**Initialization (10 points)**  \n",
    "The following cell initializes the loss function, the loss history, the model, the optimizer, the datasets and the iterators. *You do not have to make any changes to the code.*  \n",
    "*Tasks*\n",
    "- (1) Study the code and refer to the chainer docuimentation if anything is unclear. You will be expected to write similar code by yourself in the coming practicals. (**0 points**)  \n",
    "- (2) What are the boolean arguments that are passed to the SerialIterator class? (**5 points**)  \n",
    "- (3) Why is it false for the training iterator but not for other iterators? In other words, what would happen if we were to set it to false for the training iterator and true for the other iterators? (**5 points**)"
   ]
  },
  {
   "cell_type": "code",
   "execution_count": 14,
   "metadata": {
    "colab": {},
    "colab_type": "code",
    "id": "hAa-KI4W-3Mm"
   },
   "outputs": [
    {
     "name": "stdout",
     "output_type": "stream",
     "text": [
      "13233\n"
     ]
    }
   ],
   "source": [
    "lossFunction = LossFunction(lambda_)\n",
    "serializers.load_npz('{:s}/Vgg4Layers.npz'.format(model_directory), lossFunction.vgg4Layers)\n",
    "loss_history = {'training': [], 'validation': []}\n",
    "model = Model(3, outsize) if device < 0 else Model(3, outsize).to_gpu(device)\n",
    "optimizer = Adam() # add param values\n",
    "\n",
    "optimizer.setup(model)\n",
    "import glob\n",
    "data_file = sorted(glob.glob('{}/*/*.jpg'.format(data_directory)))\n",
    "print(len(data_file))\n",
    "training_set = Dataset(data_file[:int(.64 * len(data_file))])\n",
    "validation_set = Dataset(data_file[int(.64 * len(data_file)) : int(.8 * len(data_file))])\n",
    "test_set = Dataset(data_file[int(.8 * len(data_file)) :])\n",
    "\n",
    "training_iterator = iterators.SerialIterator(training_set, batch_size, False, True)\n",
    "validation_iterator = iterators.SerialIterator(validation_set, batch_size, False, False)\n",
    "test_iterator = iterators.SerialIterator(test_set , batch_size, False, False)\n",
    "\n",
    "# (2) Write your answer here.\n",
    "# repeat=False, shuffle=False\n",
    "\n",
    "# (3) Write your answer here.\n",
    "# during the training process, it's batches are selected from a shuffled dataset which makes the training more \n",
    "# generalized. But if we shuffeld the test and validation data, metrics we use to evaluate the model \n",
    "# (accuracy, loss,..) will have much different values due to the shuffel. Hence, using unshuffeled data during test\n",
    "# validation makes it easier to determine that only training will effect the changes in evaluation metrics."
   ]
  },
  {
   "cell_type": "markdown",
   "metadata": {
    "colab_type": "text",
    "id": "KAKIEbqPFzsc"
   },
   "source": [
    "**Training and validation (20 points)**  \n",
    "In the following cell, you will train and validate your model.\n",
    "*Tasks*   \n",
    "- (1) Implement training loss estimation, backprop and parameter update. (**10 points**)\n",
    "- (2) Implement validation loss history (**5 points**)\n",
    "- (3) Implement model serialization  (**5 points**)"
   ]
  },
  {
   "cell_type": "code",
   "execution_count": 19,
   "metadata": {},
   "outputs": [
    {
     "name": "stdout",
     "output_type": "stream",
     "text": [
      "(4, 3, 96, 96)\n",
      "(4, 1, 96, 96)\n",
      "===============================================\n",
      "(4, 3, 96, 96)\n",
      "(4, 1, 96, 96)\n",
      "===============================================\n",
      "(4, 3, 96, 96)\n",
      "(4, 1, 96, 96)\n",
      "===============================================\n",
      "(2, 3, 96, 96)\n",
      "(2, 1, 96, 96)\n",
      "===============================================\n"
     ]
    }
   ],
   "source": [
    "aaa_test_set = Dataset(data_file[int(.999 * len(data_file)) :])\n",
    "aaa_iterator = iterators.SerialIterator(aaa_test_set , batch_size, False, False)\n",
    "for j, batch in enumerate(aaa_iterator):\n",
    "    with chainer.using_config('train', False):\n",
    "        #\n",
    "        t, x = concat_examples(batch)\n",
    "        #print(batch.shape)\n",
    "        print(t.shape)\n",
    "        print(x.shape)\n",
    "        print('===============================================')"
   ]
  },
  {
   "cell_type": "code",
   "execution_count": 0,
   "metadata": {
    "colab": {},
    "colab_type": "code",
    "id": "F-pOSKTw0tcK"
   },
   "outputs": [],
   "source": [
    "'''\n",
    "Questions\n",
    "\n",
    "'''\n",
    "for i in range(epochs):\n",
    "    loss_history['training'].append(0)\n",
    "\n",
    "    for j, batch in enumerate(training_iterator):\n",
    "        with chaine.using_config('train', True):\n",
    "            t, x = concat_examples(batch)\n",
    "            y = model(x)\n",
    "            # (1) start\n",
    "            # loss = ...\n",
    "            # ...\n",
    "            # ...\n",
    "            # ...\n",
    "            # (1) end\n",
    "\n",
    "        loss_history['training'][-1] += float(loss.data)\n",
    "\n",
    "    loss_history['training'][-1] /= j + 1\n",
    "    # (2) start\n",
    "    # ...\n",
    "\n",
    "    for j, batch in enumerate(validation_iterator):\n",
    "        with chaine.using_config('train', False):\n",
    "            t, x = concat_examples(batch)\n",
    "            y = model(x)\n",
    "            loss = lossFunction(t, y)\n",
    "\n",
    "        # ...\n",
    "\n",
    "    # ...\n",
    "    # (2) end\n",
    "    print('epoch: {:3d} / {:03d}, training loss: {:.4f}, validation loss: {:.4f}.'.format(i + 1, epochs, log['training'], log['validation']))\n",
    "    np.savez('{:s}/loss_history_{:03d}.npz'.format(model_directory, epoch), loss_history)\n",
    "    # (3) start\n",
    "    # ...\n",
    "    # (3) end\n",
    "    save_npz('{:s}/optimizer_{:03d}.npz'.format(model_directory, epoch), optimizer)"
   ]
  },
  {
   "cell_type": "markdown",
   "metadata": {
    "colab_type": "text",
    "id": "7YivB1PQ7Obh"
   },
   "source": [
    "**Test (45 points + 15 bonus points)**  \n",
    "In the following cell, you will test your model.  \n",
    "*Tasks*\n",
    "- (1) Estimate the test loss, print it and save it. (**15 points**)\n",
    "- (2) Estimate the validation metrics, print them and save them (tip: scikit-image) (**15 bonus points**)\n",
    "- (3) Plot example results (i.e., plot a few t, x and y) (**10 points**)\n",
    "- (4) Dicuss your implementation in 300 - 350 words (e.g., how good your results are, how you can improve your model, etc.) (**20 points**)"
   ]
  },
  {
   "cell_type": "code",
   "execution_count": 0,
   "metadata": {
    "colab": {},
    "colab_type": "code",
    "id": "zdlnCFDS-Cdh"
   },
   "outputs": [],
   "source": [
    "# (1), (2) and (3) start\n",
    "# .\n",
    "# .\n",
    "# .\n",
    "# (1), (2) and (3) end\n",
    "\n",
    "# (4) Write your answer here."
   ]
  }
 ],
 "metadata": {
  "colab": {
   "collapsed_sections": [],
   "name": "weeks_2_and_3_assignment.ipynb",
   "provenance": [],
   "version": "0.3.2"
  },
  "kernelspec": {
   "display_name": "Python 3",
   "language": "python",
   "name": "python3"
  },
  "language_info": {
   "codemirror_mode": {
    "name": "ipython",
    "version": 3
   },
   "file_extension": ".py",
   "mimetype": "text/x-python",
   "name": "python",
   "nbconvert_exporter": "python",
   "pygments_lexer": "ipython3",
   "version": "3.6.6"
  }
 },
 "nbformat": 4,
 "nbformat_minor": 1
}
