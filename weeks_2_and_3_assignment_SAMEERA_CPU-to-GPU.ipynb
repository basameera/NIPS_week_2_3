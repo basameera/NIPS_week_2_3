{
 "cells": [
  {
   "cell_type": "markdown",
   "metadata": {
    "colab_type": "text",
    "id": "HlqVBEfLBOF_"
   },
   "source": [
    "**SOW-MKI49: Neural Information Processing Systems**  \n",
    "*Weeks 2 and 3: Assignment (200 points + 20 bonus points + 1 bonus point for each bug you find and another bonus point if you debug it and before you ask, no, typos unfortunately are not considered bugs - first come, first served)*  \n",
    "Author: Umut"
   ]
  },
  {
   "cell_type": "code",
   "execution_count": null,
   "metadata": {
    "colab": {},
    "colab_type": "code",
    "id": "rT8BaKk5CpeB"
   },
   "outputs": [],
   "source": [
    "# Group 17: ...\n",
    "# Sameera Sandaruwan - s1014012\n",
    "# Student 2 name, student 2 number: ...\n",
    "# Student 3 name, student 3 number: ..."
   ]
  },
  {
   "cell_type": "markdown",
   "metadata": {},
   "source": [
    "# To Do List\n",
    "1. Finish questions answers - (image resizing function)\n",
    "2. Training problem - resize\n",
    "3. TotalVariation Loss"
   ]
  },
  {
   "cell_type": "code",
   "execution_count": 2,
   "metadata": {
    "colab": {},
    "colab_type": "code",
    "id": "00iIAIv37Del"
   },
   "outputs": [],
   "source": [
    "batch_size = 4\n",
    "data_directory = 'Data' # Make a directory to store the data and enter it here.\n",
    "                    # We will be using a smaller dataset (LFW) than the one used in the paper (CelebA) for computational resource considerations.\n",
    "                    # Download it from http://vis-www.cs.umass.edu/lfw/lfw-deepfunneled.tgz.\n",
    "device = 0 #sameera GPU - 0\n",
    "epochs = 4 #100\n",
    "lambda_ = {'feature': 1., 'pixel': 1., 'total_variation': 1e-5}\n",
    "model_directory = 'Model' # Make a directory to store the models and enter it here. Move Vgg4Layers.npz to the model directory.\n",
    "outsize = (96, 96)"
   ]
  },
  {
   "cell_type": "markdown",
   "metadata": {
    "colab_type": "text",
    "id": "86zZctPu1K2M"
   },
   "source": [
    "**Packages (10 points)**  \n",
    "In this cell, you will import the required packages.  \n",
    "*Tasks*   \n",
    "- (1) It is always good practice to first think about the big picture and not rush into writing code before clearly knowing everything that you will have to do so as to avoid future complications. Therefore, your first task is to study the skeleton code and come up with a plan of how to proceed. (**0 points**)\n",
    "- (2) However, I agree that doing so is arguably the most boring part of coding, and you rather skip it. To help you to resist the temptation of skipping going through the skeleton code, I have removed the import statements. Your second task is to Identify the required packages and import them. Note that if you are using Python 2.7, you should import print from the future. (**10 points**)"
   ]
  },
  {
   "cell_type": "code",
   "execution_count": 3,
   "metadata": {
    "colab": {},
    "colab_type": "code",
    "id": "RBiJw5pV030o"
   },
   "outputs": [],
   "source": [
    "# (2) start\n",
    "import numpy as np\n",
    "import cv2\n",
    "from PIL import Image\n",
    "import os\n",
    "from matplotlib import pyplot as plt\n",
    "%matplotlib inline\n"
   ]
  },
  {
   "cell_type": "code",
   "execution_count": 4,
   "metadata": {},
   "outputs": [],
   "source": [
    "import chainer\n",
    "from chainer import Function, gradient_check, report, training, utils, Variable\n",
    "from chainer import datasets, iterators, serializers, dataset\n",
    "from chainer import Link, Chain, ChainList\n",
    "from chainer.optimizers import Adam\n",
    "from chainer.dataset import concat_examples\n",
    "import chainer.functions as F\n",
    "import chainer.links as L\n",
    "from chainer.training import extensions"
   ]
  },
  {
   "cell_type": "code",
   "execution_count": 5,
   "metadata": {},
   "outputs": [],
   "source": [
    "from chainer.backends import cuda\n",
    "import cupy"
   ]
  },
  {
   "cell_type": "markdown",
   "metadata": {
    "colab_type": "text",
    "id": "JOhjvsOx9lJY"
   },
   "source": [
    "**Preprocessing functions (10 points + 5 bonus points)** (taken from https://github.com/mbeyeler/opencv-python-blueprints)  \n",
    "In the following cell, you will implement some of the preprocessing functions. The rest of the preprocessing steps have already been applied to the data.  \n",
    "*Tasks*\n",
    "- (1) Implement the resizing operation. That is, you should extract the data, resize each portrait to 96 pixels x 96 pixels and save them to the data directory as JPG. (**10 points **)\n",
    "- (2) The pencil sketch class implements the sketch effect in a simpler way than the one mentioned in the lecture. Explain how/why the used operations (blur and divide) convert portraits to sketches, and how it differs from that which was mentioned in the lecture? (**5 bonus points**)"
   ]
  },
  {
   "cell_type": "code",
   "execution_count": 6,
   "metadata": {
    "colab": {},
    "colab_type": "code",
    "id": "iY4lbpLK9kp4"
   },
   "outputs": [],
   "source": [
    "# (1) start\n",
    "# . Get from Jitendra\n",
    "# .\n",
    "# .\n",
    "# (1) end\n",
    "\n",
    "class PencilSketch:\n",
    "    \"\"\"Pencil sketch effect\n",
    "        A class that applies a pencil sketch effect to an image.\n",
    "    \"\"\"\n",
    "\n",
    "    def __init__(self, width, height, bg_gray='pencilsketch_bg.jpg'): #ERROR: can't have () here --> def __init__(self, (width, height)):\n",
    "        \"\"\"Initialize parameters\n",
    "            :param (width, height): Image size.\n",
    "        \"\"\"\n",
    "        self.width = width\n",
    "        self.height = height\n",
    "\n",
    "        ### ERROR: useless\n",
    "        # try to open background canvas (if it exists)\n",
    "        self.canvas = cv2.imread(bg_gray, cv2.CV_8UC1)\n",
    "        if self.canvas is not None:\n",
    "            self.canvas = cv2.resize(self.canvas, (self.width, self.height))\n",
    "\n",
    "    def render(self, img_rgb):\n",
    "        \"\"\"Applies pencil sketch effect to an RGB image\n",
    "            :param img_rgb: RGB image to be processed\n",
    "            :returns: Processed RGB image\n",
    "        \"\"\"\n",
    "        img_gray = cv2.cvtColor(img_rgb, cv2.COLOR_RGB2GRAY)\n",
    "        img_blur = cv2.GaussianBlur(img_gray, (21, 21), 0, 0)\n",
    "        img_blend = cv2.divide(img_gray, img_blur, scale=256)\n",
    "\n",
    "        # return cv2.cvtColor(img_blend, cv2.COLOR_GRAY2RGB)\n",
    "        return img_blend\n",
    "\n",
    "def pencil_sketch(img_rgb):\n",
    "    pencilSketch = PencilSketch(img_rgb.shape[1], img_rgb.shape[0])\n",
    "\n",
    "    return pencilSketch.render(img_rgb)\n",
    "\n",
    "# (2) Write your answer here.\n",
    "\n",
    "# chainer conv2d kernal works?\n",
    "\n",
    "#find out what this is\n",
    "def preprocess(img):\n",
    "    if img.mode == 'L':\n",
    "        return np.rollaxis(np.asarray(img, 'float32')[..., None], 2)\n",
    "    else:\n",
    "        return np.rollaxis(np.asarray(img, 'float32')[..., ::-1], 2)"
   ]
  },
  {
   "cell_type": "markdown",
   "metadata": {
    "colab_type": "text",
    "id": "ovQMUuo_7D2k"
   },
   "source": [
    "**Data class**  \n",
    "The following cell defines the data class. It is used to manage the data (loading, etc.). *You do not have to make any changes to the code.*  \n",
    "*Task*\n",
    "- (1) Study the code and refer to the chainer docuimentation if anything is unclear. You will be expected to write similar code by yourself in the coming practicals. (**0 points**)"
   ]
  },
  {
   "cell_type": "code",
   "execution_count": 7,
   "metadata": {
    "colab": {},
    "colab_type": "code",
    "id": "-OF39paH6wff"
   },
   "outputs": [],
   "source": [
    "class Dataset(dataset.DatasetMixin):\n",
    "    def __init__(self, data_files):\n",
    "        self.data_files = data_files\n",
    "\n",
    "    ## ERROR: indentation problem was here\n",
    "    def __len__(self):\n",
    "        return len(self.data_files)\n",
    "\n",
    "    def get_example(self, i):\n",
    "        t = np.asarray(Image.open(self.data_files[i]).convert('RGB').resize((96, 96), Image.LANCZOS), 'f').transpose(2, 0, 1)\n",
    "        x = pencil_sketch(np.asarray(Image.open(self.data_files[i]).convert('RGB').resize((96, 96), Image.LANCZOS), 'f'))[None]\n",
    "        return t, x #t-target (realistic img), x-input(sketch img)"
   ]
  },
  {
   "cell_type": "markdown",
   "metadata": {
    "colab_type": "text",
    "id": "iUjEFdDD6xBq"
   },
   "source": [
    "**Model classes (45 points)**  \n",
    "In the following cell you will implement the model classes.\n",
    "*Tasks*   \n",
    "- (1) Implement the layers of the model by filling in the missing code. (**20 points**)\n",
    "- (2) Reimplement the model as a ChainList instead of a Chain. (**5 points**)\n",
    "- (3) Implement the forward pass of the residual block by filling in the missing code. (**20 points**)"
   ]
  },
  {
   "cell_type": "markdown",
   "metadata": {},
   "source": [
    "# Notes\n",
    "### https://docs.chainer.org/en/stable/glance.html\n",
    "### https://docs.chainer.org/en/stable/guides/index.html\n",
    "### https://docs.chainer.org/en/stable/reference/index.html\n",
    "- what are in_channels, out_channels\n",
    "- wht Functions and Links\n",
    "- param of Convolution2D"
   ]
  },
  {
   "cell_type": "code",
   "execution_count": 8,
   "metadata": {
    "colab": {},
    "colab_type": "code",
    "id": "nafY2Wgx6QLt",
    "scrolled": true
   },
   "outputs": [],
   "source": [
    "class Model(Chain):\n",
    "    def __init__(self, in_channels, outsize):\n",
    "        super(Model, self).__init__()\n",
    "        ''' just inicializing different layers (Links [L]) '''\n",
    "        with self.init_scope():\n",
    "            # (1) start\n",
    "            # convolution2D_0 = ...\n",
    "            self.convolution2D_0 = L.Convolution2D(in_channels=in_channels, out_channels=32, \n",
    "                                                   ksize=9, stride=1, pad=4)\n",
    "            # batchNormalization_0 = ...\n",
    "            self.batchNormalization_0 = L.BatchNormalization(32)\n",
    "            # convolution2D_1 = ...\n",
    "            self.convolution2D_1 = L.Convolution2D(in_channels=32, out_channels=64, \n",
    "                                                   ksize=3, stride=2, pad=1)\n",
    "            # batchNormalization_1 = ...\n",
    "            self.batchNormalization_1 = L.BatchNormalization(64)\n",
    "            # convolution2D_2 = ...\n",
    "            self.convolution2D_2 = L.Convolution2D(in_channels=64, out_channels=128, \n",
    "                                                   ksize=3, stride=2, pad=1)\n",
    "            # batchNormalization_2 = ...\n",
    "            self.batchNormalization_2 = L.BatchNormalization(128)\n",
    "        \n",
    "            \n",
    "            # residualBlock_3 = ...\n",
    "            self.residualBlock_3 = ResidualBlock(128, 128)\n",
    "            # residualBlock_4 = ...\n",
    "            self.residualBlock_4 = ResidualBlock(128, 128)\n",
    "            # residualBlock_5 = ...\n",
    "            self.residualBlock_5 = ResidualBlock(128, 128)\n",
    "            # residualBlock_6 = ...\n",
    "            self.residualBlock_6 = ResidualBlock(128, 128)\n",
    "            # residualBlock_7 = ...\n",
    "            self.residualBlock_7 = ResidualBlock(128, 128)\n",
    "            \n",
    "            # deconvolution2D_8 = ...\n",
    "            #self.deconvolution2D_8 = L.Deconvolution2D(in_channels=128, out_channels=64, \n",
    "            #                                           ksize=3, stride=2, pad=1, nobias=True, outsize=outsize)\n",
    "            self.deconvolution2D_8 = L.Deconvolution2D(128, 64, 3, 2, 1, True, outsize=(48, 48))\n",
    "            # batchNormalization_8 = ...\n",
    "            self.batchNormalization_8 = L.BatchNormalization(64)\n",
    "            # (1) end\n",
    "            self.deconvolution2D_9 = L.Deconvolution2D(64, 32, 3, 2, 1, True, outsize=outsize)\n",
    "            self.batchNormalization_9 = L.BatchNormalization(32)\n",
    "            self.convolution2D_10 = L.Convolution2D(32, 3, 9, stride=1, pad=4, nobias = True)\n",
    "            self.batchNormalization_10 = L.BatchNormalization(3)\n",
    "\n",
    "        self.in_channels = in_channels\n",
    "        self.outsize = outsize\n",
    "\n",
    "    def __call__(self, x, finetune = False):\n",
    "        ''' creating the model using the defined \n",
    "        layers and arranging them sequencially. (Functions [F])'''\n",
    "        h = self.convolution2D_0(x)\n",
    "        h = self.batchNormalization_0(h, finetune=finetune)\n",
    "        h = F.relu(h)\n",
    "        h = self.convolution2D_1(h)\n",
    "        h = self.batchNormalization_1(h, finetune=finetune)\n",
    "        h = F.relu(h)\n",
    "        h = self.convolution2D_2(h)\n",
    "        h = self.batchNormalization_2(h, finetune=finetune)\n",
    "        h = F.relu(h)\n",
    "        h = self.residualBlock_3(h, finetune=finetune)\n",
    "        h = self.residualBlock_4(h, finetune=finetune)\n",
    "        h = self.residualBlock_5(h, finetune=finetune)\n",
    "        h = self.residualBlock_6(h, finetune=finetune)\n",
    "        h = self.residualBlock_7(h, finetune=finetune)\n",
    "        h = self.deconvolution2D_8(h)\n",
    "        h = self.batchNormalization_8(h, finetune=finetune)\n",
    "        h = F.relu(h)\n",
    "        h = self.deconvolution2D_9(h)\n",
    "        h = self.batchNormalization_9(h, finetune=finetune)\n",
    "        h = F.relu(h)\n",
    "        h = self.convolution2D_10(h)\n",
    "        h = self.batchNormalization_10(h, finetune=finetune)\n",
    "        y = 127.5 * F.tanh(h) + 127.5 # QQQ: what is this\n",
    "\n",
    "        return y\n",
    "\n",
    "# Another way to define a chain is using the ChainList class, \n",
    "# which behaves like a list of links:\n",
    "class ModelCL(ChainList):\n",
    "    # (2) start\n",
    "    def __init__(self, in_channels, outsize):\n",
    "        # super init is the difference in ChainList\n",
    "        super(ModelCL, self).__init__(\n",
    "            L.Convolution2D(in_channels=in_channels, out_channels=32, ksize=9, stride=1, pad=4),#0\n",
    "            L.BatchNormalization(32),#1\n",
    "            L.Convolution2D(in_channels=32, out_channels=64, ksize=3, stride=2, pad=1),#2\n",
    "            L.BatchNormalization(64),#3\n",
    "            L.Convolution2D(in_channels=64, out_channels=128, ksize=3, stride=2, pad=1),#4\n",
    "            L.BatchNormalization(128),#5\n",
    "            ResidualBlock(128, 128),#6\n",
    "            ResidualBlock(128, 128),#7\n",
    "            ResidualBlock(128, 128),#8\n",
    "            ResidualBlock(128, 128),#9\n",
    "            ResidualBlock(128, 128),#10\n",
    "            L.Deconvolution2D(in_channels=128, out_channels=64, ksize=3, stride=2, pad=1, nobias=True, \n",
    "                              outsize=(48,48)),#11\n",
    "            L.BatchNormalization(64),#12\n",
    "            L.Deconvolution2D(64, 32, 3, 2, 1, True, outsize),#13\n",
    "            L.BatchNormalization(32),#14\n",
    "            L.Convolution2D(32, 3, 9, pad = 4, nobias = True),#15\n",
    "            L.BatchNormalization(3)#16\n",
    "        )\n",
    "        \n",
    "        self.in_channels = in_channels\n",
    "        self.outsize = outsize\n",
    "\n",
    "    def __call__(self, x, finetune = False):\n",
    "        ''' creating the model using the defined \n",
    "        layers and arranging them sequencially. (Functions [F])'''\n",
    "        h = self[0](x)\n",
    "        h = self[1](h, finetune)\n",
    "        h = F.relu(h)\n",
    "        h = self[2](h)\n",
    "        h = self[3](h, finetune)\n",
    "        h = F.relu(h)\n",
    "        h = self[4](h)\n",
    "        h = self[5](h, finetune)\n",
    "        h = F.relu(h)\n",
    "        h = self[6](h, finetune)\n",
    "        h = self[7](h, finetune)\n",
    "        h = self[8](h, finetune)\n",
    "        h = self[9](h, finetune)\n",
    "        h = self[10](h, finetune)\n",
    "        h = self[11](h)\n",
    "        h = self[12](h, finetune)\n",
    "        h = F.relu(h)\n",
    "        h = self[13](h)\n",
    "        h = self[14](h, finetune)\n",
    "        h = F.relu(h)\n",
    "        h = self[15](h)\n",
    "        h = self[16](h, finetune)\n",
    "        y = 127.5 * F.tanh(h) + 127.5\n",
    "\n",
    "        return y\n",
    "    # (2) end\n",
    "\n",
    "'''\n",
    "Questions:\n",
    "1. nobias = for neurons no bias variable (b) form (W,b)\n",
    "2. pad ??\n",
    "3. \n",
    "'''    \n",
    "    \n",
    "class ResidualBlock(Chain):\n",
    "    def __init__(self, in_channels, out_channels):\n",
    "        super(ResidualBlock, self).__init__()\n",
    "\n",
    "        with self.init_scope():\n",
    "            self.convolution2D_0 = L.Convolution2D( in_channels, out_channels, ksize=3, \n",
    "                                                   stride=1, pad = 1, nobias = True)\n",
    "            self.batchNormalization_0 = L.BatchNormalization(out_channels)\n",
    "            self.convolution2D_1 = L.Convolution2D(out_channels, out_channels, ksize=3, \n",
    "                                                   stride=1, pad = 1, nobias = True)\n",
    "            self.batchNormalization_1 = L.BatchNormalization(out_channels)\n",
    "        \n",
    "        self.in_channels = in_channels\n",
    "        self.out_channels = out_channels\n",
    "\n",
    "    def __call__(self, x, finetune = False):\n",
    "        # (3) start - configuraiton might be different here\n",
    "        h = self.convolution2D_0(x)\n",
    "        h = self.batchNormalization_0(h, finetune=finetune)\n",
    "        h = F.relu(h)\n",
    "        h = self.convolution2D_1(h)\n",
    "        h = self.batchNormalization_1(h, finetune=finetune)\n",
    "        y = h+x # no activation is used; as for the paper\n",
    "        # (3) start\n",
    "\n",
    "        return y"
   ]
  },
  {
   "cell_type": "markdown",
   "metadata": {
    "colab_type": "text",
    "id": "euDbOQWT1UA8"
   },
   "source": [
    "**Loss classes (45 points)**  \n",
    "In the following cell, you will implement the loss classes.  \n",
    "*Tasks*  \n",
    "- (1) You are provided with a custom VGG-16 implementation. How does it differ than the original implementation? Why can we get away with using the simpler implementation? (**5 points**)\n",
    "- (2) Implement the missing convolution layer of the total variation loss by filling in the missing code. (**10 points**)\n",
    "- (3) Implement the forward pass of the total variation loss by filling in the missing code. (**10 points**)\n",
    "- (4) Implement the feature loss component in the forward pass of the loss function by filling in the missing code. (**10 points**)\n",
    "- (5) Explain why the loss components are scaled. (**5 points**)\n",
    "- (6) Explain why the target features are extracted in test mode. (**5 points**)"
   ]
  },
  {
   "cell_type": "code",
   "execution_count": 9,
   "metadata": {
    "colab": {},
    "colab_type": "code",
    "id": "9DqHGhS_1M_x"
   },
   "outputs": [],
   "source": [
    "class Vgg4Layers(Chain):\n",
    "    def __init__(self):\n",
    "        super(Vgg4Layers, self).__init__()\n",
    "\n",
    "        with self.init_scope():\n",
    "            self.conv1_1 = L.Convolution2D(  3,  64, 3, pad = 1)\n",
    "            self.conv1_2 = L.Convolution2D( 64,  64, 3, pad = 1)\n",
    "            self.conv2_1 = L.Convolution2D( 64, 128, 3, pad = 1)\n",
    "            self.conv2_2 = L.Convolution2D(128, 128, 3, pad = 1)\n",
    "        #wht is this - adding a persistent value\n",
    "        #Link.add_persistent(self, name='mean', value=np.array([[[[103.939]],[[116.779]],[[ 123.68]]]], dtype='float32'))\n",
    "        #self.mean = np.array([[[[103.939]],[[116.779]],[[ 123.68]]]], dtype='float32')\n",
    "\n",
    "    def __call__(self, x):\n",
    "        #broadcast_to = Broadcast a given variable to a given shape.\n",
    "        h = x - F.broadcast_to(self.mean, x.shape)\n",
    "        h = self.conv1_1(h)\n",
    "        h = F.relu(h)\n",
    "        h = self.conv1_2(h)\n",
    "        h = F.relu(h)\n",
    "        h = F.max_pooling_2d(h, 2, 2)\n",
    "        h = self.conv2_1(h)\n",
    "        h = F.relu(h)\n",
    "        h = self.conv2_2(h)\n",
    "        y = F.relu(h)\n",
    "\n",
    "        return y\n"
   ]
  },
  {
   "cell_type": "code",
   "execution_count": 18,
   "metadata": {},
   "outputs": [
    {
     "name": "stdout",
     "output_type": "stream",
     "text": [
      "(1, 3, 2, 1)\n",
      "(1, 3, 1, 2)\n",
      "<class 'numpy.ndarray'>\n"
     ]
    },
    {
     "ename": "TypeError",
     "evalue": "'numpy.ndarray' object is not callable",
     "output_type": "error",
     "traceback": [
      "\u001b[0;31m---------------------------------------------------------------------------\u001b[0m",
      "\u001b[0;31mTypeError\u001b[0m                                 Traceback (most recent call last)",
      "\u001b[0;32m<ipython-input-18-c5e6b00ca6f2>\u001b[0m in \u001b[0;36m<module>\u001b[0;34m()\u001b[0m\n\u001b[1;32m      7\u001b[0m \u001b[0mprint\u001b[0m\u001b[0;34m(\u001b[0m\u001b[0mtype\u001b[0m\u001b[0;34m(\u001b[0m\u001b[0mW1\u001b[0m\u001b[0;34m)\u001b[0m\u001b[0;34m)\u001b[0m\u001b[0;34m\u001b[0m\u001b[0m\n\u001b[1;32m      8\u001b[0m \u001b[0;34m\u001b[0m\u001b[0m\n\u001b[0;32m----> 9\u001b[0;31m \u001b[0mwc1\u001b[0m \u001b[0;34m=\u001b[0m \u001b[0mchainer\u001b[0m\u001b[0;34m.\u001b[0m\u001b[0minitializers\u001b[0m\u001b[0;34m.\u001b[0m\u001b[0mgenerate_array\u001b[0m\u001b[0;34m(\u001b[0m\u001b[0mW1\u001b[0m\u001b[0;34m,\u001b[0m \u001b[0;34m(\u001b[0m\u001b[0;36m1\u001b[0m\u001b[0;34m,\u001b[0m \u001b[0;36m3\u001b[0m\u001b[0;34m,\u001b[0m \u001b[0;36m2\u001b[0m\u001b[0;34m,\u001b[0m \u001b[0;36m1\u001b[0m\u001b[0;34m)\u001b[0m\u001b[0;34m,\u001b[0m \u001b[0mcupy\u001b[0m\u001b[0;34m)\u001b[0m\u001b[0;34m\u001b[0m\u001b[0m\n\u001b[0m",
      "\u001b[0;32m~/anaconda3/envs/NIPS/lib/python3.6/site-packages/chainer/initializers/__init__.py\u001b[0m in \u001b[0;36mgenerate_array\u001b[0;34m(initializer, shape, xp)\u001b[0m\n\u001b[1;32m     44\u001b[0m         \u001b[0mdtype\u001b[0m \u001b[0;34m=\u001b[0m \u001b[0minitializer\u001b[0m\u001b[0;34m.\u001b[0m\u001b[0mdtype\u001b[0m\u001b[0;34m\u001b[0m\u001b[0m\n\u001b[1;32m     45\u001b[0m     \u001b[0marray\u001b[0m \u001b[0;34m=\u001b[0m \u001b[0mxp\u001b[0m\u001b[0;34m.\u001b[0m\u001b[0mempty\u001b[0m\u001b[0;34m(\u001b[0m\u001b[0mshape\u001b[0m\u001b[0;34m,\u001b[0m \u001b[0mdtype\u001b[0m\u001b[0;34m=\u001b[0m\u001b[0mdtype\u001b[0m\u001b[0;34m)\u001b[0m\u001b[0;34m\u001b[0m\u001b[0m\n\u001b[0;32m---> 46\u001b[0;31m     \u001b[0minitializer\u001b[0m\u001b[0;34m(\u001b[0m\u001b[0marray\u001b[0m\u001b[0;34m)\u001b[0m\u001b[0;34m\u001b[0m\u001b[0m\n\u001b[0m\u001b[1;32m     47\u001b[0m     \u001b[0;32mreturn\u001b[0m \u001b[0marray\u001b[0m\u001b[0;34m\u001b[0m\u001b[0m\n\u001b[1;32m     48\u001b[0m \u001b[0;34m\u001b[0m\u001b[0m\n",
      "\u001b[0;31mTypeError\u001b[0m: 'numpy.ndarray' object is not callable"
     ]
    }
   ],
   "source": [
    "W1 = np.array([3 * [[[-1], [1]]]], 'float32')\n",
    "W2 = np.array([3 * [[[-1, 1]]]], 'float32')\n",
    "\n",
    "print(W1.shape)\n",
    "print(W2.shape)\n",
    "\n",
    "print(type(W1))\n",
    "\n",
    "wc1 = chainer.initializers.generate_array(W1, (1, 3, 2, 1), cupy)"
   ]
  },
  {
   "cell_type": "code",
   "execution_count": 34,
   "metadata": {},
   "outputs": [],
   "source": [
    "# 1. Total Variation Loss\n",
    "# 2. feature loss\n",
    "'''\n",
    "How 2x2 kernal convolution produce the total variation loss\n",
    "how kernal values are initialized\n",
    "how does the 2x2 kernal convolution operation accomplish the total variation loss given in the eqn. \n",
    "Does the 2 layer\n",
    "struct. help with that.\n",
    "\n",
    "Convolve input with the kernel [-1; 1] and square\n",
    "Convolve input with the kernel [-1, 1] and square\n",
    "Sum everything and take the square root\n",
    "\n",
    "'''\n",
    "class TotalVariationLoss(Chain):\n",
    "    def __init__(self):\n",
    "        super(TotalVariationLoss, self).__init__()\n",
    "        with self.init_scope():\n",
    "            with chainer.using_config('autotune', True):\n",
    "                W1 = np.array([3 * [[[-1], [1]]]], 'float32')\n",
    "                W2 = np.array([3 * [[[-1, 1]]]], 'float32')\n",
    "\n",
    "                #print(type(W1))\n",
    "                W1 = cupy.asarray([3 * [[[-1], [1]]]])\n",
    "                #print(type(W1))\n",
    "                W2 = cupy.asarray([3 * [[[-1, 1]]]])\n",
    "\n",
    "                self.convolution2D_0 = L.Convolution2D(in_channels=3, out_channels=1, ksize=2, \n",
    "                                                       nobias=True, initialW=W1).to_gpu(device)\n",
    "                # (2) start\n",
    "                self.convolution2D_1 = L.Convolution2D(in_channels=3, out_channels=1, ksize=2, \n",
    "                                                       nobias=True, initialW=W2).to_gpu(device)\n",
    "                # (2) end\n",
    "\n",
    "    def __call__(self, x):\n",
    "        # (3) start\n",
    "        # y = ...\n",
    "        # (3) end\n",
    "        h = self.convolution2D_0(x)\n",
    "        sq1 = np.square(h)\n",
    "        h = self.convolution2D_1(x)\n",
    "        sq2 = np.square(h)\n",
    "        loss_sum = sq1+sq2\n",
    "        y = loss_sum ** 0.5\n",
    "        y = np.sum(y)\n",
    "        \n",
    "        return y\n",
    "\n",
    "    \n",
    "class LossFunction(object):\n",
    "    def __init__(self, lambda_):\n",
    "        self.totalVariationLoss = TotalVariationLoss()\n",
    "        self.vgg4Layers         = Vgg4Layers()\n",
    "\n",
    "    def __call__(self, t, y):            \n",
    "        self.vgg4Layers.to_gpu(device)\n",
    "        with chainer.using_config('train', False):\n",
    "            t_ = self.vgg4Layers(t)\n",
    "        # (4) start\n",
    "        # y_ = ...\n",
    "            y_ = self.vgg4Layers(y)\n",
    "        \n",
    "        '''\n",
    "        class chainer.links.VGG16Layers(pretrained_model='auto')\n",
    "        model = chainer.links.VGG16Layers()\n",
    "        t_hat = model.extract(t, layers = [‘conv2_2’], (96, 96))\n",
    "        y_hat = model.extract(y, layers = [‘conv2_2’], (96, 96))\n",
    "        feature_loss = chainer.functions.mean_squared_error(t_hat, y_hat)\n",
    "        '''\n",
    "        \n",
    "        feature_loss = lambda_['feature'] * F.mean_squared_error(t_ , y_)\n",
    "        # (4) end\n",
    "        pixel_loss = lambda_['pixel'] * F.mean_squared_error(t , y)\n",
    "        total_variation_loss = lambda_['total_variation'] * self.totalVariationLoss(y)\n",
    "        loss = feature_loss + pixel_loss + total_variation_loss\n",
    "\n",
    "        return loss\n",
    "\n",
    "# (1) Write your answer here.\n",
    "# (5) Write your answer here.\n",
    "# (6) Write your answer here."
   ]
  },
  {
   "cell_type": "markdown",
   "metadata": {
    "colab_type": "text",
    "id": "_nGcCNEy8p3g"
   },
   "source": [
    "**Initialization (10 points)**  \n",
    "The following cell initializes the loss function, the loss history, the model, the optimizer, the datasets and the iterators. *You do not have to make any changes to the code.*  \n",
    "*Tasks*\n",
    "- (1) Study the code and refer to the chainer docuimentation if anything is unclear. You will be expected to write similar code by yourself in the coming practicals. (**0 points**)  \n",
    "- (2) What are the boolean arguments that are passed to the SerialIterator class? (**5 points**)  \n",
    "- (3) Why is it false for the training iterator but not for other iterators? In other words, what would happen if we were to set it to false for the training iterator and true for the other iterators? (**5 points**)"
   ]
  },
  {
   "cell_type": "code",
   "execution_count": 35,
   "metadata": {
    "colab": {},
    "colab_type": "code",
    "id": "hAa-KI4W-3Mm"
   },
   "outputs": [
    {
     "ename": "TypeError",
     "evalue": "invalid type of initializer: <class 'cupy.core.core.ndarray'>",
     "output_type": "error",
     "traceback": [
      "\u001b[0;31m---------------------------------------------------------------------------\u001b[0m",
      "\u001b[0;31mTypeError\u001b[0m                                 Traceback (most recent call last)",
      "\u001b[0;32m<ipython-input-35-8dfe0f5062c2>\u001b[0m in \u001b[0;36m<module>\u001b[0;34m()\u001b[0m\n\u001b[0;32m----> 1\u001b[0;31m \u001b[0mlossFunction\u001b[0m \u001b[0;34m=\u001b[0m \u001b[0mLossFunction\u001b[0m\u001b[0;34m(\u001b[0m\u001b[0mlambda_\u001b[0m\u001b[0;34m)\u001b[0m\u001b[0;34m\u001b[0m\u001b[0m\n\u001b[0m\u001b[1;32m      2\u001b[0m \u001b[0mserializers\u001b[0m\u001b[0;34m.\u001b[0m\u001b[0mload_npz\u001b[0m\u001b[0;34m(\u001b[0m\u001b[0;34m'{:s}/Vgg4Layers.npz'\u001b[0m\u001b[0;34m.\u001b[0m\u001b[0mformat\u001b[0m\u001b[0;34m(\u001b[0m\u001b[0mmodel_directory\u001b[0m\u001b[0;34m)\u001b[0m\u001b[0;34m,\u001b[0m \u001b[0mlossFunction\u001b[0m\u001b[0;34m.\u001b[0m\u001b[0mvgg4Layers\u001b[0m\u001b[0;34m)\u001b[0m\u001b[0;34m\u001b[0m\u001b[0m\n\u001b[1;32m      3\u001b[0m '''Question\n\u001b[1;32m      4\u001b[0m \u001b[0mWhat\u001b[0m \u001b[0mdoes\u001b[0m \u001b[0mmean\u001b[0m \u001b[0mdo\u001b[0m\u001b[0;31m?\u001b[0m\u001b[0;31m?\u001b[0m\u001b[0;34m\u001b[0m\u001b[0m\n\u001b[1;32m      5\u001b[0m '''\n",
      "\u001b[0;32m<ipython-input-34-aefde6df1d01>\u001b[0m in \u001b[0;36m__init__\u001b[0;34m(self, lambda_)\u001b[0m\n\u001b[1;32m     50\u001b[0m \u001b[0;32mclass\u001b[0m \u001b[0mLossFunction\u001b[0m\u001b[0;34m(\u001b[0m\u001b[0mobject\u001b[0m\u001b[0;34m)\u001b[0m\u001b[0;34m:\u001b[0m\u001b[0;34m\u001b[0m\u001b[0m\n\u001b[1;32m     51\u001b[0m     \u001b[0;32mdef\u001b[0m \u001b[0m__init__\u001b[0m\u001b[0;34m(\u001b[0m\u001b[0mself\u001b[0m\u001b[0;34m,\u001b[0m \u001b[0mlambda_\u001b[0m\u001b[0;34m)\u001b[0m\u001b[0;34m:\u001b[0m\u001b[0;34m\u001b[0m\u001b[0m\n\u001b[0;32m---> 52\u001b[0;31m         \u001b[0mself\u001b[0m\u001b[0;34m.\u001b[0m\u001b[0mtotalVariationLoss\u001b[0m \u001b[0;34m=\u001b[0m \u001b[0mTotalVariationLoss\u001b[0m\u001b[0;34m(\u001b[0m\u001b[0;34m)\u001b[0m\u001b[0;34m\u001b[0m\u001b[0m\n\u001b[0m\u001b[1;32m     53\u001b[0m         \u001b[0mself\u001b[0m\u001b[0;34m.\u001b[0m\u001b[0mvgg4Layers\u001b[0m         \u001b[0;34m=\u001b[0m \u001b[0mVgg4Layers\u001b[0m\u001b[0;34m(\u001b[0m\u001b[0;34m)\u001b[0m\u001b[0;34m\u001b[0m\u001b[0m\n\u001b[1;32m     54\u001b[0m \u001b[0;34m\u001b[0m\u001b[0m\n",
      "\u001b[0;32m<ipython-input-34-aefde6df1d01>\u001b[0m in \u001b[0;36m__init__\u001b[0;34m(self)\u001b[0m\n\u001b[1;32m     27\u001b[0m \u001b[0;34m\u001b[0m\u001b[0m\n\u001b[1;32m     28\u001b[0m                 self.convolution2D_0 = L.Convolution2D(in_channels=3, out_channels=1, ksize=2, \n\u001b[0;32m---> 29\u001b[0;31m                                                        nobias=True, initialW=W1).to_gpu(device)\n\u001b[0m\u001b[1;32m     30\u001b[0m                 \u001b[0;31m# (2) start\u001b[0m\u001b[0;34m\u001b[0m\u001b[0;34m\u001b[0m\u001b[0m\n\u001b[1;32m     31\u001b[0m                 self.convolution2D_1 = L.Convolution2D(in_channels=3, out_channels=1, ksize=2, \n",
      "\u001b[0;32m~/anaconda3/envs/NIPS/lib/python3.6/site-packages/chainer/links/connection/convolution_2d.py\u001b[0m in \u001b[0;36m__init__\u001b[0;34m(self, in_channels, out_channels, ksize, stride, pad, nobias, initialW, initial_bias, **kwargs)\u001b[0m\n\u001b[1;32m    135\u001b[0m \u001b[0;34m\u001b[0m\u001b[0m\n\u001b[1;32m    136\u001b[0m         \u001b[0;32mwith\u001b[0m \u001b[0mself\u001b[0m\u001b[0;34m.\u001b[0m\u001b[0minit_scope\u001b[0m\u001b[0;34m(\u001b[0m\u001b[0;34m)\u001b[0m\u001b[0;34m:\u001b[0m\u001b[0;34m\u001b[0m\u001b[0m\n\u001b[0;32m--> 137\u001b[0;31m             \u001b[0mW_initializer\u001b[0m \u001b[0;34m=\u001b[0m \u001b[0minitializers\u001b[0m\u001b[0;34m.\u001b[0m\u001b[0m_get_initializer\u001b[0m\u001b[0;34m(\u001b[0m\u001b[0minitialW\u001b[0m\u001b[0;34m)\u001b[0m\u001b[0;34m\u001b[0m\u001b[0m\n\u001b[0m\u001b[1;32m    138\u001b[0m             \u001b[0mself\u001b[0m\u001b[0;34m.\u001b[0m\u001b[0mW\u001b[0m \u001b[0;34m=\u001b[0m \u001b[0mvariable\u001b[0m\u001b[0;34m.\u001b[0m\u001b[0mParameter\u001b[0m\u001b[0;34m(\u001b[0m\u001b[0mW_initializer\u001b[0m\u001b[0;34m)\u001b[0m\u001b[0;34m\u001b[0m\u001b[0m\n\u001b[1;32m    139\u001b[0m             \u001b[0;32mif\u001b[0m \u001b[0min_channels\u001b[0m \u001b[0;32mis\u001b[0m \u001b[0;32mnot\u001b[0m \u001b[0;32mNone\u001b[0m\u001b[0;34m:\u001b[0m\u001b[0;34m\u001b[0m\u001b[0m\n",
      "\u001b[0;32m~/anaconda3/envs/NIPS/lib/python3.6/site-packages/chainer/initializers/__init__.py\u001b[0m in \u001b[0;36m_get_initializer\u001b[0;34m(initializer)\u001b[0m\n\u001b[1;32m     57\u001b[0m \u001b[0;34m\u001b[0m\u001b[0m\n\u001b[1;32m     58\u001b[0m     \u001b[0;32mif\u001b[0m \u001b[0;32mnot\u001b[0m \u001b[0mcallable\u001b[0m\u001b[0;34m(\u001b[0m\u001b[0minitializer\u001b[0m\u001b[0;34m)\u001b[0m\u001b[0;34m:\u001b[0m\u001b[0;34m\u001b[0m\u001b[0m\n\u001b[0;32m---> 59\u001b[0;31m         \u001b[0;32mraise\u001b[0m \u001b[0mTypeError\u001b[0m\u001b[0;34m(\u001b[0m\u001b[0;34m'invalid type of initializer: %s'\u001b[0m \u001b[0;34m%\u001b[0m \u001b[0mtype\u001b[0m\u001b[0;34m(\u001b[0m\u001b[0minitializer\u001b[0m\u001b[0;34m)\u001b[0m\u001b[0;34m)\u001b[0m\u001b[0;34m\u001b[0m\u001b[0m\n\u001b[0m\u001b[1;32m     60\u001b[0m     \u001b[0;32mreturn\u001b[0m \u001b[0minitializer\u001b[0m\u001b[0;34m\u001b[0m\u001b[0m\n",
      "\u001b[0;31mTypeError\u001b[0m: invalid type of initializer: <class 'cupy.core.core.ndarray'>"
     ]
    }
   ],
   "source": [
    "lossFunction = LossFunction(lambda_)\n",
    "serializers.load_npz('{:s}/Vgg4Layers.npz'.format(model_directory), lossFunction.vgg4Layers)\n",
    "'''Question\n",
    "What does mean do??\n",
    "'''\n",
    "lossFunction.vgg4Layers.add_persistent('mean', np.array([[[[103.939]], [[116.779]], [[123.68]]]], 'float32'))\n",
    "\n",
    "loss_history = {'training': [], 'validation': []}\n",
    "model = Model(1, outsize) if device < 0 else Model(1, outsize).to_gpu(device)\n",
    "\n",
    "# Adam parameters\n",
    "# alpha = 0.001/0.0002, beta1= 0.9/0.5, beta2 = 0.999, epsilon = 1/0.1/1e-8\n",
    "\n",
    "\n",
    "optimizer = Adam(alpha=0.001, beta1=0.9, beta2=0.999, eps=1e-08)\n",
    "optimizer.setup(model)\n",
    "\n",
    "\n",
    "import glob\n",
    "data_file = sorted(glob.glob('{}/*/*.jpg'.format(data_directory)))\n",
    "print(len(data_file))\n",
    "\n",
    "train_len = 0.799\n",
    "training_set = Dataset(data_file[:int(train_len * len(data_file))])\n",
    "validation_set = Dataset(data_file[int(train_len * len(data_file)) : int(.8 * len(data_file))])\n",
    "test_set = Dataset(data_file[int(.8 * len(data_file)) :])\n",
    "\n",
    "\n",
    "training_iterator = iterators.SerialIterator(training_set, batch_size, False, True)\n",
    "validation_iterator = iterators.SerialIterator(validation_set, batch_size, False, False)\n",
    "test_iterator = iterators.SerialIterator(test_set , batch_size, False, False)\n",
    "\n",
    "\n",
    "debug_test_set_1 = Dataset(data_file[-4:])\n",
    "debug_test_set_2 = Dataset(data_file[-4:])\n",
    "debug_test_iterator_1 = iterators.SerialIterator(debug_test_set_1 , batch_size, False, False)\n",
    "debug_test_iterator_2 = iterators.SerialIterator(debug_test_set_2 , batch_size, False, False)\n",
    "# (2) Write your answer here.\n",
    "# repeat=False, shuffle=False\n",
    "\n",
    "# (3) Write your answer here.\n",
    "# during the training process, it's batches are selected from a shuffled dataset which makes the training more \n",
    "# generalized. But if we shuffeld the test and validation data, metrics we use to evaluate the model \n",
    "# (accuracy, loss,..) will have much different values due to the shuffel. Hence, using unshuffeled data during test\n",
    "# validation makes it easier to determine that only training will effect the changes in evaluation metrics."
   ]
  },
  {
   "cell_type": "code",
   "execution_count": 73,
   "metadata": {
    "collapsed": true
   },
   "outputs": [
    {
     "name": "stdout",
     "output_type": "stream",
     "text": [
      "(4, 1, 95, 95)\n",
      "(4, 1, 95, 95)\n",
      "---\n",
      "<class 'numpy.ndarray'>\n",
      "(4, 1, 95, 95)\n",
      "<class 'chainer.variable.Variable'>\n",
      "()\n",
      "variable(597145.4)\n",
      "(4, 1, 95, 95)\n",
      "(4, 1, 95, 95)\n",
      "---\n",
      "<class 'numpy.ndarray'>\n",
      "(4, 1, 95, 95)\n",
      "<class 'chainer.variable.Variable'>\n",
      "()\n",
      "variable(615107.6)\n",
      "(4, 1, 95, 95)\n",
      "(4, 1, 95, 95)\n",
      "---\n",
      "<class 'numpy.ndarray'>\n",
      "(4, 1, 95, 95)\n",
      "<class 'chainer.variable.Variable'>\n",
      "()\n",
      "variable(669783.56)\n",
      "(2, 1, 95, 95)\n",
      "(2, 1, 95, 95)\n",
      "---\n",
      "<class 'numpy.ndarray'>\n",
      "(2, 1, 95, 95)\n",
      "<class 'chainer.variable.Variable'>\n",
      "()\n",
      "variable(630671.7)\n"
     ]
    }
   ],
   "source": [
    "aaa_test_set = Dataset(data_file[int(.999 * len(data_file)) :])\n",
    "aaa_iterator = iterators.SerialIterator(aaa_test_set , batch_size, False, True)\n",
    "for j, batch in enumerate(aaa_iterator):\n",
    "    with chainer.using_config('train', True):\n",
    "        t, x = concat_examples(batch=batch, device=device)\n",
    "        y = model(x)\n",
    "        loss = lossFunction(t, y)\n",
    "        print(loss)"
   ]
  },
  {
   "cell_type": "code",
   "execution_count": 14,
   "metadata": {
    "scrolled": true
   },
   "outputs": [
    {
     "ename": "TypeError",
     "evalue": "incompatible array types are mixed in the forward input (Convolution2DFunction).\nActual: <class 'cupy.core.core.ndarray'>, <class 'numpy.ndarray'>",
     "output_type": "error",
     "traceback": [
      "\u001b[0;31m---------------------------------------------------------------------------\u001b[0m",
      "\u001b[0;31mTypeError\u001b[0m                                 Traceback (most recent call last)",
      "\u001b[0;32m<ipython-input-14-6ba2ebbde2f6>\u001b[0m in \u001b[0;36m<module>\u001b[0;34m()\u001b[0m\n\u001b[1;32m     14\u001b[0m             \u001b[0my\u001b[0m \u001b[0;34m=\u001b[0m \u001b[0mmodel\u001b[0m\u001b[0;34m(\u001b[0m\u001b[0mx\u001b[0m\u001b[0;34m)\u001b[0m\u001b[0;34m\u001b[0m\u001b[0m\n\u001b[1;32m     15\u001b[0m             \u001b[0;31m# (1) start\u001b[0m\u001b[0;34m\u001b[0m\u001b[0;34m\u001b[0m\u001b[0m\n\u001b[0;32m---> 16\u001b[0;31m             \u001b[0mloss\u001b[0m \u001b[0;34m=\u001b[0m \u001b[0mlossFunction\u001b[0m\u001b[0;34m(\u001b[0m\u001b[0mt\u001b[0m\u001b[0;34m,\u001b[0m \u001b[0my\u001b[0m\u001b[0;34m)\u001b[0m\u001b[0;34m\u001b[0m\u001b[0m\n\u001b[0m\u001b[1;32m     17\u001b[0m             \u001b[0;31m# Calculate the gradients in the network\u001b[0m\u001b[0;34m\u001b[0m\u001b[0;34m\u001b[0m\u001b[0m\n\u001b[1;32m     18\u001b[0m             \u001b[0mmodel\u001b[0m\u001b[0;34m.\u001b[0m\u001b[0mcleargrads\u001b[0m\u001b[0;34m(\u001b[0m\u001b[0;34m)\u001b[0m\u001b[0;34m\u001b[0m\u001b[0m\n",
      "\u001b[0;32m<ipython-input-10-bf99705a372f>\u001b[0m in \u001b[0;36m__call__\u001b[0;34m(self, t, y)\u001b[0m\n\u001b[1;32m     63\u001b[0m         \u001b[0;31m# (4) end\u001b[0m\u001b[0;34m\u001b[0m\u001b[0;34m\u001b[0m\u001b[0m\n\u001b[1;32m     64\u001b[0m         \u001b[0mpixel_loss\u001b[0m \u001b[0;34m=\u001b[0m \u001b[0mlambda_\u001b[0m\u001b[0;34m[\u001b[0m\u001b[0;34m'pixel'\u001b[0m\u001b[0;34m]\u001b[0m \u001b[0;34m*\u001b[0m \u001b[0mF\u001b[0m\u001b[0;34m.\u001b[0m\u001b[0mmean_squared_error\u001b[0m\u001b[0;34m(\u001b[0m\u001b[0mt\u001b[0m \u001b[0;34m,\u001b[0m \u001b[0my\u001b[0m\u001b[0;34m)\u001b[0m\u001b[0;34m\u001b[0m\u001b[0m\n\u001b[0;32m---> 65\u001b[0;31m         \u001b[0mtotal_variation_loss\u001b[0m \u001b[0;34m=\u001b[0m \u001b[0mlambda_\u001b[0m\u001b[0;34m[\u001b[0m\u001b[0;34m'total_variation'\u001b[0m\u001b[0;34m]\u001b[0m \u001b[0;34m*\u001b[0m \u001b[0mself\u001b[0m\u001b[0;34m.\u001b[0m\u001b[0mtotalVariationLoss\u001b[0m\u001b[0;34m(\u001b[0m\u001b[0my\u001b[0m\u001b[0;34m)\u001b[0m\u001b[0;34m\u001b[0m\u001b[0m\n\u001b[0m\u001b[1;32m     66\u001b[0m         \u001b[0mloss\u001b[0m \u001b[0;34m=\u001b[0m \u001b[0mfeature_loss\u001b[0m \u001b[0;34m+\u001b[0m \u001b[0mpixel_loss\u001b[0m \u001b[0;34m+\u001b[0m \u001b[0mtotal_variation_loss\u001b[0m\u001b[0;34m\u001b[0m\u001b[0m\n\u001b[1;32m     67\u001b[0m \u001b[0;34m\u001b[0m\u001b[0m\n",
      "\u001b[0;32m<ipython-input-10-bf99705a372f>\u001b[0m in \u001b[0;36m__call__\u001b[0;34m(self, x)\u001b[0m\n\u001b[1;32m     28\u001b[0m         \u001b[0;31m# y = ...\u001b[0m\u001b[0;34m\u001b[0m\u001b[0;34m\u001b[0m\u001b[0m\n\u001b[1;32m     29\u001b[0m         \u001b[0;31m# (3) end\u001b[0m\u001b[0;34m\u001b[0m\u001b[0;34m\u001b[0m\u001b[0m\n\u001b[0;32m---> 30\u001b[0;31m         \u001b[0mh\u001b[0m \u001b[0;34m=\u001b[0m \u001b[0mself\u001b[0m\u001b[0;34m.\u001b[0m\u001b[0mconvolution2D_0\u001b[0m\u001b[0;34m(\u001b[0m\u001b[0mx\u001b[0m\u001b[0;34m)\u001b[0m\u001b[0;34m\u001b[0m\u001b[0m\n\u001b[0m\u001b[1;32m     31\u001b[0m         \u001b[0msq1\u001b[0m \u001b[0;34m=\u001b[0m \u001b[0mnp\u001b[0m\u001b[0;34m.\u001b[0m\u001b[0msquare\u001b[0m\u001b[0;34m(\u001b[0m\u001b[0mh\u001b[0m\u001b[0;34m)\u001b[0m\u001b[0;34m\u001b[0m\u001b[0m\n\u001b[1;32m     32\u001b[0m         \u001b[0mh\u001b[0m \u001b[0;34m=\u001b[0m \u001b[0mself\u001b[0m\u001b[0;34m.\u001b[0m\u001b[0mconvolution2D_1\u001b[0m\u001b[0;34m(\u001b[0m\u001b[0mx\u001b[0m\u001b[0;34m)\u001b[0m\u001b[0;34m\u001b[0m\u001b[0m\n",
      "\u001b[0;32m~/anaconda3/envs/NIPS/lib/python3.6/site-packages/chainer/links/connection/convolution_2d.py\u001b[0m in \u001b[0;36m__call__\u001b[0;34m(self, x)\u001b[0m\n\u001b[1;32m    173\u001b[0m         return convolution_2d.convolution_2d(\n\u001b[1;32m    174\u001b[0m             \u001b[0mx\u001b[0m\u001b[0;34m,\u001b[0m \u001b[0mself\u001b[0m\u001b[0;34m.\u001b[0m\u001b[0mW\u001b[0m\u001b[0;34m,\u001b[0m \u001b[0mself\u001b[0m\u001b[0;34m.\u001b[0m\u001b[0mb\u001b[0m\u001b[0;34m,\u001b[0m \u001b[0mself\u001b[0m\u001b[0;34m.\u001b[0m\u001b[0mstride\u001b[0m\u001b[0;34m,\u001b[0m \u001b[0mself\u001b[0m\u001b[0;34m.\u001b[0m\u001b[0mpad\u001b[0m\u001b[0;34m,\u001b[0m \u001b[0mdilate\u001b[0m\u001b[0;34m=\u001b[0m\u001b[0mself\u001b[0m\u001b[0;34m.\u001b[0m\u001b[0mdilate\u001b[0m\u001b[0;34m,\u001b[0m\u001b[0;34m\u001b[0m\u001b[0m\n\u001b[0;32m--> 175\u001b[0;31m             groups=self.groups)\n\u001b[0m\u001b[1;32m    176\u001b[0m \u001b[0;34m\u001b[0m\u001b[0m\n\u001b[1;32m    177\u001b[0m \u001b[0;34m\u001b[0m\u001b[0m\n",
      "\u001b[0;32m~/anaconda3/envs/NIPS/lib/python3.6/site-packages/chainer/functions/connection/convolution_2d.py\u001b[0m in \u001b[0;36mconvolution_2d\u001b[0;34m(x, W, b, stride, pad, cover_all, **kwargs)\u001b[0m\n\u001b[1;32m    580\u001b[0m     \u001b[0;32melse\u001b[0m\u001b[0;34m:\u001b[0m\u001b[0;34m\u001b[0m\u001b[0m\n\u001b[1;32m    581\u001b[0m         \u001b[0margs\u001b[0m \u001b[0;34m=\u001b[0m \u001b[0mx\u001b[0m\u001b[0;34m,\u001b[0m \u001b[0mW\u001b[0m\u001b[0;34m,\u001b[0m \u001b[0mb\u001b[0m\u001b[0;34m\u001b[0m\u001b[0m\n\u001b[0;32m--> 582\u001b[0;31m     \u001b[0my\u001b[0m\u001b[0;34m,\u001b[0m \u001b[0;34m=\u001b[0m \u001b[0mfnode\u001b[0m\u001b[0;34m.\u001b[0m\u001b[0mapply\u001b[0m\u001b[0;34m(\u001b[0m\u001b[0margs\u001b[0m\u001b[0;34m)\u001b[0m\u001b[0;34m\u001b[0m\u001b[0m\n\u001b[0m\u001b[1;32m    583\u001b[0m     \u001b[0;32mreturn\u001b[0m \u001b[0my\u001b[0m\u001b[0;34m\u001b[0m\u001b[0m\n",
      "\u001b[0;32m~/anaconda3/envs/NIPS/lib/python3.6/site-packages/chainer/function_node.py\u001b[0m in \u001b[0;36mapply\u001b[0;34m(self, inputs)\u001b[0m\n\u001b[1;32m    233\u001b[0m                 'Actual: {}'.format(\n\u001b[1;32m    234\u001b[0m                     \u001b[0mself\u001b[0m\u001b[0;34m.\u001b[0m\u001b[0mlabel\u001b[0m\u001b[0;34m,\u001b[0m\u001b[0;34m\u001b[0m\u001b[0m\n\u001b[0;32m--> 235\u001b[0;31m                     ', '.join(str(type(x)) for x in in_data)))\n\u001b[0m\u001b[1;32m    236\u001b[0m \u001b[0;34m\u001b[0m\u001b[0m\n\u001b[1;32m    237\u001b[0m         \u001b[0mis_debug\u001b[0m \u001b[0;34m=\u001b[0m \u001b[0mchainer\u001b[0m\u001b[0;34m.\u001b[0m\u001b[0mis_debug\u001b[0m\u001b[0;34m(\u001b[0m\u001b[0;34m)\u001b[0m\u001b[0;34m\u001b[0m\u001b[0m\n",
      "\u001b[0;31mTypeError\u001b[0m: incompatible array types are mixed in the forward input (Convolution2DFunction).\nActual: <class 'cupy.core.core.ndarray'>, <class 'numpy.ndarray'>"
     ]
    }
   ],
   "source": [
    "aaa_test_set = Dataset(data_file[int(.999 * len(data_file)) :])\n",
    "aaa_iterator = iterators.SerialIterator(aaa_test_set , batch_size, False, True)\n",
    "# TEST of Training\n",
    "import time\n",
    "\n",
    "for i in range(2):#epochs\n",
    "    epoch = i + 1\n",
    "    loss_history['training'].append(0)\n",
    "    \n",
    "    start_time = time.time()\n",
    "    for j, batch in enumerate(aaa_iterator):\n",
    "        with chainer.using_config('train', True):\n",
    "            t, x = concat_examples(batch=batch, device=device)\n",
    "            y = model(x)\n",
    "            # (1) start\n",
    "            loss = lossFunction(t, y)\n",
    "            # Calculate the gradients in the network\n",
    "            model.cleargrads()\n",
    "            loss.backward()\n",
    "            # Update all the trainable parameters\n",
    "            optimizer.update()\n",
    "            # (1) end\n",
    "\n",
    "        loss_history['training'][-1] += float(loss.data)\n",
    "        #print('train',loss)\n",
    "\n",
    "    loss_history['training'][-1] /= j + 1\n",
    "    print('train | epoch ={} | time={} sec | loss={}'.format(i, (time.time() - start_time), \n",
    "                                                             loss_history['training'][-1]) )\n",
    "    \n",
    "    # (2) start\n",
    "    loss_history['validation'].append(0)\n",
    "    start_time = time.time()\n",
    "    for j, batch in enumerate(validation_iterator):\n",
    "        with chainer.using_config('train', False):\n",
    "            t, x = concat_examples(batch=batch, device=device)\n",
    "            y = model(x)\n",
    "            loss = lossFunction(t, y)\n",
    "\n",
    "        # ...\n",
    "        loss_history['validation'][-1] += float(loss.data)\n",
    "        #print('validation',loss)\n",
    "\n",
    "    loss_history['validation'][-1] /= j + 1\n",
    "    print('validation | epoch ={} | time={} sec | loss={}'.format(i, (time.time() - start_time), \n",
    "                                                             loss_history['validation'][-1]) )\n",
    "    \n",
    "    # ...\n",
    "    print('epoch: {:3d} / {:03d}, training loss: {}, validation loss: {}.'.format(epoch, epochs, loss_history['training'][-1], loss_history['validation'][-1]))\n",
    "    np.savez('{:s}/loss_history_{:03d}.npz'.format(model_directory, epoch), loss_history)\n",
    "    # (3) start\n",
    "    serializers.save_npz('{:s}/model_{:03d}.npz'.format(model_directory, epoch), model)\n",
    "    # (3) end\n",
    "    serializers.save_npz('{:s}/optimizer_{:03d}.npz'.format(model_directory, epoch), optimizer)\n",
    "    \n",
    "    training_set = Dataset(data_file[:int(train_len * len(data_file))])\n",
    "    validation_set = Dataset(data_file[int(train_len * len(data_file)) : int(.8 * len(data_file))])\n",
    "    test_set = Dataset(data_file[int(.8 * len(data_file)) :])\n",
    "\n",
    "    training_iterator = iterators.SerialIterator(training_set, batch_size, False, True)\n",
    "    validation_iterator = iterators.SerialIterator(validation_set, batch_size, False, False)\n",
    "    test_iterator = iterators.SerialIterator(test_set , batch_size, False, False)\n"
   ]
  },
  {
   "cell_type": "code",
   "execution_count": 12,
   "metadata": {
    "collapsed": true
   },
   "outputs": [
    {
     "data": {
      "text/plain": [
       "[<matplotlib.lines.Line2D at 0x7f9db9c70a90>]"
      ]
     },
     "execution_count": 12,
     "metadata": {},
     "output_type": "execute_result"
    },
    {
     "data": {
      "image/png": "[encoded data removed]",
      "text/plain": [
       "<Figure size 432x288 with 1 Axes>"
      ]
     },
     "metadata": {
      "needs_background": "light"
     },
     "output_type": "display_data"
    }
   ],
   "source": [
    "plt.plot(loss_history['training'])"
   ]
  },
  {
   "cell_type": "code",
   "execution_count": 13,
   "metadata": {
    "collapsed": true
   },
   "outputs": [
    {
     "name": "stdout",
     "output_type": "stream",
     "text": [
      "[456026.4375, 322215.3671875, 294491.90625, 261264.83203125, 225730.5234375]\n"
     ]
    },
    {
     "data": {
      "text/plain": [
       "[<matplotlib.lines.Line2D at 0x7f9dcadad6d8>]"
      ]
     },
     "execution_count": 13,
     "metadata": {},
     "output_type": "execute_result"
    },
    {
     "data": {
      "image/png": "[encoded data removed]",
      "text/plain": [
       "<Figure size 432x288 with 1 Axes>"
      ]
     },
     "metadata": {
      "needs_background": "light"
     },
     "output_type": "display_data"
    }
   ],
   "source": [
    "loss_His = np.load('{:s}/loss_history_{:03d}.npz'.format(model_directory, 5))\n",
    "loss_His = loss_His[loss_His.files[0]]\n",
    "loss_His = loss_His.reshape(1,)[0]\n",
    "print(loss_His['training'])\n",
    "\n",
    "plt.plot(loss_His['training'])"
   ]
  },
  {
   "cell_type": "markdown",
   "metadata": {},
   "source": [
    "# Load saved model"
   ]
  },
  {
   "cell_type": "code",
   "execution_count": 14,
   "metadata": {},
   "outputs": [
    {
     "name": "stdout",
     "output_type": "stream",
     "text": [
      "<__main__.Model object at 0x7f9dc92c8a20>\n"
     ]
    }
   ],
   "source": [
    "model_ld = Model(1, outsize)\n",
    "serializers.load_npz('{:s}/model_{:03d}.npz'.format(model_directory, 5), model_ld)\n",
    "print(model_ld)"
   ]
  },
  {
   "cell_type": "code",
   "execution_count": 15,
   "metadata": {},
   "outputs": [],
   "source": [
    "optimizer_ld = Adam(alpha=0.001, beta1=0.9, beta2=0.999, eps=1e-08)\n",
    "\n",
    "optimizer_ld.setup(model_ld)\n",
    "serializers.load_npz('{:s}/optimizer_{:03d}.npz'.format(model_directory, 5), optimizer_ld)"
   ]
  },
  {
   "cell_type": "markdown",
   "metadata": {},
   "source": [
    "# Testing"
   ]
  },
  {
   "cell_type": "code",
   "execution_count": 16,
   "metadata": {},
   "outputs": [
    {
     "name": "stdout",
     "output_type": "stream",
     "text": [
      "variable(415819.6)\n"
     ]
    }
   ],
   "source": [
    "# trained model\n",
    "for j, batch in enumerate(debug_test_iterator_1):\n",
    "    with chainer.using_config('train', False):\n",
    "        t, x = concat_examples(batch=batch, device=device)\n",
    "        y = model(x)\n",
    "        loss = lossFunction(t, y)\n",
    "        print(loss)"
   ]
  },
  {
   "cell_type": "code",
   "execution_count": 17,
   "metadata": {},
   "outputs": [
    {
     "name": "stdout",
     "output_type": "stream",
     "text": [
      "variable(415819.6)\n"
     ]
    }
   ],
   "source": [
    "# loaded model\n",
    "for j, batch in enumerate(debug_test_iterator_2):\n",
    "    with chainer.using_config('train', False):\n",
    "        t, x = concat_examples(batch=batch, device=device)\n",
    "        y = model_ld(x)\n",
    "        loss = lossFunction(t, y)\n",
    "        print(loss)"
   ]
  },
  {
   "cell_type": "markdown",
   "metadata": {
    "colab_type": "text",
    "id": "KAKIEbqPFzsc"
   },
   "source": [
    "**Training and validation (20 points)**  \n",
    "In the following cell, you will train and validate your model.\n",
    "*Tasks*   \n",
    "- (1) Implement training loss estimation, backprop and parameter update. (**10 points**)\n",
    "- (2) Implement validation loss history (**5 points**)\n",
    "- (3) Implement model serialization  (**5 points**)"
   ]
  },
  {
   "cell_type": "markdown",
   "metadata": {},
   "source": [
    "# Actual Training"
   ]
  },
  {
   "cell_type": "code",
   "execution_count": 9,
   "metadata": {},
   "outputs": [
    {
     "name": "stdout",
     "output_type": "stream",
     "text": [
      "13233\n",
      "400\n"
     ]
    }
   ],
   "source": [
    "lossFunction = LossFunction(lambda_)\n",
    "serializers.load_npz('{:s}/Vgg4Layers.npz'.format(model_directory), lossFunction.vgg4Layers)\n",
    "'''Question\n",
    "What does mean do??\n",
    "'''\n",
    "lossFunction.vgg4Layers.add_persistent('mean', np.array([[[[103.939]], [[116.779]], [[123.68]]]], 'float32'))\n",
    "\n",
    "loss_history = {'training': [], 'validation': []}\n",
    "model = Model(1, outsize) if device < 0 else Model(1, outsize).to_gpu(device)\n",
    "\n",
    "# Adam parameters\n",
    "# alpha = 0.001/0.0002, beta1= 0.9/0.5, beta2 = 0.999, epsilon = 1/0.1/1e-8\n",
    "\n",
    "optimizer = Adam(alpha=0.001, beta1=0.9, beta2=0.999, eps=1e-08)\n",
    "optimizer.setup(model)\n",
    "\n",
    "\n",
    "import glob\n",
    "data_file = sorted(glob.glob('{}/*/*.jpg'.format(data_directory)))\n",
    "print(len(data_file))\n",
    "\n",
    "\n",
    "'''\n",
    "400 imgs - 4 epochs\n",
    "\n",
    "'''\n",
    "\n",
    "\n",
    "training_set = Dataset(data_file[:400])\n",
    "training_iterator = iterators.SerialIterator(training_set, batch_size, False, True)\n",
    "print(len(training_set))"
   ]
  },
  {
   "cell_type": "code",
   "execution_count": 10,
   "metadata": {
    "scrolled": true
   },
   "outputs": [
    {
     "name": "stdout",
     "output_type": "stream",
     "text": [
      "train= 0  loss= variable(575981.94)\n",
      "train= 1  loss= variable(464670.47)\n",
      "train= 2  loss= variable(303798.44)\n",
      "train= 3  loss= variable(332341.53)\n",
      "train= 4  loss= variable(420179.2)\n",
      "train= 5  loss= variable(335374.3)\n",
      "train= 6  loss= variable(313532.06)\n",
      "train= 7  loss= variable(250224.1)\n",
      "train= 8  loss= variable(292573.7)\n",
      "train= 9  loss= variable(320368.62)\n",
      "train= 10  loss= variable(261855.2)\n",
      "train= 11  loss= variable(335226.12)\n",
      "train= 12  loss= variable(280253.06)\n",
      "train= 13  loss= variable(225414.53)\n",
      "train= 14  loss= variable(233650.47)\n",
      "train= 15  loss= variable(320259.7)\n",
      "train= 16  loss= variable(249024.83)\n",
      "train= 17  loss= variable(200192.77)\n",
      "train= 18  loss= variable(216978.12)\n",
      "train= 19  loss= variable(229886.34)\n",
      "train= 20  loss= variable(235219.44)\n",
      "train= 21  loss= variable(164196.88)\n",
      "train= 22  loss= variable(224568.53)\n",
      "train= 23  loss= variable(207084.72)\n",
      "train= 24  loss= variable(151425.06)\n",
      "train= 25  loss= variable(206041.77)\n",
      "train= 26  loss= variable(186656.98)\n",
      "train= 27  loss= variable(188702.27)\n",
      "train= 28  loss= variable(175654.61)\n",
      "train= 29  loss= variable(148000.84)\n",
      "train= 30  loss= variable(198221.77)\n",
      "train= 31  loss= variable(177552.8)\n",
      "train= 32  loss= variable(163692.36)\n",
      "train= 33  loss= variable(155035.66)\n",
      "train= 34  loss= variable(155139.52)\n",
      "train= 35  loss= variable(174100.55)\n",
      "train= 36  loss= variable(168769.6)\n",
      "train= 37  loss= variable(140102.33)\n",
      "train= 38  loss= variable(163565.16)\n",
      "train= 39  loss= variable(152835.67)\n",
      "train= 40  loss= variable(137523.39)\n",
      "train= 41  loss= variable(146861.)\n",
      "train= 42  loss= variable(167587.4)\n",
      "train= 43  loss= variable(140909.64)\n",
      "train= 44  loss= variable(119984.86)\n",
      "train= 45  loss= variable(159224.89)\n",
      "train= 46  loss= variable(164046.25)\n",
      "train= 47  loss= variable(130501.766)\n",
      "train= 48  loss= variable(139482.02)\n",
      "train= 49  loss= variable(145448.1)\n",
      "train= 50  loss= variable(195640.06)\n",
      "train= 51  loss= variable(162166.73)\n",
      "train= 52  loss= variable(146786.7)\n",
      "train= 53  loss= variable(149814.83)\n",
      "train= 54  loss= variable(140026.62)\n",
      "train= 55  loss= variable(138480.05)\n",
      "train= 56  loss= variable(134644.4)\n",
      "train= 57  loss= variable(135123.83)\n",
      "train= 58  loss= variable(138687.56)\n",
      "train= 59  loss= variable(158725.28)\n",
      "train= 60  loss= variable(154816.73)\n",
      "train= 61  loss= variable(169550.5)\n",
      "train= 62  loss= variable(126728.66)\n",
      "train= 63  loss= variable(140656.1)\n",
      "train= 64  loss= variable(131318.38)\n",
      "train= 65  loss= variable(119673.664)\n",
      "train= 66  loss= variable(130766.65)\n",
      "train= 67  loss= variable(178239.42)\n",
      "train= 68  loss= variable(117236.28)\n",
      "train= 69  loss= variable(140891.36)\n",
      "train= 70  loss= variable(141686.23)\n",
      "train= 71  loss= variable(128702.17)\n",
      "train= 72  loss= variable(146784.11)\n",
      "train= 73  loss= variable(129221.9)\n",
      "train= 74  loss= variable(123533.47)\n",
      "train= 75  loss= variable(129843.83)\n",
      "train= 76  loss= variable(125877.64)\n",
      "train= 77  loss= variable(100062.34)\n",
      "train= 78  loss= variable(137421.34)\n",
      "train= 79  loss= variable(98256.086)\n",
      "train= 80  loss= variable(118712.53)\n",
      "train= 81  loss= variable(98041.8)\n",
      "train= 82  loss= variable(112414.82)\n",
      "train= 83  loss= variable(110239.19)\n",
      "train= 84  loss= variable(133325.8)\n",
      "train= 85  loss= variable(129660.3)\n",
      "train= 86  loss= variable(187052.67)\n",
      "train= 87  loss= variable(122787.69)\n",
      "train= 88  loss= variable(110772.266)\n",
      "train= 89  loss= variable(98533.68)\n",
      "train= 90  loss= variable(126956.6)\n",
      "train= 91  loss= variable(118513.7)\n",
      "train= 92  loss= variable(123099.32)\n",
      "train= 93  loss= variable(173402.2)\n",
      "train= 94  loss= variable(141991.33)\n",
      "train= 95  loss= variable(113379.55)\n",
      "train= 96  loss= variable(153283.27)\n",
      "train= 97  loss= variable(169182.58)\n",
      "train= 98  loss= variable(112303.83)\n",
      "train= 99  loss= variable(117446.18)\n",
      "train | epoch =0 | time=4902.551718950272 sec | loss=178923.835078125\n",
      "epoch:   1 / 004, training loss: 178923.835078125, validation loss: 0.0.\n",
      "train= 0  loss= variable(147105.55)\n",
      "train= 1  loss= variable(91506.93)\n",
      "train= 2  loss= variable(154370.19)\n",
      "train= 3  loss= variable(97299.78)\n",
      "train= 4  loss= variable(110254.164)\n",
      "train= 5  loss= variable(99997.4)\n",
      "train= 6  loss= variable(122262.71)\n",
      "train= 7  loss= variable(106499.61)\n",
      "train= 8  loss= variable(106732.36)\n",
      "train= 9  loss= variable(116603.73)\n",
      "train= 10  loss= variable(126538.086)\n",
      "train= 11  loss= variable(102466.32)\n",
      "train= 12  loss= variable(95678.836)\n",
      "train= 13  loss= variable(101635.56)\n",
      "train= 14  loss= variable(103902.8)\n",
      "train= 15  loss= variable(106748.836)\n",
      "train= 16  loss= variable(107451.84)\n",
      "train= 17  loss= variable(104437.71)\n",
      "train= 18  loss= variable(119847.63)\n",
      "train= 19  loss= variable(105981.83)\n",
      "train= 20  loss= variable(89302.33)\n",
      "train= 21  loss= variable(156355.53)\n",
      "train= 22  loss= variable(96831.125)\n",
      "train= 23  loss= variable(133109.55)\n",
      "train= 24  loss= variable(99683.9)\n",
      "train= 25  loss= variable(115099.055)\n",
      "train= 26  loss= variable(111432.54)\n",
      "train= 27  loss= variable(101564.)\n",
      "train= 28  loss= variable(113850.9)\n",
      "train= 29  loss= variable(122301.58)\n",
      "train= 30  loss= variable(90184.54)\n",
      "train= 31  loss= variable(119565.26)\n",
      "train= 32  loss= variable(122733.945)\n",
      "train= 33  loss= variable(129225.04)\n",
      "train= 34  loss= variable(102577.53)\n",
      "train= 35  loss= variable(95222.39)\n",
      "train= 36  loss= variable(123797.57)\n",
      "train= 37  loss= variable(88830.93)\n",
      "train= 38  loss= variable(69216.08)\n",
      "train= 39  loss= variable(99032.47)\n",
      "train= 40  loss= variable(106085.28)\n",
      "train= 41  loss= variable(92040.93)\n",
      "train= 42  loss= variable(103523.11)\n",
      "train= 43  loss= variable(113865.766)\n",
      "train= 44  loss= variable(95667.99)\n",
      "train= 45  loss= variable(117779.914)\n",
      "train= 46  loss= variable(106550.91)\n",
      "train= 47  loss= variable(94413.44)\n",
      "train= 48  loss= variable(125415.414)\n",
      "train= 49  loss= variable(107109.15)\n",
      "train= 50  loss= variable(78914.96)\n",
      "train= 51  loss= variable(81937.2)\n",
      "train= 52  loss= variable(89289.88)\n",
      "train= 53  loss= variable(89164.734)\n",
      "train= 54  loss= variable(82934.016)\n",
      "train= 55  loss= variable(97423.39)\n",
      "train= 56  loss= variable(96257.48)\n",
      "train= 57  loss= variable(105203.82)\n",
      "train= 58  loss= variable(108779.91)\n",
      "train= 59  loss= variable(143407.58)\n",
      "train= 60  loss= variable(78220.91)\n",
      "train= 61  loss= variable(104981.44)\n",
      "train= 62  loss= variable(114932.33)\n",
      "train= 63  loss= variable(133414.38)\n",
      "train= 64  loss= variable(132238.75)\n",
      "train= 65  loss= variable(86236.33)\n",
      "train= 66  loss= variable(120685.02)\n",
      "train= 67  loss= variable(106625.55)\n",
      "train= 68  loss= variable(73430.9)\n",
      "train= 69  loss= variable(98986.46)\n",
      "train= 70  loss= variable(92194.74)\n",
      "train= 71  loss= variable(86442.7)\n",
      "train= 72  loss= variable(117315.375)\n",
      "train= 73  loss= variable(76507.23)\n",
      "train= 74  loss= variable(131424.5)\n",
      "train= 75  loss= variable(88822.24)\n",
      "train= 76  loss= variable(99998.52)\n",
      "train= 77  loss= variable(106149.56)\n",
      "train= 78  loss= variable(102804.53)\n",
      "train= 79  loss= variable(144527.61)\n",
      "train= 80  loss= variable(80320.14)\n",
      "train= 81  loss= variable(118510.586)\n",
      "train= 82  loss= variable(110558.38)\n",
      "train= 83  loss= variable(87257.59)\n",
      "train= 84  loss= variable(101919.32)\n",
      "train= 85  loss= variable(121125.25)\n",
      "train= 86  loss= variable(91614.516)\n",
      "train= 87  loss= variable(85474.64)\n",
      "train= 88  loss= variable(84616.25)\n",
      "train= 89  loss= variable(89973.66)\n",
      "train= 90  loss= variable(136125.84)\n",
      "train= 91  loss= variable(99845.35)\n",
      "train= 92  loss= variable(91317.86)\n",
      "train= 93  loss= variable(75787.195)\n",
      "train= 94  loss= variable(107508.055)\n",
      "train= 95  loss= variable(107338.74)\n",
      "train= 96  loss= variable(99736.09)\n",
      "train= 97  loss= variable(102184.984)\n",
      "train= 98  loss= variable(86265.555)\n",
      "train= 99  loss= variable(94975.95)\n",
      "train | epoch =1 | time=4804.0413727760315 sec | loss=105113.980234375\n",
      "epoch:   2 / 004, training loss: 105113.980234375, validation loss: 0.0.\n",
      "train= 0  loss= variable(73266.33)\n",
      "train= 1  loss= variable(111586.81)\n",
      "train= 2  loss= variable(90201.4)\n",
      "train= 3  loss= variable(98359.23)\n",
      "train= 4  loss= variable(145116.36)\n",
      "train= 5  loss= variable(83156.68)\n",
      "train= 6  loss= variable(93521.9)\n",
      "train= 7  loss= variable(94013.445)\n",
      "train= 8  loss= variable(95850.27)\n",
      "train= 9  loss= variable(111566.61)\n",
      "train= 10  loss= variable(86305.12)\n",
      "train= 11  loss= variable(93867.8)\n",
      "train= 12  loss= variable(85011.53)\n",
      "train= 13  loss= variable(91338.09)\n",
      "train= 14  loss= variable(78772.25)\n",
      "train= 15  loss= variable(119192.914)\n",
      "train= 16  loss= variable(105131.12)\n"
     ]
    },
    {
     "name": "stdout",
     "output_type": "stream",
     "text": [
      "train= 17  loss= variable(96816.39)\n",
      "train= 18  loss= variable(99121.71)\n",
      "train= 19  loss= variable(82390.78)\n",
      "train= 20  loss= variable(79636.62)\n",
      "train= 21  loss= variable(84216.18)\n",
      "train= 22  loss= variable(77677.734)\n",
      "train= 23  loss= variable(89350.22)\n",
      "train= 24  loss= variable(81713.73)\n",
      "train= 25  loss= variable(82464.484)\n",
      "train= 26  loss= variable(96040.03)\n",
      "train= 27  loss= variable(104721.734)\n",
      "train= 28  loss= variable(70859.23)\n",
      "train= 29  loss= variable(88001.98)\n",
      "train= 30  loss= variable(98270.89)\n",
      "train= 31  loss= variable(92041.836)\n",
      "train= 32  loss= variable(78683.16)\n",
      "train= 33  loss= variable(88076.)\n",
      "train= 34  loss= variable(88034.375)\n",
      "train= 35  loss= variable(84840.04)\n",
      "train= 36  loss= variable(112608.195)\n",
      "train= 37  loss= variable(109450.195)\n",
      "train= 38  loss= variable(77365.56)\n",
      "train= 39  loss= variable(91418.734)\n",
      "train= 40  loss= variable(84494.63)\n",
      "train= 41  loss= variable(83030.484)\n",
      "train= 42  loss= variable(103069.234)\n",
      "train= 43  loss= variable(104089.945)\n",
      "train= 44  loss= variable(87287.21)\n",
      "train= 45  loss= variable(67808.95)\n",
      "train= 46  loss= variable(97862.38)\n",
      "train= 47  loss= variable(104332.8)\n",
      "train= 48  loss= variable(75008.266)\n",
      "train= 49  loss= variable(93133.02)\n",
      "train= 50  loss= variable(66142.87)\n",
      "train= 51  loss= variable(88552.13)\n",
      "train= 52  loss= variable(67754.24)\n",
      "train= 53  loss= variable(104554.27)\n",
      "train= 54  loss= variable(96230.65)\n",
      "train= 55  loss= variable(88176.04)\n",
      "train= 56  loss= variable(91129.53)\n",
      "train= 57  loss= variable(77833.49)\n",
      "train= 58  loss= variable(88937.664)\n",
      "train= 59  loss= variable(65374.992)\n",
      "train= 60  loss= variable(62706.246)\n",
      "train= 61  loss= variable(103916.55)\n",
      "train= 62  loss= variable(102944.97)\n",
      "train= 63  loss= variable(64371.516)\n",
      "train= 64  loss= variable(78803.6)\n",
      "train= 65  loss= variable(98201.22)\n",
      "train= 66  loss= variable(96253.07)\n",
      "train= 67  loss= variable(80586.13)\n",
      "train= 68  loss= variable(102677.984)\n",
      "train= 69  loss= variable(83103.95)\n",
      "train= 70  loss= variable(65336.29)\n",
      "train= 71  loss= variable(84870.54)\n",
      "train= 72  loss= variable(97027.98)\n",
      "train= 73  loss= variable(99395.25)\n",
      "train= 74  loss= variable(71014.48)\n",
      "train= 75  loss= variable(67877.44)\n",
      "train= 76  loss= variable(101905.02)\n",
      "train= 77  loss= variable(84775.21)\n",
      "train= 78  loss= variable(94169.734)\n",
      "train= 79  loss= variable(105651.81)\n",
      "train= 80  loss= variable(66651.57)\n",
      "train= 81  loss= variable(84441.37)\n",
      "train= 82  loss= variable(76195.08)\n",
      "train= 83  loss= variable(143854.12)\n",
      "train= 84  loss= variable(86568.32)\n",
      "train= 85  loss= variable(61475.85)\n",
      "train= 86  loss= variable(102094.336)\n",
      "train= 87  loss= variable(83462.234)\n",
      "train= 88  loss= variable(110101.89)\n",
      "train= 89  loss= variable(83997.68)\n",
      "train= 90  loss= variable(88786.61)\n",
      "train= 91  loss= variable(69888.83)\n",
      "train= 92  loss= variable(71424.34)\n",
      "train= 93  loss= variable(98422.41)\n",
      "train= 94  loss= variable(92524.7)\n",
      "train= 95  loss= variable(72999.29)\n",
      "train= 96  loss= variable(127284.5)\n",
      "train= 97  loss= variable(66470.945)\n",
      "train= 98  loss= variable(63976.52)\n",
      "train= 99  loss= variable(116954.29)\n",
      "train | epoch =2 | time=4749.977640390396 sec | loss=89580.243359375\n",
      "epoch:   3 / 004, training loss: 89580.243359375, validation loss: 0.0.\n",
      "train= 0  loss= variable(91850.805)\n",
      "train= 1  loss= variable(92765.79)\n",
      "train= 2  loss= variable(108712.38)\n",
      "train= 3  loss= variable(75662.84)\n",
      "train= 4  loss= variable(77616.04)\n",
      "train= 5  loss= variable(120188.445)\n",
      "train= 6  loss= variable(92071.92)\n",
      "train= 7  loss= variable(85887.734)\n",
      "train= 8  loss= variable(73488.98)\n",
      "train= 9  loss= variable(74559.484)\n",
      "train= 10  loss= variable(88921.91)\n",
      "train= 11  loss= variable(72713.53)\n",
      "train= 12  loss= variable(64778.63)\n",
      "train= 13  loss= variable(68889.73)\n",
      "train= 14  loss= variable(78641.164)\n",
      "train= 15  loss= variable(64065.1)\n",
      "train= 16  loss= variable(98687.27)\n",
      "train= 17  loss= variable(96571.99)\n",
      "train= 18  loss= variable(75451.51)\n",
      "train= 19  loss= variable(72640.52)\n",
      "train= 20  loss= variable(67825.58)\n",
      "train= 21  loss= variable(70706.06)\n",
      "train= 22  loss= variable(86710.11)\n",
      "train= 23  loss= variable(99316.87)\n",
      "train= 24  loss= variable(110852.016)\n",
      "train= 25  loss= variable(67824.66)\n",
      "train= 26  loss= variable(62161.5)\n",
      "train= 27  loss= variable(89454.63)\n",
      "train= 28  loss= variable(78623.91)\n",
      "train= 29  loss= variable(51158.152)\n",
      "train= 30  loss= variable(128006.36)\n",
      "train= 31  loss= variable(61336.81)\n",
      "train= 32  loss= variable(87901.945)\n",
      "train= 33  loss= variable(75317.83)\n",
      "train= 34  loss= variable(62669.152)\n",
      "train= 35  loss= variable(102687.79)\n",
      "train= 36  loss= variable(66370.38)\n",
      "train= 37  loss= variable(72893.99)\n",
      "train= 38  loss= variable(62599.48)\n",
      "train= 39  loss= variable(74873.875)\n",
      "train= 40  loss= variable(78916.49)\n",
      "train= 41  loss= variable(90263.72)\n",
      "train= 42  loss= variable(72160.484)\n",
      "train= 43  loss= variable(74742.125)\n",
      "train= 44  loss= variable(77260.44)\n",
      "train= 45  loss= variable(145933.55)\n",
      "train= 46  loss= variable(80078.484)\n",
      "train= 47  loss= variable(74518.94)\n",
      "train= 48  loss= variable(84089.9)\n",
      "train= 49  loss= variable(62727.89)\n",
      "train= 50  loss= variable(85400.4)\n",
      "train= 51  loss= variable(80113.26)\n",
      "train= 52  loss= variable(71073.23)\n",
      "train= 53  loss= variable(81165.484)\n",
      "train= 54  loss= variable(82573.33)\n",
      "train= 55  loss= variable(87552.195)\n",
      "train= 56  loss= variable(67363.37)\n",
      "train= 57  loss= variable(84234.55)\n",
      "train= 58  loss= variable(61339.062)\n",
      "train= 59  loss= variable(107222.5)\n",
      "train= 60  loss= variable(77722.71)\n",
      "train= 61  loss= variable(102492.1)\n",
      "train= 62  loss= variable(88689.08)\n",
      "train= 63  loss= variable(108330.055)\n",
      "train= 64  loss= variable(55370.38)\n",
      "train= 65  loss= variable(84718.9)\n",
      "train= 66  loss= variable(78831.23)\n",
      "train= 67  loss= variable(62111.645)\n",
      "train= 68  loss= variable(110719.6)\n",
      "train= 69  loss= variable(73412.13)\n",
      "train= 70  loss= variable(71528.25)\n",
      "train= 71  loss= variable(82478.89)\n",
      "train= 72  loss= variable(63679.234)\n",
      "train= 73  loss= variable(66463.04)\n",
      "train= 74  loss= variable(53332.516)\n",
      "train= 75  loss= variable(78733.06)\n",
      "train= 76  loss= variable(65524.527)\n",
      "train= 77  loss= variable(74975.164)\n",
      "train= 78  loss= variable(61615.688)\n",
      "train= 79  loss= variable(75774.95)\n",
      "train= 80  loss= variable(83983.74)\n",
      "train= 81  loss= variable(103823.71)\n",
      "train= 82  loss= variable(96807.58)\n",
      "train= 83  loss= variable(75851.88)\n",
      "train= 84  loss= variable(73280.38)\n",
      "train= 85  loss= variable(76293.17)\n",
      "train= 86  loss= variable(62720.19)\n",
      "train= 87  loss= variable(74734.914)\n",
      "train= 88  loss= variable(75718.87)\n",
      "train= 89  loss= variable(99637.125)\n",
      "train= 90  loss= variable(63360.977)\n",
      "train= 91  loss= variable(64874.26)\n",
      "train= 92  loss= variable(72758.41)\n",
      "train= 93  loss= variable(90261.51)\n",
      "train= 94  loss= variable(80160.98)\n",
      "train= 95  loss= variable(68872.72)\n",
      "train= 96  loss= variable(66835.73)\n",
      "train= 97  loss= variable(73581.25)\n",
      "train= 98  loss= variable(65291.723)\n",
      "train= 99  loss= variable(69672.22)\n",
      "train | epoch =3 | time=4663.008904457092 sec | loss=79772.1073828125\n",
      "epoch:   4 / 004, training loss: 79772.1073828125, validation loss: 0.0.\n"
     ]
    }
   ],
   "source": [
    "# Actual of Training\n",
    "import time\n",
    "train_len = 0.79\n",
    "for i in range(epochs):#epochs\n",
    "    epoch = i + 1\n",
    "    loss_history['training'].append(0)\n",
    "    \n",
    "    start_time = time.time()\n",
    "    for j, batch in enumerate(training_iterator):\n",
    "        with chainer.using_config('train', True):\n",
    "            t, x = concat_examples(batch=batch, device=device)\n",
    "            y = model(x)\n",
    "            # (1) start\n",
    "            loss = lossFunction(t, y)\n",
    "            # Calculate the gradients in the network\n",
    "            model.cleargrads()\n",
    "            loss.backward()\n",
    "            # Update all the trainable parameters\n",
    "            optimizer.update()\n",
    "            # (1) end\n",
    "\n",
    "        loss_history['training'][-1] += float(loss.data)\n",
    "        print('train=',j,' loss=',loss)\n",
    "\n",
    "    loss_history['training'][-1] /= j + 1\n",
    "    print('train | epoch ={} | time={} sec | loss={}'.format(i, (time.time() - start_time), \n",
    "                                                             loss_history['training'][-1]) )\n",
    "    \n",
    "    # (2) start\n",
    "    loss_history['validation'].append(0)\n",
    "#     start_time = time.time()\n",
    "#     for j, batch in enumerate(validation_iterator):\n",
    "#         with chainer.using_config('train', False):\n",
    "#             t, x = concat_examples(batch=batch, device=device)\n",
    "#             y = model(x)\n",
    "#             loss = lossFunction(t, y)\n",
    "\n",
    "#         # ...\n",
    "#         loss_history['validation'][-1] += float(loss.data)\n",
    "#         #print('validation',loss)\n",
    "\n",
    "#     loss_history['validation'][-1] /= j + 1\n",
    "#     print('validation | epoch ={} | time={} sec | loss={}'.format(i, (time.time() - start_time), \n",
    "#                                                              loss_history['validation'][-1]) )\n",
    "    loss_history['validation'][-1] = 0.0\n",
    "    # ...\n",
    "    print('epoch: {:3d} / {:03d}, training loss: {}, validation loss: {}.'.format(epoch, epochs, loss_history['training'][-1], loss_history['validation'][-1]))\n",
    "    np.savez('{:s}/loss_history_{:03d}.npz'.format(model_directory, epoch), loss_history)\n",
    "    # (3) start\n",
    "    serializers.save_npz('{:s}/model_{:03d}.npz'.format(model_directory, epoch), model)\n",
    "    # (3) end\n",
    "    serializers.save_npz('{:s}/optimizer_{:03d}.npz'.format(model_directory, epoch), optimizer)\n",
    "    \n",
    "    training_set = Dataset(data_file[:400])\n",
    "    training_iterator = iterators.SerialIterator(training_set, batch_size, False, True)"
   ]
  },
  {
   "cell_type": "code",
   "execution_count": 11,
   "metadata": {},
   "outputs": [
    {
     "data": {
      "text/plain": [
       "[<matplotlib.lines.Line2D at 0x7fba85f09198>]"
      ]
     },
     "execution_count": 11,
     "metadata": {},
     "output_type": "execute_result"
    },
    {
     "data": {
      "image/png": "[encoded data removed]",
      "text/plain": [
       "<Figure size 432x288 with 1 Axes>"
      ]
     },
     "metadata": {
      "needs_background": "light"
     },
     "output_type": "display_data"
    }
   ],
   "source": [
    "plt.plot(loss_history['training'])"
   ]
  },
  {
   "cell_type": "code",
   "execution_count": 26,
   "metadata": {
    "collapsed": true
   },
   "outputs": [
    {
     "name": "stdout",
     "output_type": "stream",
     "text": [
      "{'ep1': [575981.94, 464670.47, 303798.44, 332341.53, 420179.2, 335374.3, 313532.06, 250224.1, 292573.7, 320368.62, 261855.2, 335226.12, 280253.06, 225414.53, 233650.47, 320259.7, 249024.83, 200192.77, 216978.12, 229886.34, 235219.44, 164196.88, 224568.53, 207084.72, 151425.06, 206041.77, 186656.98, 188702.27, 175654.61, 148000.84, 198221.77, 177552.8, 163692.36, 155035.66, 155139.52, 174100.55, 168769.6, 140102.33, 163565.16, 152835.67, 137523.39, 146861.0, 167587.4, 140909.64, 119984.86, 159224.89, 164046.25, 130501.766, 139482.02, 145448.1, 195640.06, 162166.73, 146786.7, 149814.83, 140026.62, 138480.05, 134644.4, 135123.83, 138687.56, 158725.28, 154816.73, 169550.5, 126728.66, 140656.1, 131318.38, 119673.664, 130766.65, 178239.42, 117236.28, 140891.36, 141686.23, 128702.17, 146784.11, 129221.9, 123533.47, 129843.83, 125877.64, 100062.34, 137421.34, 98256.086, 118712.53, 98041.8, 112414.82, 110239.19, 133325.8, 129660.3, 187052.67, 122787.69, 110772.266, 98533.68, 126956.6, 118513.7, 123099.32, 173402.2, 141991.33, 113379.55, 153283.27, 169182.58, 112303.83, 117446.18], 'ep2': [147105.55, 91506.93, 154370.19, 97299.78, 110254.164, 99997.4, 122262.71, 106499.61, 106732.36, 116603.73, 126538.086, 102466.32, 95678.836, 101635.56, 103902.8, 106748.836, 107451.84, 104437.71, 119847.63, 105981.83, 89302.33, 156355.53, 96831.125, 133109.55, 99683.9, 115099.055, 111432.54, 101564.0, 113850.9, 122301.58, 90184.54, 119565.26, 122733.945, 129225.04, 102577.53, 95222.39, 123797.57, 88830.93, 69216.08, 99032.47, 106085.28, 92040.93, 103523.11, 113865.766, 95667.99, 117779.914, 106550.91, 94413.44, 125415.414, 107109.15, 78914.96, 81937.2, 89289.88, 89164.734, 82934.016, 97423.39, 96257.48, 105203.82, 108779.91, 143407.58, 78220.91, 104981.44, 114932.33, 133414.38, 132238.75, 86236.33, 120685.02, 106625.55, 73430.9, 98986.46, 92194.74, 86442.7, 117315.375, 76507.23, 131424.5, 88822.24, 99998.52, 106149.56, 102804.53, 144527.61, 80320.14, 118510.586, 110558.38, 87257.59, 101919.32, 121125.25, 91614.516, 85474.64, 84616.25, 89973.66, 136125.84, 99845.35, 91317.86, 75787.195, 107508.055, 107338.74, 99736.09, 102184.984, 86265.555, 94975.95], 'ep3': [73266.33, 111586.81, 90201.4, 98359.23, 145116.36, 83156.68, 93521.9, 94013.445, 95850.27, 111566.61, 86305.12, 93867.8, 85011.53, 91338.09, 78772.25, 119192.914, 105131.12, 96816.39, 99121.71, 82390.78, 79636.62, 84216.18, 77677.734, 89350.22, 81713.73, 82464.484, 96040.03, 104721.734, 70859.23, 88001.98, 98270.89, 92041.836, 78683.16, 88076.0, 88034.375, 84840.04, 112608.195, 109450.195, 77365.56, 91418.734, 84494.63, 83030.484, 103069.234, 104089.945, 87287.21, 67808.95, 97862.38, 104332.8, 75008.266, 93133.02, 66142.87, 88552.13, 67754.24, 104554.27, 96230.65, 88176.04, 91129.53, 77833.49, 88937.664, 65374.992, 62706.246, 103916.55, 102944.97, 64371.516, 78803.6, 98201.22, 96253.07, 80586.13, 102677.984, 83103.95, 65336.29, 84870.54, 97027.98, 99395.25, 71014.48, 67877.44, 101905.02, 84775.21, 94169.734, 105651.81, 66651.57, 84441.37, 76195.08, 143854.12, 86568.32, 61475.85, 102094.336, 83462.234, 110101.89, 83997.68, 88786.61, 69888.83, 71424.34, 98422.41, 92524.7, 72999.29, 127284.5, 66470.945, 63976.52, 116954.29], 'ep4': [91850.805, 92765.79, 108712.38, 75662.84, 77616.04, 120188.445, 92071.92, 85887.734, 73488.98, 74559.484, 88921.91, 72713.53, 64778.63, 68889.73, 78641.164, 64065.1, 98687.27, 96571.99, 75451.51, 72640.52, 67825.58, 70706.06, 86710.11, 99316.87, 110852.016, 67824.66, 62161.5, 89454.63, 78623.91, 51158.152, 128006.36, 61336.81, 87901.945, 75317.83, 62669.152, 102687.79, 66370.38, 72893.99, 62599.48, 74873.875, 78916.49, 90263.72, 72160.484, 74742.125, 77260.44, 145933.55, 80078.484, 74518.94, 84089.9, 62727.89, 85400.4, 80113.26, 71073.23, 81165.484, 82573.33, 87552.195, 67363.37, 84234.55, 61339.062, 107222.5, 77722.71, 102492.1, 88689.08, 108330.055, 55370.38, 84718.9, 78831.23, 62111.645, 110719.6, 73412.13, 71528.25, 82478.89, 63679.234, 66463.04, 53332.516, 78733.06, 65524.527, 74975.164, 61615.688, 75774.95, 83983.74, 103823.71, 96807.58, 75851.88, 73280.38, 76293.17, 62720.19, 74734.914, 75718.87, 99637.125, 63360.977, 64874.26, 72758.41, 90261.51, 80160.98, 68872.72, 66835.73, 73581.25, 65291.723, 69672.22]}\n"
     ]
    }
   ],
   "source": [
    "import json\n",
    "log_data = {}\n",
    "with open('tlog.json') as json_data:\n",
    "    jdata = json.load(json_data)\n",
    "    for element in jdata:\n",
    "        log_data[element] = list(jdata[element].values())\n",
    "#print(log_data)"
   ]
  },
  {
   "cell_type": "code",
   "execution_count": 31,
   "metadata": {},
   "outputs": [
    {
     "data": {
      "text/plain": [
       "[<matplotlib.lines.Line2D at 0x7fba8cb45c88>]"
      ]
     },
     "execution_count": 31,
     "metadata": {},
     "output_type": "execute_result"
    },
    {
     "data": {
      "image/png": "[encoded data removed]",
      "text/plain": [
       "<Figure size 1080x720 with 1 Axes>"
      ]
     },
     "metadata": {
      "needs_background": "light"
     },
     "output_type": "display_data"
    }
   ],
   "source": [
    "log_arr = []\n",
    "for key in log_data:\n",
    "    log_arr += log_data[key]\n",
    "#print(log_arr)\n",
    "fig=plt.figure(figsize=(15, 10))\n",
    "plt.plot(log_arr)"
   ]
  },
  {
   "cell_type": "code",
   "execution_count": 19,
   "metadata": {
    "colab": {},
    "colab_type": "code",
    "collapsed": true,
    "id": "F-pOSKTw0tcK"
   },
   "outputs": [
    {
     "ename": "KeyboardInterrupt",
     "evalue": "",
     "output_type": "error",
     "traceback": [
      "\u001b[0;31m---------------------------------------------------------------------------\u001b[0m",
      "\u001b[0;31mKeyboardInterrupt\u001b[0m                         Traceback (most recent call last)",
      "\u001b[0;32m<ipython-input-19-d2f20054e980>\u001b[0m in \u001b[0;36m<module>\u001b[0;34m()\u001b[0m\n\u001b[1;32m     18\u001b[0m             \u001b[0;31m# Calculate the gradients in the network\u001b[0m\u001b[0;34m\u001b[0m\u001b[0;34m\u001b[0m\u001b[0m\n\u001b[1;32m     19\u001b[0m             \u001b[0mmodel\u001b[0m\u001b[0;34m.\u001b[0m\u001b[0mcleargrads\u001b[0m\u001b[0;34m(\u001b[0m\u001b[0;34m)\u001b[0m\u001b[0;34m\u001b[0m\u001b[0m\n\u001b[0;32m---> 20\u001b[0;31m             \u001b[0mloss\u001b[0m\u001b[0;34m.\u001b[0m\u001b[0mbackward\u001b[0m\u001b[0;34m(\u001b[0m\u001b[0;34m)\u001b[0m\u001b[0;34m\u001b[0m\u001b[0m\n\u001b[0m\u001b[1;32m     21\u001b[0m             \u001b[0;31m# Update all the trainable parameters\u001b[0m\u001b[0;34m\u001b[0m\u001b[0;34m\u001b[0m\u001b[0m\n\u001b[1;32m     22\u001b[0m             \u001b[0moptimizer\u001b[0m\u001b[0;34m.\u001b[0m\u001b[0mupdate\u001b[0m\u001b[0;34m(\u001b[0m\u001b[0;34m)\u001b[0m\u001b[0;34m\u001b[0m\u001b[0m\n",
      "\u001b[0;32m~/anaconda3/envs/NIPS/lib/python3.6/site-packages/chainer/variable.py\u001b[0m in \u001b[0;36mbackward\u001b[0;34m(self, retain_grad, enable_double_backprop, loss_scale)\u001b[0m\n\u001b[1;32m    964\u001b[0m         \"\"\"\n\u001b[1;32m    965\u001b[0m         \u001b[0;32mwith\u001b[0m \u001b[0mchainer\u001b[0m\u001b[0;34m.\u001b[0m\u001b[0musing_config\u001b[0m\u001b[0;34m(\u001b[0m\u001b[0;34m'enable_backprop'\u001b[0m\u001b[0;34m,\u001b[0m \u001b[0menable_double_backprop\u001b[0m\u001b[0;34m)\u001b[0m\u001b[0;34m:\u001b[0m\u001b[0;34m\u001b[0m\u001b[0m\n\u001b[0;32m--> 966\u001b[0;31m             \u001b[0mself\u001b[0m\u001b[0;34m.\u001b[0m\u001b[0m_backward_main\u001b[0m\u001b[0;34m(\u001b[0m\u001b[0mretain_grad\u001b[0m\u001b[0;34m,\u001b[0m \u001b[0mloss_scale\u001b[0m\u001b[0;34m)\u001b[0m\u001b[0;34m\u001b[0m\u001b[0m\n\u001b[0m\u001b[1;32m    967\u001b[0m \u001b[0;34m\u001b[0m\u001b[0m\n\u001b[1;32m    968\u001b[0m     \u001b[0;32mdef\u001b[0m \u001b[0m_backward_main\u001b[0m\u001b[0;34m(\u001b[0m\u001b[0mself\u001b[0m\u001b[0;34m,\u001b[0m \u001b[0mretain_grad\u001b[0m\u001b[0;34m,\u001b[0m \u001b[0mloss_scale\u001b[0m\u001b[0;34m)\u001b[0m\u001b[0;34m:\u001b[0m\u001b[0;34m\u001b[0m\u001b[0m\n",
      "\u001b[0;32m~/anaconda3/envs/NIPS/lib/python3.6/site-packages/chainer/variable.py\u001b[0m in \u001b[0;36m_backward_main\u001b[0;34m(self, retain_grad, loss_scale)\u001b[0m\n\u001b[1;32m   1093\u001b[0m \u001b[0;34m\u001b[0m\u001b[0m\n\u001b[1;32m   1094\u001b[0m             gxs = func.backward_accumulate(\n\u001b[0;32m-> 1095\u001b[0;31m                 target_input_indexes, out_grad, in_grad)\n\u001b[0m\u001b[1;32m   1096\u001b[0m \u001b[0;34m\u001b[0m\u001b[0m\n\u001b[1;32m   1097\u001b[0m             \u001b[0;32massert\u001b[0m \u001b[0mlen\u001b[0m\u001b[0;34m(\u001b[0m\u001b[0mgxs\u001b[0m\u001b[0;34m)\u001b[0m \u001b[0;34m==\u001b[0m \u001b[0mlen\u001b[0m\u001b[0;34m(\u001b[0m\u001b[0min_grad\u001b[0m\u001b[0;34m)\u001b[0m\u001b[0;34m\u001b[0m\u001b[0m\n",
      "\u001b[0;32m~/anaconda3/envs/NIPS/lib/python3.6/site-packages/chainer/function_node.py\u001b[0m in \u001b[0;36mbackward_accumulate\u001b[0;34m(self, target_input_indexes, grad_outputs, grad_inputs)\u001b[0m\n\u001b[1;32m    546\u001b[0m         \u001b[0;31m# The default implementation uses backward(). You can override this\u001b[0m\u001b[0;34m\u001b[0m\u001b[0;34m\u001b[0m\u001b[0m\n\u001b[1;32m    547\u001b[0m         \u001b[0;31m# method without using backward().\u001b[0m\u001b[0;34m\u001b[0m\u001b[0;34m\u001b[0m\u001b[0m\n\u001b[0;32m--> 548\u001b[0;31m         \u001b[0mgxs\u001b[0m \u001b[0;34m=\u001b[0m \u001b[0mself\u001b[0m\u001b[0;34m.\u001b[0m\u001b[0mbackward\u001b[0m\u001b[0;34m(\u001b[0m\u001b[0mtarget_input_indexes\u001b[0m\u001b[0;34m,\u001b[0m \u001b[0mgrad_outputs\u001b[0m\u001b[0;34m)\u001b[0m\u001b[0;34m\u001b[0m\u001b[0m\n\u001b[0m\u001b[1;32m    549\u001b[0m \u001b[0;34m\u001b[0m\u001b[0m\n\u001b[1;32m    550\u001b[0m         \u001b[0mlen_gxs\u001b[0m \u001b[0;34m=\u001b[0m \u001b[0mlen\u001b[0m\u001b[0;34m(\u001b[0m\u001b[0mgxs\u001b[0m\u001b[0;34m)\u001b[0m\u001b[0;34m\u001b[0m\u001b[0m\n",
      "\u001b[0;31mKeyboardInterrupt\u001b[0m: "
     ]
    }
   ],
   "source": [
    "'''\n",
    "Questions\n",
    "Learn model training in chainer\n",
    "'''\n",
    "for i in range(epochs):\n",
    "    loss_history['training'].append(0)\n",
    "\n",
    "    for j, batch in enumerate(training_iterator):\n",
    "        with chainer.using_config('train', True):\n",
    "            t, x = concat_examples(batch)\n",
    "            y = model(x)\n",
    "            # (1) start\n",
    "            loss = lossFunction(t, y)\n",
    "            # ...\n",
    "            # ...\n",
    "            # ...\n",
    "            # (1) end\n",
    "            # Calculate the gradients in the network\n",
    "            model.cleargrads()\n",
    "            loss.backward()\n",
    "            # Update all the trainable parameters\n",
    "            optimizer.update()\n",
    "\n",
    "        loss_history['training'][-1] += float(loss.data)\n",
    "\n",
    "    loss_history['training'][-1] /= j + 1\n",
    "    # (2) start\n",
    "    # ...\n",
    "    loss_history['validation'].append(0)\n",
    "\n",
    "    for j, batch in enumerate(validation_iterator):\n",
    "        with chainer.using_config('train', False):\n",
    "            t, x = concat_examples(batch)\n",
    "            y = model(x)\n",
    "            loss = lossFunction(t, y)\n",
    "\n",
    "        # ...\n",
    "        loss_history['validation'][-1] += float(loss.data)\n",
    "\n",
    "    loss_history['validation'][-1] /= j + 1\n",
    "    # ...\n",
    "    \n",
    "    \n",
    "    # (2) end\n",
    "    epoch = i + 1\n",
    "    print('epoch: {:3d} / {:03d}, training loss: {:.4f}, validation loss: {:.4f}.'.format(epoch, epochs, loss_history['training'], loss_history['validation']))\n",
    "    np.savez('{:s}/loss_history_{:03d}.npz'.format(model_directory, epoch), loss_history)\n",
    "    # (3) start\n",
    "    serializers.save_npz('{:s}/model_{:03d}.npz'.format(model_directory, epoch), model)\n",
    "    # (3) end\n",
    "    serializers.save_npz('{:s}/optimizer_{:03d}.npz'.format(model_directory, epoch), optimizer)"
   ]
  },
  {
   "cell_type": "markdown",
   "metadata": {
    "colab_type": "text",
    "id": "7YivB1PQ7Obh"
   },
   "source": [
    "**Test (45 points + 15 bonus points)**  \n",
    "In the following cell, you will test your model.  \n",
    "*Tasks*\n",
    "- (1) Estimate the test loss, print it and save it. (**15 points**)\n",
    "- (2) Estimate the validation metrics, print them and save them (tip: scikit-image) (**15 bonus points**)\n",
    "- (3) Plot example results (i.e., plot a few t, x and y) (**10 points**)\n",
    "- (4) Dicuss your implementation in 300 - 350 words (e.g., how good your results are, how you can improve your model, etc.) (**20 points**)"
   ]
  },
  {
   "cell_type": "code",
   "execution_count": null,
   "metadata": {
    "colab": {},
    "colab_type": "code",
    "id": "zdlnCFDS-Cdh"
   },
   "outputs": [],
   "source": [
    "# (1), (2) and (3) start\n",
    "# .\n",
    "# .\n",
    "# .\n",
    "# (1), (2) and (3) end\n",
    "\n",
    "# (4) Write your answer here."
   ]
  }
 ],
 "metadata": {
  "colab": {
   "collapsed_sections": [],
   "name": "weeks_2_and_3_assignment.ipynb",
   "provenance": [],
   "version": "0.3.2"
  },
  "kernelspec": {
   "display_name": "Python 3",
   "language": "python",
   "name": "python3"
  },
  "language_info": {
   "codemirror_mode": {
    "name": "ipython",
    "version": 3
   },
   "file_extension": ".py",
   "mimetype": "text/x-python",
   "name": "python",
   "nbconvert_exporter": "python",
   "pygments_lexer": "ipython3",
   "version": "3.6.6"
  }
 },
 "nbformat": 4,
 "nbformat_minor": 1
}
