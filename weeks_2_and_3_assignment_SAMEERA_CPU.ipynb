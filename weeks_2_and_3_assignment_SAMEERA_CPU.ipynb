{
 "cells": [
  {
   "cell_type": "markdown",
   "metadata": {
    "colab_type": "text",
    "id": "HlqVBEfLBOF_"
   },
   "source": [
    "**SOW-MKI49: Neural Information Processing Systems**  \n",
    "*Weeks 2 and 3: Assignment (200 points + 20 bonus points + 1 bonus point for each bug you find and another bonus point if you debug it and before you ask, no, typos unfortunately are not considered bugs - first come, first served)*  \n",
    "Author: Umut"
   ]
  },
  {
   "cell_type": "code",
   "execution_count": null,
   "metadata": {
    "colab": {},
    "colab_type": "code",
    "id": "rT8BaKk5CpeB"
   },
   "outputs": [],
   "source": [
    "# Group 17: ...\n",
    "# Sameera Sandaruwan - s1014012\n",
    "# Student 2 name, student 2 number: ...\n",
    "# Student 3 name, student 3 number: ..."
   ]
  },
  {
   "cell_type": "markdown",
   "metadata": {},
   "source": [
    "# To Do List\n",
    "1. Finish questions answers - (image resizing function)\n",
    "2. Training problem - resize\n",
    "3. TotalVariation Loss"
   ]
  },
  {
   "cell_type": "code",
   "execution_count": 1,
   "metadata": {
    "colab": {},
    "colab_type": "code",
    "id": "00iIAIv37Del"
   },
   "outputs": [],
   "source": [
    "batch_size = 4\n",
    "data_directory = 'Data' # Make a directory to store the data and enter it here.\n",
    "                    # We will be using a smaller dataset (LFW) than the one used in the paper (CelebA) for computational resource considerations.\n",
    "                    # Download it from http://vis-www.cs.umass.edu/lfw/lfw-deepfunneled.tgz.\n",
    "device = -1 #sameera GPU - 0\n",
    "epochs = 4 #100\n",
    "lambda_ = {'feature': 1., 'pixel': 1., 'total_variation': 1e-5}\n",
    "model_directory = 'Model' # Make a directory to store the models and enter it here. Move Vgg4Layers.npz to the model directory.\n",
    "outsize = (96, 96)"
   ]
  },
  {
   "cell_type": "markdown",
   "metadata": {
    "colab_type": "text",
    "id": "86zZctPu1K2M"
   },
   "source": [
    "**Packages (10 points)**  \n",
    "In this cell, you will import the required packages.  \n",
    "*Tasks*   \n",
    "- (1) It is always good practice to first think about the big picture and not rush into writing code before clearly knowing everything that you will have to do so as to avoid future complications. Therefore, your first task is to study the skeleton code and come up with a plan of how to proceed. (**0 points**)\n",
    "- (2) However, I agree that doing so is arguably the most boring part of coding, and you rather skip it. To help you to resist the temptation of skipping going through the skeleton code, I have removed the import statements. Your second task is to Identify the required packages and import them. Note that if you are using Python 2.7, you should import print from the future. (**10 points**)"
   ]
  },
  {
   "cell_type": "code",
   "execution_count": 3,
   "metadata": {
    "colab": {},
    "colab_type": "code",
    "id": "RBiJw5pV030o"
   },
   "outputs": [],
   "source": [
    "# (2) start\n",
    "import numpy as np\n",
    "import cv2\n",
    "from PIL import Image\n",
    "import os\n",
    "from matplotlib import pyplot as plt\n",
    "%matplotlib inline\n"
   ]
  },
  {
   "cell_type": "code",
   "execution_count": 3,
   "metadata": {},
   "outputs": [],
   "source": [
    "import chainer\n",
    "from chainer import Function, gradient_check, report, training, utils, Variable\n",
    "from chainer import datasets, iterators, serializers, dataset\n",
    "from chainer import Link, Chain, ChainList\n",
    "from chainer.optimizers import Adam\n",
    "from chainer.dataset import concat_examples\n",
    "import chainer.functions as F\n",
    "import chainer.links as L\n",
    "from chainer.training import extensions"
   ]
  },
  {
   "cell_type": "markdown",
   "metadata": {
    "colab_type": "text",
    "id": "JOhjvsOx9lJY"
   },
   "source": [
    "**Preprocessing functions (10 points + 5 bonus points)** (taken from https://github.com/mbeyeler/opencv-python-blueprints)  \n",
    "In the following cell, you will implement some of the preprocessing functions. The rest of the preprocessing steps have already been applied to the data.  \n",
    "*Tasks*\n",
    "- (1) Implement the resizing operation. That is, you should extract the data, resize each portrait to 96 pixels x 96 pixels and save them to the data directory as JPG. (**10 points **)\n",
    "- (2) The pencil sketch class implements the sketch effect in a simpler way than the one mentioned in the lecture. Explain how/why the used operations (blur and divide) convert portraits to sketches, and how it differs from that which was mentioned in the lecture? (**5 bonus points**)"
   ]
  },
  {
   "cell_type": "code",
   "execution_count": 4,
   "metadata": {
    "colab": {},
    "colab_type": "code",
    "id": "iY4lbpLK9kp4"
   },
   "outputs": [],
   "source": [
    "# (1) start\n",
    "# . Get from Jitendra\n",
    "# .\n",
    "# .\n",
    "# (1) end\n",
    "\n",
    "class PencilSketch:\n",
    "    \"\"\"Pencil sketch effect\n",
    "        A class that applies a pencil sketch effect to an image.\n",
    "    \"\"\"\n",
    "\n",
    "    def __init__(self, width, height, bg_gray='pencilsketch_bg.jpg'): #ERROR: can't have () here --> def __init__(self, (width, height)):\n",
    "        \"\"\"Initialize parameters\n",
    "            :param (width, height): Image size.\n",
    "        \"\"\"\n",
    "        self.width = width\n",
    "        self.height = height\n",
    "\n",
    "        ### ERROR: useless\n",
    "        # try to open background canvas (if it exists)\n",
    "        self.canvas = cv2.imread(bg_gray, cv2.CV_8UC1)\n",
    "        if self.canvas is not None:\n",
    "            self.canvas = cv2.resize(self.canvas, (self.width, self.height))\n",
    "\n",
    "    def render(self, img_rgb):\n",
    "        \"\"\"Applies pencil sketch effect to an RGB image\n",
    "            :param img_rgb: RGB image to be processed\n",
    "            :returns: Processed RGB image\n",
    "        \"\"\"\n",
    "        img_gray = cv2.cvtColor(img_rgb, cv2.COLOR_RGB2GRAY)\n",
    "        img_blur = cv2.GaussianBlur(img_gray, (21, 21), 0, 0)\n",
    "        img_blend = cv2.divide(img_gray, img_blur, scale=256)\n",
    "\n",
    "        # return cv2.cvtColor(img_blend, cv2.COLOR_GRAY2RGB)\n",
    "        return img_blend\n",
    "\n",
    "def pencil_sketch(img_rgb):\n",
    "    pencilSketch = PencilSketch(img_rgb.shape[1], img_rgb.shape[0])\n",
    "\n",
    "    return pencilSketch.render(img_rgb)\n",
    "\n",
    "# (2) Write your answer here.\n",
    "\n",
    "# chainer conv2d kernal works?\n",
    "\n",
    "#find out what this is\n",
    "def preprocess(img):\n",
    "    if img.mode == 'L':\n",
    "        return np.rollaxis(np.asarray(img, 'float32')[..., None], 2)\n",
    "    else:\n",
    "        return np.rollaxis(np.asarray(img, 'float32')[..., ::-1], 2)"
   ]
  },
  {
   "cell_type": "markdown",
   "metadata": {
    "colab_type": "text",
    "id": "ovQMUuo_7D2k"
   },
   "source": [
    "**Data class**  \n",
    "The following cell defines the data class. It is used to manage the data (loading, etc.). *You do not have to make any changes to the code.*  \n",
    "*Task*\n",
    "- (1) Study the code and refer to the chainer docuimentation if anything is unclear. You will be expected to write similar code by yourself in the coming practicals. (**0 points**)"
   ]
  },
  {
   "cell_type": "code",
   "execution_count": 5,
   "metadata": {
    "colab": {},
    "colab_type": "code",
    "id": "-OF39paH6wff"
   },
   "outputs": [],
   "source": [
    "class Dataset(dataset.DatasetMixin):\n",
    "    def __init__(self, data_files):\n",
    "        self.data_files = data_files\n",
    "\n",
    "    ## ERROR: indentation problem was here\n",
    "    def __len__(self):\n",
    "        return len(self.data_files)\n",
    "\n",
    "    def get_example(self, i):\n",
    "        t = np.asarray(Image.open(self.data_files[i]).convert('RGB').resize((96, 96), Image.LANCZOS), 'f').transpose(2, 0, 1)\n",
    "        x = pencil_sketch(np.asarray(Image.open(self.data_files[i]).convert('RGB').resize((96, 96), Image.LANCZOS), 'f'))[None]\n",
    "        return t, x #t-target (realistic img), x-input(sketch img)"
   ]
  },
  {
   "cell_type": "markdown",
   "metadata": {
    "colab_type": "text",
    "id": "iUjEFdDD6xBq"
   },
   "source": [
    "**Model classes (45 points)**  \n",
    "In the following cell you will implement the model classes.\n",
    "*Tasks*   \n",
    "- (1) Implement the layers of the model by filling in the missing code. (**20 points**)\n",
    "- (2) Reimplement the model as a ChainList instead of a Chain. (**5 points**)\n",
    "- (3) Implement the forward pass of the residual block by filling in the missing code. (**20 points**)"
   ]
  },
  {
   "cell_type": "markdown",
   "metadata": {},
   "source": [
    "# Notes\n",
    "### https://docs.chainer.org/en/stable/glance.html\n",
    "### https://docs.chainer.org/en/stable/guides/index.html\n",
    "### https://docs.chainer.org/en/stable/reference/index.html\n",
    "- what are in_channels, out_channels\n",
    "- wht Functions and Links\n",
    "- param of Convolution2D"
   ]
  },
  {
   "cell_type": "code",
   "execution_count": 6,
   "metadata": {
    "colab": {},
    "colab_type": "code",
    "id": "nafY2Wgx6QLt",
    "scrolled": true
   },
   "outputs": [],
   "source": [
    "class Model(Chain):\n",
    "    def __init__(self, in_channels, outsize):\n",
    "        super(Model, self).__init__()\n",
    "        ''' just inicializing different layers (Links [L]) '''\n",
    "        with self.init_scope():\n",
    "            # (1) start\n",
    "            # convolution2D_0 = ...\n",
    "            self.convolution2D_0 = L.Convolution2D(in_channels=in_channels, out_channels=32, \n",
    "                                                   ksize=9, stride=1, pad=4)\n",
    "            # batchNormalization_0 = ...\n",
    "            self.batchNormalization_0 = L.BatchNormalization(32)\n",
    "            # convolution2D_1 = ...\n",
    "            self.convolution2D_1 = L.Convolution2D(in_channels=32, out_channels=64, \n",
    "                                                   ksize=3, stride=2, pad=1)\n",
    "            # batchNormalization_1 = ...\n",
    "            self.batchNormalization_1 = L.BatchNormalization(64)\n",
    "            # convolution2D_2 = ...\n",
    "            self.convolution2D_2 = L.Convolution2D(in_channels=64, out_channels=128, \n",
    "                                                   ksize=3, stride=2, pad=1)\n",
    "            # batchNormalization_2 = ...\n",
    "            self.batchNormalization_2 = L.BatchNormalization(128)\n",
    "        \n",
    "            \n",
    "            # residualBlock_3 = ...\n",
    "            self.residualBlock_3 = ResidualBlock(128, 128)\n",
    "            # residualBlock_4 = ...\n",
    "            self.residualBlock_4 = ResidualBlock(128, 128)\n",
    "            # residualBlock_5 = ...\n",
    "            self.residualBlock_5 = ResidualBlock(128, 128)\n",
    "            # residualBlock_6 = ...\n",
    "            self.residualBlock_6 = ResidualBlock(128, 128)\n",
    "            # residualBlock_7 = ...\n",
    "            self.residualBlock_7 = ResidualBlock(128, 128)\n",
    "            \n",
    "            # deconvolution2D_8 = ...\n",
    "            #self.deconvolution2D_8 = L.Deconvolution2D(in_channels=128, out_channels=64, \n",
    "            #                                           ksize=3, stride=2, pad=1, nobias=True, outsize=outsize)\n",
    "            self.deconvolution2D_8 = L.Deconvolution2D(128, 64, 3, 2, 1, True, outsize=(48, 48))\n",
    "            # batchNormalization_8 = ...\n",
    "            self.batchNormalization_8 = L.BatchNormalization(64)\n",
    "            # (1) end\n",
    "            self.deconvolution2D_9 = L.Deconvolution2D(64, 32, 3, 2, 1, True, outsize=outsize)\n",
    "            self.batchNormalization_9 = L.BatchNormalization(32)\n",
    "            self.convolution2D_10 = L.Convolution2D(32, 3, 9, stride=1, pad=4, nobias = True)\n",
    "            self.batchNormalization_10 = L.BatchNormalization(3)\n",
    "\n",
    "        self.in_channels = in_channels\n",
    "        self.outsize = outsize\n",
    "\n",
    "    def __call__(self, x, finetune = False):\n",
    "        ''' creating the model using the defined \n",
    "        layers and arranging them sequencially. (Functions [F])'''\n",
    "        h = self.convolution2D_0(x)\n",
    "        h = self.batchNormalization_0(h, finetune=finetune)\n",
    "        h = F.relu(h)\n",
    "        h = self.convolution2D_1(h)\n",
    "        h = self.batchNormalization_1(h, finetune=finetune)\n",
    "        h = F.relu(h)\n",
    "        h = self.convolution2D_2(h)\n",
    "        h = self.batchNormalization_2(h, finetune=finetune)\n",
    "        h = F.relu(h)\n",
    "        h = self.residualBlock_3(h, finetune=finetune)\n",
    "        h = self.residualBlock_4(h, finetune=finetune)\n",
    "        h = self.residualBlock_5(h, finetune=finetune)\n",
    "        h = self.residualBlock_6(h, finetune=finetune)\n",
    "        h = self.residualBlock_7(h, finetune=finetune)\n",
    "        h = self.deconvolution2D_8(h)\n",
    "        h = self.batchNormalization_8(h, finetune=finetune)\n",
    "        h = F.relu(h)\n",
    "        h = self.deconvolution2D_9(h)\n",
    "        h = self.batchNormalization_9(h, finetune=finetune)\n",
    "        h = F.relu(h)\n",
    "        h = self.convolution2D_10(h)\n",
    "        h = self.batchNormalization_10(h, finetune=finetune)\n",
    "        y = 127.5 * F.tanh(h) + 127.5 # QQQ: what is this\n",
    "\n",
    "        return y\n",
    "\n",
    "# Another way to define a chain is using the ChainList class, \n",
    "# which behaves like a list of links:\n",
    "class ModelCL(ChainList):\n",
    "    # (2) start\n",
    "    def __init__(self, in_channels, outsize):\n",
    "        # super init is the difference in ChainList\n",
    "        super(ModelCL, self).__init__(\n",
    "            L.Convolution2D(in_channels=in_channels, out_channels=32, ksize=9, stride=1, pad=4),#0\n",
    "            L.BatchNormalization(32),#1\n",
    "            L.Convolution2D(in_channels=32, out_channels=64, ksize=3, stride=2, pad=1),#2\n",
    "            L.BatchNormalization(64),#3\n",
    "            L.Convolution2D(in_channels=64, out_channels=128, ksize=3, stride=2, pad=1),#4\n",
    "            L.BatchNormalization(128),#5\n",
    "            ResidualBlock(128, 128),#6\n",
    "            ResidualBlock(128, 128),#7\n",
    "            ResidualBlock(128, 128),#8\n",
    "            ResidualBlock(128, 128),#9\n",
    "            ResidualBlock(128, 128),#10\n",
    "            L.Deconvolution2D(in_channels=128, out_channels=64, ksize=3, stride=2, pad=1, nobias=True, \n",
    "                              outsize=(48,48)),#11\n",
    "            L.BatchNormalization(64),#12\n",
    "            L.Deconvolution2D(64, 32, 3, 2, 1, True, outsize),#13\n",
    "            L.BatchNormalization(32),#14\n",
    "            L.Convolution2D(32, 3, 9, pad = 4, nobias = True),#15\n",
    "            L.BatchNormalization(3)#16\n",
    "        )\n",
    "        \n",
    "        self.in_channels = in_channels\n",
    "        self.outsize = outsize\n",
    "\n",
    "    def __call__(self, x, finetune = False):\n",
    "        ''' creating the model using the defined \n",
    "        layers and arranging them sequencially. (Functions [F])'''\n",
    "        h = self[0](x)\n",
    "        h = self[1](h, finetune)\n",
    "        h = F.relu(h)\n",
    "        h = self[2](h)\n",
    "        h = self[3](h, finetune)\n",
    "        h = F.relu(h)\n",
    "        h = self[4](h)\n",
    "        h = self[5](h, finetune)\n",
    "        h = F.relu(h)\n",
    "        h = self[6](h, finetune)\n",
    "        h = self[7](h, finetune)\n",
    "        h = self[8](h, finetune)\n",
    "        h = self[9](h, finetune)\n",
    "        h = self[10](h, finetune)\n",
    "        h = self[11](h)\n",
    "        h = self[12](h, finetune)\n",
    "        h = F.relu(h)\n",
    "        h = self[13](h)\n",
    "        h = self[14](h, finetune)\n",
    "        h = F.relu(h)\n",
    "        h = self[15](h)\n",
    "        h = self[16](h, finetune)\n",
    "        y = 127.5 * F.tanh(h) + 127.5\n",
    "\n",
    "        return y\n",
    "    # (2) end\n",
    "\n",
    "'''\n",
    "Questions:\n",
    "1. nobias = for neurons no bias variable (b) form (W,b)\n",
    "2. pad ??\n",
    "3. \n",
    "'''    \n",
    "    \n",
    "class ResidualBlock(Chain):\n",
    "    def __init__(self, in_channels, out_channels):\n",
    "        super(ResidualBlock, self).__init__()\n",
    "\n",
    "        with self.init_scope():\n",
    "            self.convolution2D_0 = L.Convolution2D( in_channels, out_channels, ksize=3, \n",
    "                                                   stride=1, pad = 1, nobias = True)\n",
    "            self.batchNormalization_0 = L.BatchNormalization(out_channels)\n",
    "            self.convolution2D_1 = L.Convolution2D(out_channels, out_channels, ksize=3, \n",
    "                                                   stride=1, pad = 1, nobias = True)\n",
    "            self.batchNormalization_1 = L.BatchNormalization(out_channels)\n",
    "        \n",
    "        self.in_channels = in_channels\n",
    "        self.out_channels = out_channels\n",
    "\n",
    "    def __call__(self, x, finetune = False):\n",
    "        # (3) start - configuraiton might be different here\n",
    "        h = self.convolution2D_0(x)\n",
    "        h = self.batchNormalization_0(h, finetune=finetune)\n",
    "        h = F.relu(h)\n",
    "        h = self.convolution2D_1(h)\n",
    "        h = self.batchNormalization_1(h, finetune=finetune)\n",
    "        y = h+x # no activation is used; as for the paper\n",
    "        # (3) start\n",
    "\n",
    "        return y"
   ]
  },
  {
   "cell_type": "markdown",
   "metadata": {
    "colab_type": "text",
    "id": "euDbOQWT1UA8"
   },
   "source": [
    "**Loss classes (45 points)**  \n",
    "In the following cell, you will implement the loss classes.  \n",
    "*Tasks*  \n",
    "- (1) You are provided with a custom VGG-16 implementation. How does it differ than the original implementation? Why can we get away with using the simpler implementation? (**5 points**)\n",
    "- (2) Implement the missing convolution layer of the total variation loss by filling in the missing code. (**10 points**)\n",
    "- (3) Implement the forward pass of the total variation loss by filling in the missing code. (**10 points**)\n",
    "- (4) Implement the feature loss component in the forward pass of the loss function by filling in the missing code. (**10 points**)\n",
    "- (5) Explain why the loss components are scaled. (**5 points**)\n",
    "- (6) Explain why the target features are extracted in test mode. (**5 points**)"
   ]
  },
  {
   "cell_type": "code",
   "execution_count": 7,
   "metadata": {
    "colab": {},
    "colab_type": "code",
    "id": "9DqHGhS_1M_x"
   },
   "outputs": [],
   "source": [
    "class Vgg4Layers(Chain):\n",
    "    def __init__(self):\n",
    "        super(Vgg4Layers, self).__init__()\n",
    "\n",
    "        with self.init_scope():\n",
    "            self.conv1_1 = L.Convolution2D(  3,  64, 3, pad = 1)\n",
    "            self.conv1_2 = L.Convolution2D( 64,  64, 3, pad = 1)\n",
    "            self.conv2_1 = L.Convolution2D( 64, 128, 3, pad = 1)\n",
    "            self.conv2_2 = L.Convolution2D(128, 128, 3, pad = 1)\n",
    "        #wht is this - adding a persistent value\n",
    "        #Link.add_persistent(self, name='mean', value=np.array([[[[103.939]],[[116.779]],[[ 123.68]]]], dtype='float32'))\n",
    "        #self.mean = np.array([[[[103.939]],[[116.779]],[[ 123.68]]]], dtype='float32')\n",
    "\n",
    "    def __call__(self, x):\n",
    "        #broadcast_to = Broadcast a given variable to a given shape.\n",
    "        h = x - F.broadcast_to(self.mean, x.shape)\n",
    "        h = self.conv1_1(h)\n",
    "        h = F.relu(h)\n",
    "        h = self.conv1_2(h)\n",
    "        h = F.relu(h)\n",
    "        h = F.max_pooling_2d(h, 2, 2)\n",
    "        h = self.conv2_1(h)\n",
    "        h = F.relu(h)\n",
    "        h = self.conv2_2(h)\n",
    "        y = F.relu(h)\n",
    "\n",
    "        return y\n"
   ]
  },
  {
   "cell_type": "code",
   "execution_count": 8,
   "metadata": {},
   "outputs": [],
   "source": [
    "# 1. Total Variation Loss\n",
    "# 2. feature loss\n",
    "'''\n",
    "How 2x2 kernal convolution produce the total variation loss\n",
    "how kernal values are initialized\n",
    "how does the 2x2 kernal convolution operation accomplish the total variation loss given in the eqn. \n",
    "Does the 2 layer\n",
    "struct. help with that.\n",
    "\n",
    "Convolve input with the kernel [-1; 1] and square\n",
    "Convolve input with the kernel [-1, 1] and square\n",
    "Sum everything and take the square root\n",
    "\n",
    "'''\n",
    "class TotalVariationLoss(Chain):\n",
    "    def __init__(self):\n",
    "        super(TotalVariationLoss, self).__init__()\n",
    "        with self.init_scope():\n",
    "            self.convolution2D_0 = L.Convolution2D(in_channels=3, out_channels=1, ksize=2, nobias=True, \n",
    "                                                   initialW=np.array([3 * [[[-1], [1]]]], 'float32'))\n",
    "            # (2) start\n",
    "            self.convolution2D_1 = L.Convolution2D(in_channels=3, out_channels=1, ksize=2, nobias=True, \n",
    "                                                   initialW=np.array([3 * [[[-1, 1]]]], 'float32'))\n",
    "            # (2) end\n",
    "\n",
    "    def __call__(self, x):\n",
    "        # (3) start\n",
    "        # y = ...\n",
    "        # (3) end\n",
    "        h = self.convolution2D_0(x)\n",
    "        sq1 = np.square(h)\n",
    "        h = self.convolution2D_1(x)\n",
    "        sq2 = np.square(h)\n",
    "        loss_sum = sq1+sq2\n",
    "        y = loss_sum ** 0.5\n",
    "        y = np.sum(y)\n",
    "        \n",
    "        return y\n",
    "\n",
    "    \n",
    "class LossFunction(object):\n",
    "    def __init__(self, lambda_):\n",
    "        self.totalVariationLoss = TotalVariationLoss()\n",
    "        self.vgg4Layers         = Vgg4Layers()\n",
    "\n",
    "    def __call__(self, t, y):            \n",
    "        with chainer.using_config('train', False):\n",
    "            t_ = self.vgg4Layers(t)\n",
    "        # (4) start\n",
    "        # y_ = ...\n",
    "            y_ = self.vgg4Layers(y)\n",
    "        \n",
    "        '''\n",
    "        class chainer.links.VGG16Layers(pretrained_model='auto')\n",
    "        model = chainer.links.VGG16Layers()\n",
    "        t_hat = model.extract(t, layers = [‘conv2_2’], (96, 96))\n",
    "        y_hat = model.extract(y, layers = [‘conv2_2’], (96, 96))\n",
    "        feature_loss = chainer.functions.mean_squared_error(t_hat, y_hat)\n",
    "        '''\n",
    "        \n",
    "        feature_loss = lambda_['feature'] * F.mean_squared_error(t_ , y_)\n",
    "        # (4) end\n",
    "        pixel_loss = lambda_['pixel'] * F.mean_squared_error(t , y)\n",
    "        total_variation_loss = lambda_['total_variation'] * self.totalVariationLoss(y)\n",
    "        loss = feature_loss + pixel_loss + total_variation_loss\n",
    "\n",
    "        return loss\n",
    "\n",
    "# (1) Write your answer here.\n",
    "# (5) Write your answer here.\n",
    "# (6) Write your answer here."
   ]
  },
  {
   "cell_type": "markdown",
   "metadata": {
    "colab_type": "text",
    "id": "_nGcCNEy8p3g"
   },
   "source": [
    "**Initialization (10 points)**  \n",
    "The following cell initializes the loss function, the loss history, the model, the optimizer, the datasets and the iterators. *You do not have to make any changes to the code.*  \n",
    "*Tasks*\n",
    "- (1) Study the code and refer to the chainer docuimentation if anything is unclear. You will be expected to write similar code by yourself in the coming practicals. (**0 points**)  \n",
    "- (2) What are the boolean arguments that are passed to the SerialIterator class? (**5 points**)  \n",
    "- (3) Why is it false for the training iterator but not for other iterators? In other words, what would happen if we were to set it to false for the training iterator and true for the other iterators? (**5 points**)"
   ]
  },
  {
   "cell_type": "code",
   "execution_count": 12,
   "metadata": {
    "colab": {},
    "colab_type": "code",
    "id": "hAa-KI4W-3Mm"
   },
   "outputs": [
    {
     "name": "stdout",
     "output_type": "stream",
     "text": [
      "13233\n"
     ]
    }
   ],
   "source": [
    "lossFunction = LossFunction(lambda_)\n",
    "serializers.load_npz('{:s}/Vgg4Layers.npz'.format(model_directory), lossFunction.vgg4Layers)\n",
    "'''Question\n",
    "What does mean do??\n",
    "'''\n",
    "lossFunction.vgg4Layers.add_persistent('mean', np.array([[[[103.939]], [[116.779]], [[123.68]]]], 'float32'))\n",
    "\n",
    "loss_history = {'training': [], 'validation': []}\n",
    "model = Model(1, outsize) if device < 0 else Model(1, outsize).to_gpu(device)\n",
    "\n",
    "# Adam parameters\n",
    "# alpha = 0.001/0.0002, beta1= 0.9/0.5, beta2 = 0.999, epsilon = 1/0.1/1e-8\n",
    "\n",
    "\n",
    "optimizer = Adam(alpha=0.001, beta1=0.9, beta2=0.999, eps=1e-08)\n",
    "optimizer.setup(model)\n",
    "\n",
    "\n",
    "import glob\n",
    "data_file = sorted(glob.glob('{}/*/*.jpg'.format(data_directory)))\n",
    "print(len(data_file))\n",
    "\n",
    "train_len = 0.799\n",
    "training_set = Dataset(data_file[:int(train_len * len(data_file))])\n",
    "validation_set = Dataset(data_file[int(train_len * len(data_file)) : int(.8 * len(data_file))])\n",
    "test_set = Dataset(data_file[int(.8 * len(data_file)) :])\n",
    "\n",
    "\n",
    "training_iterator = iterators.SerialIterator(training_set, batch_size, False, True)\n",
    "validation_iterator = iterators.SerialIterator(validation_set, batch_size, False, False)\n",
    "test_iterator = iterators.SerialIterator(test_set , batch_size, False, False)\n",
    "\n",
    "\n",
    "debug_test_set_1 = Dataset(data_file[-4:])\n",
    "debug_test_set_2 = Dataset(data_file[-4:])\n",
    "debug_test_iterator_1 = iterators.SerialIterator(debug_test_set_1 , batch_size, False, False)\n",
    "debug_test_iterator_2 = iterators.SerialIterator(debug_test_set_2 , batch_size, False, False)\n",
    "# (2) Write your answer here.\n",
    "# repeat=False, shuffle=False\n",
    "\n",
    "# (3) Write your answer here.\n",
    "# during the training process, it's batches are selected from a shuffled dataset which makes the training more \n",
    "# generalized. But if we shuffeld the test and validation data, metrics we use to evaluate the model \n",
    "# (accuracy, loss,..) will have much different values due to the shuffel. Hence, using unshuffeled data during test\n",
    "# validation makes it easier to determine that only training will effect the changes in evaluation metrics."
   ]
  },
  {
   "cell_type": "code",
   "execution_count": 73,
   "metadata": {
    "collapsed": true
   },
   "outputs": [
    {
     "name": "stdout",
     "output_type": "stream",
     "text": [
      "(4, 1, 95, 95)\n",
      "(4, 1, 95, 95)\n",
      "---\n",
      "<class 'numpy.ndarray'>\n",
      "(4, 1, 95, 95)\n",
      "<class 'chainer.variable.Variable'>\n",
      "()\n",
      "variable(597145.4)\n",
      "(4, 1, 95, 95)\n",
      "(4, 1, 95, 95)\n",
      "---\n",
      "<class 'numpy.ndarray'>\n",
      "(4, 1, 95, 95)\n",
      "<class 'chainer.variable.Variable'>\n",
      "()\n",
      "variable(615107.6)\n",
      "(4, 1, 95, 95)\n",
      "(4, 1, 95, 95)\n",
      "---\n",
      "<class 'numpy.ndarray'>\n",
      "(4, 1, 95, 95)\n",
      "<class 'chainer.variable.Variable'>\n",
      "()\n",
      "variable(669783.56)\n",
      "(2, 1, 95, 95)\n",
      "(2, 1, 95, 95)\n",
      "---\n",
      "<class 'numpy.ndarray'>\n",
      "(2, 1, 95, 95)\n",
      "<class 'chainer.variable.Variable'>\n",
      "()\n",
      "variable(630671.7)\n"
     ]
    }
   ],
   "source": [
    "aaa_test_set = Dataset(data_file[int(.999 * len(data_file)) :])\n",
    "aaa_iterator = iterators.SerialIterator(aaa_test_set , batch_size, False, True)\n",
    "for j, batch in enumerate(aaa_iterator):\n",
    "    with chainer.using_config('train', True):\n",
    "        t, x = concat_examples(batch=batch, device=device)\n",
    "        y = model(x)\n",
    "        loss = lossFunction(t, y)\n",
    "        print(loss)"
   ]
  },
  {
   "cell_type": "code",
   "execution_count": 10,
   "metadata": {
    "scrolled": true
   },
   "outputs": [
    {
     "name": "stdout",
     "output_type": "stream",
     "text": [
      "train | epoch =0 | time=170.46917128562927 sec | loss=456026.4375\n",
      "validation variable(432475.2)\n",
      "validation variable(420631.3)\n",
      "validation variable(464616.16)\n",
      "validation variable(293343.3)\n",
      "validation | epoch =0 | time=83.09318137168884 sec | loss=402766.4921875\n",
      "epoch:   1 / 005, training loss: 456026.4375, validation loss: 402766.4921875.\n",
      "train | epoch =1 | time=196.923424243927 sec | loss=322215.3671875\n",
      "validation variable(424542.78)\n",
      "validation variable(409688.6)\n",
      "validation variable(458491.03)\n",
      "validation variable(289235.12)\n",
      "validation | epoch =1 | time=69.89036130905151 sec | loss=395489.3828125\n",
      "epoch:   2 / 005, training loss: 322215.3671875, validation loss: 395489.3828125.\n",
      "train | epoch =2 | time=171.86837434768677 sec | loss=294491.90625\n",
      "validation variable(429268.97)\n",
      "validation variable(415110.72)\n",
      "validation variable(459646.62)\n",
      "validation variable(283779.75)\n",
      "validation | epoch =2 | time=67.82609534263611 sec | loss=396951.515625\n",
      "epoch:   3 / 005, training loss: 294491.90625, validation loss: 396951.515625.\n",
      "train | epoch =3 | time=196.47498416900635 sec | loss=261264.83203125\n",
      "validation variable(402219.03)\n",
      "validation variable(381555.56)\n",
      "validation variable(422956.53)\n",
      "validation variable(272027.56)\n",
      "validation | epoch =3 | time=75.38920450210571 sec | loss=369689.671875\n",
      "epoch:   4 / 005, training loss: 261264.83203125, validation loss: 369689.671875.\n",
      "train | epoch =4 | time=163.32553791999817 sec | loss=225730.5234375\n",
      "validation variable(510736.34)\n",
      "validation variable(487929.84)\n",
      "validation variable(516817.38)\n",
      "validation variable(416745.03)\n",
      "validation | epoch =4 | time=69.37901544570923 sec | loss=483057.1484375\n",
      "epoch:   5 / 005, training loss: 225730.5234375, validation loss: 483057.1484375.\n"
     ]
    }
   ],
   "source": [
    "# TEST of Training\n",
    "import time\n",
    "\n",
    "for i in range(epochs):#epochs\n",
    "    epoch = i + 1\n",
    "    loss_history['training'].append(0)\n",
    "    \n",
    "    start_time = time.time()\n",
    "    for j, batch in enumerate(aaa_iterator):\n",
    "        with chainer.using_config('train', True):\n",
    "            t, x = concat_examples(batch=batch, device=device)\n",
    "            y = model(x)\n",
    "            # (1) start\n",
    "            loss = lossFunction(t, y)\n",
    "            # Calculate the gradients in the network\n",
    "            model.cleargrads()\n",
    "            loss.backward()\n",
    "            # Update all the trainable parameters\n",
    "            optimizer.update()\n",
    "            # (1) end\n",
    "\n",
    "        loss_history['training'][-1] += float(loss.data)\n",
    "        #print('train',loss)\n",
    "\n",
    "    loss_history['training'][-1] /= j + 1\n",
    "    print('train | epoch ={} | time={} sec | loss={}'.format(i, (time.time() - start_time), \n",
    "                                                             loss_history['training'][-1]) )\n",
    "    \n",
    "    # (2) start\n",
    "    loss_history['validation'].append(0)\n",
    "    start_time = time.time()\n",
    "    for j, batch in enumerate(validation_iterator):\n",
    "        with chainer.using_config('train', False):\n",
    "            t, x = concat_examples(batch=batch, device=device)\n",
    "            y = model(x)\n",
    "            loss = lossFunction(t, y)\n",
    "\n",
    "        # ...\n",
    "        loss_history['validation'][-1] += float(loss.data)\n",
    "        #print('validation',loss)\n",
    "\n",
    "    loss_history['validation'][-1] /= j + 1\n",
    "    print('validation | epoch ={} | time={} sec | loss={}'.format(i, (time.time() - start_time), \n",
    "                                                             loss_history['validation'][-1]) )\n",
    "    \n",
    "    # ...\n",
    "    print('epoch: {:3d} / {:03d}, training loss: {}, validation loss: {}.'.format(epoch, epochs, loss_history['training'][-1], loss_history['validation'][-1]))\n",
    "    np.savez('{:s}/loss_history_{:03d}.npz'.format(model_directory, epoch), loss_history)\n",
    "    # (3) start\n",
    "    serializers.save_npz('{:s}/model_{:03d}.npz'.format(model_directory, epoch), model)\n",
    "    # (3) end\n",
    "    serializers.save_npz('{:s}/optimizer_{:03d}.npz'.format(model_directory, epoch), optimizer)\n",
    "    \n",
    "    training_set = Dataset(data_file[:int(train_len * len(data_file))])\n",
    "    validation_set = Dataset(data_file[int(train_len * len(data_file)) : int(.8 * len(data_file))])\n",
    "    test_set = Dataset(data_file[int(.8 * len(data_file)) :])\n",
    "\n",
    "    training_iterator = iterators.SerialIterator(training_set, batch_size, False, True)\n",
    "    validation_iterator = iterators.SerialIterator(validation_set, batch_size, False, False)\n",
    "    test_iterator = iterators.SerialIterator(test_set , batch_size, False, False)\n"
   ]
  },
  {
   "cell_type": "code",
   "execution_count": 12,
   "metadata": {
    "collapsed": true
   },
   "outputs": [
    {
     "data": {
      "text/plain": [
       "[<matplotlib.lines.Line2D at 0x7f9db9c70a90>]"
      ]
     },
     "execution_count": 12,
     "metadata": {},
     "output_type": "execute_result"
    },
    {
     "data": {
      "image/png": "[encoded data removed]",
      "text/plain": [
       "<Figure size 432x288 with 1 Axes>"
      ]
     },
     "metadata": {
      "needs_background": "light"
     },
     "output_type": "display_data"
    }
   ],
   "source": [
    "plt.plot(loss_history['training'])"
   ]
  },
  {
   "cell_type": "code",
   "execution_count": 10,
   "metadata": {},
   "outputs": [
    {
     "name": "stdout",
     "output_type": "stream",
     "text": [
      "<class 'dict'>\n"
     ]
    },
    {
     "data": {
      "text/plain": [
       "[<matplotlib.lines.Line2D at 0x7efdc7c4fd68>]"
      ]
     },
     "execution_count": 10,
     "metadata": {},
     "output_type": "execute_result"
    },
    {
     "data": {
      "image/png": "[encoded data removed]",
      "text/plain": [
       "<Figure size 432x288 with 1 Axes>"
      ]
     },
     "metadata": {
      "needs_background": "light"
     },
     "output_type": "display_data"
    }
   ],
   "source": [
    "loss_His = np.load('{:s}/loss_history_{:03d}.npz'.format(model_directory, 4))\n",
    "loss_His = loss_His[loss_His.files[0]]\n",
    "loss_His = loss_His.reshape(1,)[0]\n",
    "print(type(loss_His))\n",
    "\n",
    "\n",
    "plt.plot(loss_His['training'])"
   ]
  },
  {
   "cell_type": "markdown",
   "metadata": {},
   "source": [
    "# Load saved model"
   ]
  },
  {
   "cell_type": "code",
   "execution_count": 14,
   "metadata": {},
   "outputs": [
    {
     "name": "stdout",
     "output_type": "stream",
     "text": [
      "<__main__.Model object at 0x7f9dc92c8a20>\n"
     ]
    }
   ],
   "source": [
    "model_ld = Model(1, outsize)\n",
    "serializers.load_npz('{:s}/model_{:03d}.npz'.format(model_directory, 5), model_ld)\n",
    "print(model_ld)"
   ]
  },
  {
   "cell_type": "code",
   "execution_count": 15,
   "metadata": {},
   "outputs": [],
   "source": [
    "optimizer_ld = Adam(alpha=0.001, beta1=0.9, beta2=0.999, eps=1e-08)\n",
    "\n",
    "optimizer_ld.setup(model_ld)\n",
    "serializers.load_npz('{:s}/optimizer_{:03d}.npz'.format(model_directory, 5), optimizer_ld)"
   ]
  },
  {
   "cell_type": "markdown",
   "metadata": {},
   "source": [
    "# Testing"
   ]
  },
  {
   "cell_type": "code",
   "execution_count": 16,
   "metadata": {},
   "outputs": [
    {
     "name": "stdout",
     "output_type": "stream",
     "text": [
      "variable(415819.6)\n"
     ]
    }
   ],
   "source": [
    "# trained model\n",
    "for j, batch in enumerate(debug_test_iterator_1):\n",
    "    with chainer.using_config('train', False):\n",
    "        t, x = concat_examples(batch=batch, device=device)\n",
    "        y = model(x)\n",
    "        loss = lossFunction(t, y)\n",
    "        print(loss)"
   ]
  },
  {
   "cell_type": "code",
   "execution_count": 17,
   "metadata": {},
   "outputs": [
    {
     "name": "stdout",
     "output_type": "stream",
     "text": [
      "variable(415819.6)\n"
     ]
    }
   ],
   "source": [
    "# loaded model\n",
    "for j, batch in enumerate(debug_test_iterator_2):\n",
    "    with chainer.using_config('train', False):\n",
    "        t, x = concat_examples(batch=batch, device=device)\n",
    "        y = model_ld(x)\n",
    "        loss = lossFunction(t, y)\n",
    "        print(loss)"
   ]
  },
  {
   "cell_type": "markdown",
   "metadata": {
    "colab_type": "text",
    "id": "KAKIEbqPFzsc"
   },
   "source": [
    "**Training and validation (20 points)**  \n",
    "In the following cell, you will train and validate your model.\n",
    "*Tasks*   \n",
    "- (1) Implement training loss estimation, backprop and parameter update. (**10 points**)\n",
    "- (2) Implement validation loss history (**5 points**)\n",
    "- (3) Implement model serialization  (**5 points**)"
   ]
  },
  {
   "cell_type": "markdown",
   "metadata": {},
   "source": [
    "# Actual Training"
   ]
  },
  {
   "cell_type": "code",
   "execution_count": 11,
   "metadata": {},
   "outputs": [
    {
     "name": "stdout",
     "output_type": "stream",
     "text": [
      "13233\n",
      "400\n",
      "4\n"
     ]
    }
   ],
   "source": [
    "lossFunction = LossFunction(lambda_)\n",
    "serializers.load_npz('{:s}/Vgg4Layers.npz'.format(model_directory), lossFunction.vgg4Layers)\n",
    "'''Question\n",
    "What does mean do??\n",
    "'''\n",
    "lossFunction.vgg4Layers.add_persistent('mean', np.array([[[[103.939]], [[116.779]], [[123.68]]]], 'float32'))\n",
    "\n",
    "optimizer = Adam(alpha=0.001, beta1=0.9, beta2=0.999, eps=1e-08)\n",
    "\n",
    "# From begining\n",
    "#model = Model(1, outsize) if device < 0 else Model(1, outsize).to_gpu(device)\n",
    "#optimizer.setup(model)\n",
    "#loss_history = {'training': [], 'validation': []}\n",
    "acc_history = {'training': [], 'validation': []}\n",
    "\n",
    "# Loaded model and optimizer\n",
    "model = Model(1, outsize)\n",
    "serializers.load_npz('{:s}/model_{:03d}.npz'.format(model_directory, 4), model)\n",
    "optimizer.setup(model)\n",
    "serializers.load_npz('{:s}/optimizer_{:03d}.npz'.format(model_directory, 4), optimizer)\n",
    "\n",
    "loss_His = np.load('{:s}/loss_history_{:03d}.npz'.format(model_directory, 4))\n",
    "loss_His = loss_His[loss_His.files[0]]\n",
    "loss_history = loss_His.reshape(1,)[0]\n",
    "\n",
    "\n",
    "\n",
    "import glob\n",
    "data_file = sorted(glob.glob('{}/*/*.jpg'.format(data_directory)))\n",
    "print(len(data_file))\n",
    "\n",
    "'''\n",
    "400 imgs - 4 epochs\n",
    "'''\n",
    "\n",
    "training_set = Dataset(data_file[:400])\n",
    "training_iterator = iterators.SerialIterator(training_set, batch_size, False, True)\n",
    "print(len(training_set))\n",
    "\n",
    "validation_set = Dataset(data_file[401 : 405])\n",
    "validation_iterator = iterators.SerialIterator(validation_set, batch_size, False, False)\n",
    "print(len(validation_set))"
   ]
  },
  {
   "cell_type": "code",
   "execution_count": 12,
   "metadata": {
    "scrolled": true
   },
   "outputs": [
    {
     "name": "stdout",
     "output_type": "stream",
     "text": [
      "train= 0  loss= variable(53985.242)  acc= 0\n",
      "train= 1  loss= variable(115752.53)  acc= 0\n",
      "train= 2  loss= variable(80718.414)  acc= 0\n",
      "train= 3  loss= variable(60074.273)  acc= 0\n",
      "train= 4  loss= variable(54954.414)  acc= 0\n",
      "train= 5  loss= variable(93363.664)  acc= 0\n",
      "train= 6  loss= variable(50526.7)  acc= 0\n",
      "train= 7  loss= variable(87733.234)  acc= 0\n",
      "train= 8  loss= variable(74219.26)  acc= 0\n",
      "train= 9  loss= variable(73219.01)  acc= 0\n",
      "train= 10  loss= variable(75050.03)  acc= 0\n",
      "train= 11  loss= variable(49515.047)  acc= 0\n",
      "train= 12  loss= variable(59157.71)  acc= 0\n",
      "train= 13  loss= variable(68183.68)  acc= 0\n",
      "train= 14  loss= variable(74225.836)  acc= 0\n",
      "train= 15  loss= variable(56010.84)  acc= 0\n",
      "train= 16  loss= variable(78697.07)  acc= 0\n",
      "train= 17  loss= variable(73988.7)  acc= 0\n",
      "train= 18  loss= variable(68852.695)  acc= 0\n",
      "train= 19  loss= variable(62155.78)  acc= 0\n",
      "train= 20  loss= variable(89813.52)  acc= 0\n",
      "train= 21  loss= variable(70699.85)  acc= 0\n",
      "train= 22  loss= variable(75789.34)  acc= 0\n",
      "train= 23  loss= variable(63812.855)  acc= 0\n",
      "train= 24  loss= variable(85683.31)  acc= 0\n",
      "train= 25  loss= variable(67953.484)  acc= 0\n",
      "train= 26  loss= variable(78542.945)  acc= 0\n",
      "train= 27  loss= variable(122375.49)  acc= 0\n",
      "train= 28  loss= variable(75825.28)  acc= 0\n",
      "train= 29  loss= variable(84880.73)  acc= 0\n",
      "train= 30  loss= variable(79579.81)  acc= 0\n",
      "train= 31  loss= variable(55099.48)  acc= 0\n",
      "train= 32  loss= variable(100150.41)  acc= 0\n",
      "train= 33  loss= variable(64064.348)  acc= 0\n",
      "train= 34  loss= variable(104379.086)  acc= 0\n",
      "train= 35  loss= variable(51800.59)  acc= 0\n",
      "train= 36  loss= variable(69279.75)  acc= 0\n",
      "train= 37  loss= variable(65629.66)  acc= 0\n",
      "train= 38  loss= variable(99015.79)  acc= 0\n",
      "train= 39  loss= variable(59453.824)  acc= 0\n",
      "train= 40  loss= variable(77181.375)  acc= 0\n",
      "train= 41  loss= variable(84560.26)  acc= 0\n",
      "train= 42  loss= variable(69417.71)  acc= 0\n",
      "train= 43  loss= variable(89309.4)  acc= 0\n",
      "train= 44  loss= variable(85271.4)  acc= 0\n",
      "train= 45  loss= variable(72916.555)  acc= 0\n",
      "train= 46  loss= variable(60178.863)  acc= 0\n",
      "train= 47  loss= variable(73283.91)  acc= 0\n",
      "train= 48  loss= variable(54044.11)  acc= 0\n",
      "train= 49  loss= variable(101476.93)  acc= 0\n",
      "train= 50  loss= variable(61128.32)  acc= 0\n",
      "train= 51  loss= variable(47247.973)  acc= 0\n",
      "train= 52  loss= variable(76318.27)  acc= 0\n",
      "train= 53  loss= variable(69253.625)  acc= 0\n",
      "train= 54  loss= variable(62107.48)  acc= 0\n",
      "train= 55  loss= variable(66959.375)  acc= 0\n",
      "train= 56  loss= variable(66148.23)  acc= 0\n",
      "train= 57  loss= variable(57719.75)  acc= 0\n",
      "train= 58  loss= variable(69208.484)  acc= 0\n",
      "train= 59  loss= variable(79208.96)  acc= 0\n",
      "train= 60  loss= variable(70154.016)  acc= 0\n",
      "train= 61  loss= variable(61550.867)  acc= 0\n",
      "train= 62  loss= variable(52686.92)  acc= 0\n",
      "train= 63  loss= variable(63167.234)  acc= 0\n",
      "train= 64  loss= variable(66544.77)  acc= 0\n",
      "train= 65  loss= variable(74685.336)  acc= 0\n",
      "train= 66  loss= variable(83549.234)  acc= 0\n",
      "train= 67  loss= variable(80979.914)  acc= 0\n",
      "train= 68  loss= variable(82562.555)  acc= 0\n",
      "train= 69  loss= variable(56218.95)  acc= 0\n",
      "train= 70  loss= variable(126604.01)  acc= 0\n",
      "train= 71  loss= variable(85947.03)  acc= 0\n",
      "train= 72  loss= variable(91540.47)  acc= 0\n",
      "train= 73  loss= variable(61068.215)  acc= 0\n",
      "train= 74  loss= variable(79109.305)  acc= 0\n",
      "train= 75  loss= variable(99037.78)  acc= 0\n",
      "train= 76  loss= variable(62411.656)  acc= 0\n",
      "train= 77  loss= variable(63048.453)  acc= 0\n",
      "train= 78  loss= variable(73252.62)  acc= 0\n",
      "train= 79  loss= variable(71411.48)  acc= 0\n",
      "train= 80  loss= variable(69997.266)  acc= 0\n",
      "train= 81  loss= variable(82206.195)  acc= 0\n",
      "train= 82  loss= variable(69315.414)  acc= 0\n",
      "train= 83  loss= variable(67268.086)  acc= 0\n",
      "train= 84  loss= variable(83370.)  acc= 0\n",
      "train= 85  loss= variable(62457.008)  acc= 0\n",
      "train= 86  loss= variable(60278.305)  acc= 0\n",
      "train= 87  loss= variable(73368.92)  acc= 0\n",
      "train= 88  loss= variable(90760.03)  acc= 0\n",
      "train= 89  loss= variable(63773.074)  acc= 0\n",
      "train= 90  loss= variable(44293.008)  acc= 0\n",
      "train= 91  loss= variable(117712.586)  acc= 0\n",
      "train= 92  loss= variable(59085.234)  acc= 0\n",
      "train= 93  loss= variable(66184.28)  acc= 0\n",
      "train= 94  loss= variable(68873.47)  acc= 0\n",
      "train= 95  loss= variable(82750.586)  acc= 0\n",
      "train= 96  loss= variable(85256.03)  acc= 0\n",
      "train= 97  loss= variable(84368.11)  acc= 0\n",
      "train= 98  loss= variable(69157.67)  acc= 0\n",
      "train= 99  loss= variable(50136.082)  acc= 0\n",
      ">>> train | epoch =4 | time=4853.949081420898 sec | loss=73532.968359375 | acc=0.0\n",
      "valid= 0  loss= variable(80644.12)  acc= 0\n",
      ">>> validation | epoch =4 | time=20.057313680648804 sec | loss=80644.1171875 | acc=0.0\n",
      "epoch:   5 / 007, training loss: 73532.968359375, validation loss: 80644.1171875.\n",
      "train= 0  loss= variable(74090.18)  acc= 0\n",
      "train= 1  loss= variable(62471.863)  acc= 0\n",
      "train= 2  loss= variable(56078.83)  acc= 0\n",
      "train= 3  loss= variable(65896.42)  acc= 0\n",
      "train= 4  loss= variable(66192.6)  acc= 0\n",
      "train= 5  loss= variable(70848.14)  acc= 0\n",
      "train= 6  loss= variable(81311.37)  acc= 0\n",
      "train= 7  loss= variable(64047.066)  acc= 0\n",
      "train= 8  loss= variable(77799.99)  acc= 0\n",
      "train= 9  loss= variable(75136.125)  acc= 0\n",
      "train= 10  loss= variable(64489.777)  acc= 0\n",
      "train= 11  loss= variable(67734.875)  acc= 0\n",
      "train= 12  loss= variable(46617.117)  acc= 0\n",
      "train= 13  loss= variable(62174.45)  acc= 0\n",
      "train= 14  loss= variable(110559.3)  acc= 0\n",
      "train= 15  loss= variable(57838.59)  acc= 0\n",
      "train= 16  loss= variable(74609.836)  acc= 0\n",
      "train= 17  loss= variable(60589.293)  acc= 0\n",
      "train= 18  loss= variable(77533.336)  acc= 0\n",
      "train= 19  loss= variable(65929.266)  acc= 0\n",
      "train= 20  loss= variable(59756.082)  acc= 0\n",
      "train= 21  loss= variable(70798.25)  acc= 0\n",
      "train= 22  loss= variable(70094.73)  acc= 0\n",
      "train= 23  loss= variable(62474.867)  acc= 0\n",
      "train= 24  loss= variable(112306.664)  acc= 0\n",
      "train= 25  loss= variable(48909.363)  acc= 0\n",
      "train= 26  loss= variable(76584.83)  acc= 0\n",
      "train= 27  loss= variable(50950.566)  acc= 0\n",
      "train= 28  loss= variable(84122.85)  acc= 0\n",
      "train= 29  loss= variable(60154.7)  acc= 0\n",
      "train= 30  loss= variable(62428.434)  acc= 0\n",
      "train= 31  loss= variable(66420.695)  acc= 0\n",
      "train= 32  loss= variable(65101.414)  acc= 0\n",
      "train= 33  loss= variable(52841.11)  acc= 0\n",
      "train= 34  loss= variable(53782.89)  acc= 0\n",
      "train= 35  loss= variable(59409.793)  acc= 0\n",
      "train= 36  loss= variable(78259.07)  acc= 0\n",
      "train= 37  loss= variable(75442.8)  acc= 0\n",
      "train= 38  loss= variable(52075.33)  acc= 0\n",
      "train= 39  loss= variable(89720.34)  acc= 0\n",
      "train= 40  loss= variable(67430.38)  acc= 0\n",
      "train= 41  loss= variable(67544.09)  acc= 0\n",
      "train= 42  loss= variable(56636.605)  acc= 0\n",
      "train= 43  loss= variable(83622.44)  acc= 0\n",
      "train= 44  loss= variable(57364.09)  acc= 0\n",
      "train= 45  loss= variable(69403.234)  acc= 0\n",
      "train= 46  loss= variable(78827.1)  acc= 0\n",
      "train= 47  loss= variable(58905.57)  acc= 0\n",
      "train= 48  loss= variable(98228.305)  acc= 0\n",
      "train= 49  loss= variable(74524.945)  acc= 0\n",
      "train= 50  loss= variable(72109.65)  acc= 0\n",
      "train= 51  loss= variable(57052.37)  acc= 0\n",
      "train= 52  loss= variable(57275.7)  acc= 0\n",
      "train= 53  loss= variable(53730.887)  acc= 0\n",
      "train= 54  loss= variable(97383.06)  acc= 0\n",
      "train= 55  loss= variable(85250.45)  acc= 0\n",
      "train= 56  loss= variable(49434.46)  acc= 0\n",
      "train= 57  loss= variable(66841.43)  acc= 0\n",
      "train= 58  loss= variable(51226.664)  acc= 0\n",
      "train= 59  loss= variable(81929.15)  acc= 0\n",
      "train= 60  loss= variable(71790.664)  acc= 0\n",
      "train= 61  loss= variable(63095.223)  acc= 0\n",
      "train= 62  loss= variable(64602.363)  acc= 0\n",
      "train= 63  loss= variable(54321.457)  acc= 0\n",
      "train= 64  loss= variable(56417.043)  acc= 0\n",
      "train= 65  loss= variable(44927.633)  acc= 0\n",
      "train= 66  loss= variable(58983.06)  acc= 0\n",
      "train= 67  loss= variable(55412.83)  acc= 0\n",
      "train= 68  loss= variable(100846.7)  acc= 0\n",
      "train= 69  loss= variable(60101.844)  acc= 0\n",
      "train= 70  loss= variable(59140.91)  acc= 0\n",
      "train= 71  loss= variable(67455.84)  acc= 0\n",
      "train= 72  loss= variable(107335.71)  acc= 0\n",
      "train= 73  loss= variable(89477.2)  acc= 0\n",
      "train= 74  loss= variable(45600.25)  acc= 0\n",
      "train= 75  loss= variable(82561.74)  acc= 0\n",
      "train= 76  loss= variable(82603.484)  acc= 0\n",
      "train= 77  loss= variable(49288.457)  acc= 0\n",
      "train= 78  loss= variable(76227.5)  acc= 0\n"
     ]
    },
    {
     "name": "stdout",
     "output_type": "stream",
     "text": [
      "train= 79  loss= variable(52240.113)  acc= 0\n",
      "train= 80  loss= variable(64945.793)  acc= 0\n",
      "train= 81  loss= variable(89328.28)  acc= 0\n",
      "train= 82  loss= variable(51758.47)  acc= 0\n",
      "train= 83  loss= variable(69015.88)  acc= 0\n",
      "train= 84  loss= variable(61488.61)  acc= 0\n",
      "train= 85  loss= variable(75483.19)  acc= 0\n",
      "train= 86  loss= variable(67550.76)  acc= 0\n",
      "train= 87  loss= variable(94157.06)  acc= 0\n",
      "train= 88  loss= variable(62256.6)  acc= 0\n",
      "train= 89  loss= variable(70420.33)  acc= 0\n",
      "train= 90  loss= variable(90938.45)  acc= 0\n",
      "train= 91  loss= variable(86514.97)  acc= 0\n",
      "train= 92  loss= variable(48578.37)  acc= 0\n",
      "train= 93  loss= variable(45371.99)  acc= 0\n",
      "train= 94  loss= variable(65958.52)  acc= 0\n",
      "train= 95  loss= variable(81112.39)  acc= 0\n",
      "train= 96  loss= variable(81511.05)  acc= 0\n",
      "train= 97  loss= variable(103270.47)  acc= 0\n",
      "train= 98  loss= variable(79558.22)  acc= 0\n",
      "train= 99  loss= variable(76632.33)  acc= 0\n",
      ">>> train | epoch =5 | time=4721.373946905136 sec | loss=69265.85546875 | acc=0.0\n",
      "valid= 0  loss= variable(62257.82)  acc= 0\n",
      ">>> validation | epoch =5 | time=21.66957712173462 sec | loss=62257.8203125 | acc=0.0\n",
      "epoch:   6 / 007, training loss: 69265.85546875, validation loss: 62257.8203125.\n",
      "train= 0  loss= variable(72374.23)  acc= 0\n",
      "train= 1  loss= variable(64889.83)  acc= 0\n",
      "train= 2  loss= variable(69388.805)  acc= 0\n",
      "train= 3  loss= variable(65932.43)  acc= 0\n",
      "train= 4  loss= variable(54928.76)  acc= 0\n",
      "train= 5  loss= variable(81507.61)  acc= 0\n",
      "train= 6  loss= variable(57794.426)  acc= 0\n",
      "train= 7  loss= variable(59357.742)  acc= 0\n",
      "train= 8  loss= variable(72681.484)  acc= 0\n",
      "train= 9  loss= variable(66427.2)  acc= 0\n",
      "train= 10  loss= variable(59158.72)  acc= 0\n",
      "train= 11  loss= variable(62355.242)  acc= 0\n",
      "train= 12  loss= variable(60896.79)  acc= 0\n",
      "train= 13  loss= variable(65853.23)  acc= 0\n",
      "train= 14  loss= variable(54034.676)  acc= 0\n",
      "train= 15  loss= variable(97498.36)  acc= 0\n",
      "train= 16  loss= variable(60989.613)  acc= 0\n",
      "train= 17  loss= variable(72216.94)  acc= 0\n",
      "train= 18  loss= variable(66909.02)  acc= 0\n",
      "train= 19  loss= variable(46992.13)  acc= 0\n",
      "train= 20  loss= variable(70339.53)  acc= 0\n",
      "train= 21  loss= variable(51734.906)  acc= 0\n",
      "train= 22  loss= variable(63455.266)  acc= 0\n",
      "train= 23  loss= variable(54600.547)  acc= 0\n",
      "train= 24  loss= variable(95440.02)  acc= 0\n",
      "train= 25  loss= variable(52050.293)  acc= 0\n",
      "train= 26  loss= variable(88176.12)  acc= 0\n",
      "train= 27  loss= variable(69270.43)  acc= 0\n",
      "train= 28  loss= variable(74771.82)  acc= 0\n",
      "train= 29  loss= variable(52639.438)  acc= 0\n",
      "train= 30  loss= variable(56036.613)  acc= 0\n",
      "train= 31  loss= variable(58733.145)  acc= 0\n",
      "train= 32  loss= variable(60038.652)  acc= 0\n",
      "train= 33  loss= variable(53008.766)  acc= 0\n",
      "train= 34  loss= variable(67564.305)  acc= 0\n",
      "train= 35  loss= variable(115903.78)  acc= 0\n",
      "train= 36  loss= variable(93109.38)  acc= 0\n",
      "train= 37  loss= variable(70288.58)  acc= 0\n",
      "train= 38  loss= variable(63810.93)  acc= 0\n",
      "train= 39  loss= variable(50634.73)  acc= 0\n",
      "train= 40  loss= variable(72721.125)  acc= 0\n",
      "train= 41  loss= variable(111375.664)  acc= 0\n",
      "train= 42  loss= variable(48587.215)  acc= 0\n",
      "train= 43  loss= variable(56667.348)  acc= 0\n",
      "train= 44  loss= variable(78540.625)  acc= 0\n",
      "train= 45  loss= variable(57385.633)  acc= 0\n",
      "train= 46  loss= variable(62264.645)  acc= 0\n",
      "train= 47  loss= variable(65447.)  acc= 0\n",
      "train= 48  loss= variable(69381.625)  acc= 0\n",
      "train= 49  loss= variable(64185.316)  acc= 0\n",
      "train= 50  loss= variable(48224.02)  acc= 0\n",
      "train= 51  loss= variable(43269.664)  acc= 0\n",
      "train= 52  loss= variable(73393.04)  acc= 0\n",
      "train= 53  loss= variable(57274.99)  acc= 0\n",
      "train= 54  loss= variable(42173.652)  acc= 0\n",
      "train= 55  loss= variable(60226.188)  acc= 0\n",
      "train= 56  loss= variable(61414.113)  acc= 0\n",
      "train= 57  loss= variable(43587.676)  acc= 0\n",
      "train= 58  loss= variable(95562.34)  acc= 0\n",
      "train= 59  loss= variable(60693.414)  acc= 0\n",
      "train= 60  loss= variable(55732.75)  acc= 0\n",
      "train= 61  loss= variable(51975.887)  acc= 0\n",
      "train= 62  loss= variable(53930.375)  acc= 0\n",
      "train= 63  loss= variable(66482.22)  acc= 0\n",
      "train= 64  loss= variable(55713.395)  acc= 0\n",
      "train= 65  loss= variable(80113.305)  acc= 0\n",
      "train= 66  loss= variable(58925.42)  acc= 0\n",
      "train= 67  loss= variable(56794.87)  acc= 0\n",
      "train= 68  loss= variable(54469.785)  acc= 0\n",
      "train= 69  loss= variable(97777.76)  acc= 0\n",
      "train= 70  loss= variable(49793.277)  acc= 0\n",
      "train= 71  loss= variable(58753.688)  acc= 0\n",
      "train= 72  loss= variable(71279.94)  acc= 0\n",
      "train= 73  loss= variable(72509.54)  acc= 0\n",
      "train= 74  loss= variable(71197.82)  acc= 0\n",
      "train= 75  loss= variable(59609.16)  acc= 0\n",
      "train= 76  loss= variable(101013.28)  acc= 0\n",
      "train= 77  loss= variable(62814.78)  acc= 0\n",
      "train= 78  loss= variable(75047.71)  acc= 0\n",
      "train= 79  loss= variable(49094.055)  acc= 0\n",
      "train= 80  loss= variable(84539.695)  acc= 0\n",
      "train= 81  loss= variable(96544.15)  acc= 0\n",
      "train= 82  loss= variable(90135.39)  acc= 0\n",
      "train= 83  loss= variable(70290.56)  acc= 0\n",
      "train= 84  loss= variable(69144.17)  acc= 0\n",
      "train= 85  loss= variable(51243.64)  acc= 0\n",
      "train= 86  loss= variable(47542.734)  acc= 0\n",
      "train= 87  loss= variable(61974.25)  acc= 0\n",
      "train= 88  loss= variable(108883.65)  acc= 0\n",
      "train= 89  loss= variable(74598.23)  acc= 0\n",
      "train= 90  loss= variable(64013.93)  acc= 0\n",
      "train= 91  loss= variable(56021.184)  acc= 0\n",
      "train= 92  loss= variable(64963.586)  acc= 0\n",
      "train= 93  loss= variable(71786.7)  acc= 0\n",
      "train= 94  loss= variable(71841.445)  acc= 0\n",
      "train= 95  loss= variable(102410.15)  acc= 0\n",
      "train= 96  loss= variable(60267.87)  acc= 0\n",
      "train= 97  loss= variable(55676.082)  acc= 0\n",
      "train= 98  loss= variable(59933.33)  acc= 0\n",
      "train= 99  loss= variable(64351.35)  acc= 0\n",
      ">>> train | epoch =6 | time=4736.672634601593 sec | loss=66753.60890625 | acc=0.0\n",
      "valid= 0  loss= variable(57501.46)  acc= 0\n",
      ">>> validation | epoch =6 | time=19.726102590560913 sec | loss=57501.4609375 | acc=0.0\n",
      "epoch:   7 / 007, training loss: 66753.60890625, validation loss: 57501.4609375.\n"
     ]
    }
   ],
   "source": [
    "# Actual of Training\n",
    "import time\n",
    "epochs = 7\n",
    "for i in range(4, epochs):#epochs\n",
    "    epoch = i + 1\n",
    "    loss_history['training'].append(0)\n",
    "    acc_history['training'].append(0)\n",
    "    \n",
    "    start_time = time.time()\n",
    "    for j, batch in enumerate(training_iterator):\n",
    "        with chainer.using_config('train', True):\n",
    "            t, x = concat_examples(batch=batch, device=device)\n",
    "            y = model(x)\n",
    "            # (1) start\n",
    "            loss = lossFunction(t, y)\n",
    "            # Calculate the gradients in the network\n",
    "            model.cleargrads()\n",
    "            loss.backward()\n",
    "            # Update all the trainable parameters\n",
    "            optimizer.update()\n",
    "            # (1) end\n",
    "#             t_ = t.copy()\n",
    "#             t_.astype('uint8')\n",
    "#             accuracy = F.accuracy(y, t_)\n",
    "#             accuracy.to_cpu()\n",
    "            acc = 0#accuracy.data\n",
    "\n",
    "        loss_history['training'][-1] += float(loss.data)\n",
    "        acc_history['training'][-1] += float(acc)\n",
    "        print('train=',j,' loss=',loss,' acc=',acc)\n",
    "\n",
    "    loss_history['training'][-1] /= j + 1\n",
    "    acc_history['training'][-1] /= j + 1\n",
    "    print('>>> train | epoch ={} | time={} sec | loss={} | acc={}'.format(i, (time.time() - start_time), \n",
    "                                                            loss_history['training'][-1], acc_history['training'][-1]))\n",
    "    \n",
    "    # (2) start\n",
    "    loss_history['validation'].append(0)\n",
    "    acc_history['validation'].append(0)\n",
    "    \n",
    "    start_time = time.time()\n",
    "    for j, batch in enumerate(validation_iterator):\n",
    "        with chainer.using_config('train', False):\n",
    "            t, x = concat_examples(batch=batch, device=device)\n",
    "            y = model(x)\n",
    "            loss = lossFunction(t, y)\n",
    "            \n",
    "#             t_ = t.copy()\n",
    "#             t_.astype('uint8')\n",
    "#             accuracy = F.accuracy(y, t_)\n",
    "#             accuracy.to_cpu()\n",
    "            acc = 0#accuracy.data\n",
    "        # ...\n",
    "        loss_history['validation'][-1] += float(loss.data)\n",
    "        acc_history['validation'][-1] += float(acc)\n",
    "        print('valid=',j,' loss=',loss,' acc=',acc)\n",
    "\n",
    "    loss_history['validation'][-1] /= j + 1\n",
    "    print('>>> validation | epoch ={} | time={} sec | loss={} | acc={}'.format(i, (time.time() - start_time), \n",
    "                                                loss_history['validation'][-1], acc_history['validation'][-1]))\n",
    "    #loss_history['validation'][-1] = 0.0\n",
    "    # ...\n",
    "    print('epoch: {:3d} / {:03d}, training loss: {}, validation loss: {}.'.format(\n",
    "                                        epoch, epochs, loss_history['training'][-1], loss_history['validation'][-1]))\n",
    "    #print('epoch: {:3d} / {:03d}, training acc: {}, validation acc: {}.'.format(\n",
    "    #                                    epoch, epochs, acc_history['training'][-1], acc_history['validation'][-1]))\n",
    "    \n",
    "    np.savez('{:s}/loss_history_{:03d}.npz'.format(model_directory, epoch), loss_history)\n",
    "    #np.savez('{:s}/acc_history_{:03d}.npz'.format(model_directory, epoch), acc_history)\n",
    "    # (3) start\n",
    "    serializers.save_npz('{:s}/model_{:03d}.npz'.format(model_directory, epoch), model)\n",
    "    # (3) end\n",
    "    serializers.save_npz('{:s}/optimizer_{:03d}.npz'.format(model_directory, epoch), optimizer)\n",
    "    \n",
    "    training_set = Dataset(data_file[:400])\n",
    "    training_iterator = iterators.SerialIterator(training_set, batch_size, False, True)\n",
    "    validation_set = Dataset(data_file[401 : 405])\n",
    "    validation_iterator = iterators.SerialIterator(validation_set, batch_size, False, False)"
   ]
  },
  {
   "cell_type": "code",
   "execution_count": null,
   "metadata": {},
   "outputs": [],
   "source": []
  },
  {
   "cell_type": "code",
   "execution_count": null,
   "metadata": {},
   "outputs": [],
   "source": []
  },
  {
   "cell_type": "code",
   "execution_count": null,
   "metadata": {},
   "outputs": [],
   "source": []
  },
  {
   "cell_type": "code",
   "execution_count": null,
   "metadata": {},
   "outputs": [],
   "source": []
  },
  {
   "cell_type": "code",
   "execution_count": 11,
   "metadata": {},
   "outputs": [
    {
     "data": {
      "text/plain": [
       "[<matplotlib.lines.Line2D at 0x7fba85f09198>]"
      ]
     },
     "execution_count": 11,
     "metadata": {},
     "output_type": "execute_result"
    },
    {
     "data": {
      "image/png": "[encoded data removed]",
      "text/plain": [
       "<Figure size 432x288 with 1 Axes>"
      ]
     },
     "metadata": {
      "needs_background": "light"
     },
     "output_type": "display_data"
    }
   ],
   "source": [
    "plt.plot(loss_history['training'])"
   ]
  },
  {
   "cell_type": "code",
   "execution_count": null,
   "metadata": {},
   "outputs": [],
   "source": [
    "plt.plot(acc_history['training'])"
   ]
  },
  {
   "cell_type": "code",
   "execution_count": 4,
   "metadata": {},
   "outputs": [],
   "source": [
    "import json\n",
    "log_data = {}\n",
    "with open('tlog.json') as json_data:\n",
    "    jdata = json.load(json_data)\n",
    "    for element in jdata:\n",
    "        log_data[element] = list(jdata[element].values())\n",
    "#print(log_data)"
   ]
  },
  {
   "cell_type": "code",
   "execution_count": 5,
   "metadata": {},
   "outputs": [
    {
     "data": {
      "text/plain": [
       "[<matplotlib.lines.Line2D at 0x7fd4ea80fef0>]"
      ]
     },
     "execution_count": 5,
     "metadata": {},
     "output_type": "execute_result"
    },
    {
     "data": {
      "image/png": "[encoded data removed]",
      "text/plain": [
       "<Figure size 1080x720 with 1 Axes>"
      ]
     },
     "metadata": {
      "needs_background": "light"
     },
     "output_type": "display_data"
    }
   ],
   "source": [
    "log_arr = []\n",
    "for key in log_data:\n",
    "    log_arr += log_data[key]\n",
    "#print(log_arr)\n",
    "fig=plt.figure(figsize=(15, 10))\n",
    "plt.plot(log_arr)"
   ]
  },
  {
   "cell_type": "code",
   "execution_count": 19,
   "metadata": {
    "colab": {},
    "colab_type": "code",
    "collapsed": true,
    "id": "F-pOSKTw0tcK"
   },
   "outputs": [
    {
     "ename": "KeyboardInterrupt",
     "evalue": "",
     "output_type": "error",
     "traceback": [
      "\u001b[0;31m---------------------------------------------------------------------------\u001b[0m",
      "\u001b[0;31mKeyboardInterrupt\u001b[0m                         Traceback (most recent call last)",
      "\u001b[0;32m<ipython-input-19-d2f20054e980>\u001b[0m in \u001b[0;36m<module>\u001b[0;34m()\u001b[0m\n\u001b[1;32m     18\u001b[0m             \u001b[0;31m# Calculate the gradients in the network\u001b[0m\u001b[0;34m\u001b[0m\u001b[0;34m\u001b[0m\u001b[0m\n\u001b[1;32m     19\u001b[0m             \u001b[0mmodel\u001b[0m\u001b[0;34m.\u001b[0m\u001b[0mcleargrads\u001b[0m\u001b[0;34m(\u001b[0m\u001b[0;34m)\u001b[0m\u001b[0;34m\u001b[0m\u001b[0m\n\u001b[0;32m---> 20\u001b[0;31m             \u001b[0mloss\u001b[0m\u001b[0;34m.\u001b[0m\u001b[0mbackward\u001b[0m\u001b[0;34m(\u001b[0m\u001b[0;34m)\u001b[0m\u001b[0;34m\u001b[0m\u001b[0m\n\u001b[0m\u001b[1;32m     21\u001b[0m             \u001b[0;31m# Update all the trainable parameters\u001b[0m\u001b[0;34m\u001b[0m\u001b[0;34m\u001b[0m\u001b[0m\n\u001b[1;32m     22\u001b[0m             \u001b[0moptimizer\u001b[0m\u001b[0;34m.\u001b[0m\u001b[0mupdate\u001b[0m\u001b[0;34m(\u001b[0m\u001b[0;34m)\u001b[0m\u001b[0;34m\u001b[0m\u001b[0m\n",
      "\u001b[0;32m~/anaconda3/envs/NIPS/lib/python3.6/site-packages/chainer/variable.py\u001b[0m in \u001b[0;36mbackward\u001b[0;34m(self, retain_grad, enable_double_backprop, loss_scale)\u001b[0m\n\u001b[1;32m    964\u001b[0m         \"\"\"\n\u001b[1;32m    965\u001b[0m         \u001b[0;32mwith\u001b[0m \u001b[0mchainer\u001b[0m\u001b[0;34m.\u001b[0m\u001b[0musing_config\u001b[0m\u001b[0;34m(\u001b[0m\u001b[0;34m'enable_backprop'\u001b[0m\u001b[0;34m,\u001b[0m \u001b[0menable_double_backprop\u001b[0m\u001b[0;34m)\u001b[0m\u001b[0;34m:\u001b[0m\u001b[0;34m\u001b[0m\u001b[0m\n\u001b[0;32m--> 966\u001b[0;31m             \u001b[0mself\u001b[0m\u001b[0;34m.\u001b[0m\u001b[0m_backward_main\u001b[0m\u001b[0;34m(\u001b[0m\u001b[0mretain_grad\u001b[0m\u001b[0;34m,\u001b[0m \u001b[0mloss_scale\u001b[0m\u001b[0;34m)\u001b[0m\u001b[0;34m\u001b[0m\u001b[0m\n\u001b[0m\u001b[1;32m    967\u001b[0m \u001b[0;34m\u001b[0m\u001b[0m\n\u001b[1;32m    968\u001b[0m     \u001b[0;32mdef\u001b[0m \u001b[0m_backward_main\u001b[0m\u001b[0;34m(\u001b[0m\u001b[0mself\u001b[0m\u001b[0;34m,\u001b[0m \u001b[0mretain_grad\u001b[0m\u001b[0;34m,\u001b[0m \u001b[0mloss_scale\u001b[0m\u001b[0;34m)\u001b[0m\u001b[0;34m:\u001b[0m\u001b[0;34m\u001b[0m\u001b[0m\n",
      "\u001b[0;32m~/anaconda3/envs/NIPS/lib/python3.6/site-packages/chainer/variable.py\u001b[0m in \u001b[0;36m_backward_main\u001b[0;34m(self, retain_grad, loss_scale)\u001b[0m\n\u001b[1;32m   1093\u001b[0m \u001b[0;34m\u001b[0m\u001b[0m\n\u001b[1;32m   1094\u001b[0m             gxs = func.backward_accumulate(\n\u001b[0;32m-> 1095\u001b[0;31m                 target_input_indexes, out_grad, in_grad)\n\u001b[0m\u001b[1;32m   1096\u001b[0m \u001b[0;34m\u001b[0m\u001b[0m\n\u001b[1;32m   1097\u001b[0m             \u001b[0;32massert\u001b[0m \u001b[0mlen\u001b[0m\u001b[0;34m(\u001b[0m\u001b[0mgxs\u001b[0m\u001b[0;34m)\u001b[0m \u001b[0;34m==\u001b[0m \u001b[0mlen\u001b[0m\u001b[0;34m(\u001b[0m\u001b[0min_grad\u001b[0m\u001b[0;34m)\u001b[0m\u001b[0;34m\u001b[0m\u001b[0m\n",
      "\u001b[0;32m~/anaconda3/envs/NIPS/lib/python3.6/site-packages/chainer/function_node.py\u001b[0m in \u001b[0;36mbackward_accumulate\u001b[0;34m(self, target_input_indexes, grad_outputs, grad_inputs)\u001b[0m\n\u001b[1;32m    546\u001b[0m         \u001b[0;31m# The default implementation uses backward(). You can override this\u001b[0m\u001b[0;34m\u001b[0m\u001b[0;34m\u001b[0m\u001b[0m\n\u001b[1;32m    547\u001b[0m         \u001b[0;31m# method without using backward().\u001b[0m\u001b[0;34m\u001b[0m\u001b[0;34m\u001b[0m\u001b[0m\n\u001b[0;32m--> 548\u001b[0;31m         \u001b[0mgxs\u001b[0m \u001b[0;34m=\u001b[0m \u001b[0mself\u001b[0m\u001b[0;34m.\u001b[0m\u001b[0mbackward\u001b[0m\u001b[0;34m(\u001b[0m\u001b[0mtarget_input_indexes\u001b[0m\u001b[0;34m,\u001b[0m \u001b[0mgrad_outputs\u001b[0m\u001b[0;34m)\u001b[0m\u001b[0;34m\u001b[0m\u001b[0m\n\u001b[0m\u001b[1;32m    549\u001b[0m \u001b[0;34m\u001b[0m\u001b[0m\n\u001b[1;32m    550\u001b[0m         \u001b[0mlen_gxs\u001b[0m \u001b[0;34m=\u001b[0m \u001b[0mlen\u001b[0m\u001b[0;34m(\u001b[0m\u001b[0mgxs\u001b[0m\u001b[0;34m)\u001b[0m\u001b[0;34m\u001b[0m\u001b[0m\n",
      "\u001b[0;31mKeyboardInterrupt\u001b[0m: "
     ]
    }
   ],
   "source": [
    "'''\n",
    "Questions\n",
    "Learn model training in chainer\n",
    "'''\n",
    "for i in range(epochs):\n",
    "    loss_history['training'].append(0)\n",
    "\n",
    "    for j, batch in enumerate(training_iterator):\n",
    "        with chainer.using_config('train', True):\n",
    "            t, x = concat_examples(batch)\n",
    "            y = model(x)\n",
    "            # (1) start\n",
    "            loss = lossFunction(t, y)\n",
    "            # ...\n",
    "            # ...\n",
    "            # ...\n",
    "            # (1) end\n",
    "            # Calculate the gradients in the network\n",
    "            model.cleargrads()\n",
    "            loss.backward()\n",
    "            # Update all the trainable parameters\n",
    "            optimizer.update()\n",
    "\n",
    "        loss_history['training'][-1] += float(loss.data)\n",
    "\n",
    "    loss_history['training'][-1] /= j + 1\n",
    "    # (2) start\n",
    "    # ...\n",
    "    loss_history['validation'].append(0)\n",
    "\n",
    "    for j, batch in enumerate(validation_iterator):\n",
    "        with chainer.using_config('train', False):\n",
    "            t, x = concat_examples(batch)\n",
    "            y = model(x)\n",
    "            loss = lossFunction(t, y)\n",
    "\n",
    "        # ...\n",
    "        loss_history['validation'][-1] += float(loss.data)\n",
    "\n",
    "    loss_history['validation'][-1] /= j + 1\n",
    "    # ...\n",
    "    \n",
    "    \n",
    "    # (2) end\n",
    "    epoch = i + 1\n",
    "    print('epoch: {:3d} / {:03d}, training loss: {:.4f}, validation loss: {:.4f}.'.format(epoch, epochs, loss_history['training'], loss_history['validation']))\n",
    "    np.savez('{:s}/loss_history_{:03d}.npz'.format(model_directory, epoch), loss_history)\n",
    "    # (3) start\n",
    "    serializers.save_npz('{:s}/model_{:03d}.npz'.format(model_directory, epoch), model)\n",
    "    # (3) end\n",
    "    serializers.save_npz('{:s}/optimizer_{:03d}.npz'.format(model_directory, epoch), optimizer)"
   ]
  },
  {
   "cell_type": "markdown",
   "metadata": {
    "colab_type": "text",
    "id": "7YivB1PQ7Obh"
   },
   "source": [
    "**Test (45 points + 15 bonus points)**  \n",
    "In the following cell, you will test your model.  \n",
    "*Tasks*\n",
    "- (1) Estimate the test loss, print it and save it. (**15 points**)\n",
    "- (2) Estimate the validation metrics, print them and save them (tip: scikit-image) (**15 bonus points**)\n",
    "- (3) Plot example results (i.e., plot a few t, x and y) (**10 points**)\n",
    "- (4) Dicuss your implementation in 300 - 350 words (e.g., how good your results are, how you can improve your model, etc.) (**20 points**)"
   ]
  },
  {
   "cell_type": "code",
   "execution_count": null,
   "metadata": {
    "colab": {},
    "colab_type": "code",
    "id": "zdlnCFDS-Cdh"
   },
   "outputs": [],
   "source": [
    "# (1), (2) and (3) start\n",
    "# .\n",
    "# .\n",
    "# .\n",
    "# (1), (2) and (3) end\n",
    "\n",
    "# (4) Write your answer here."
   ]
  }
 ],
 "metadata": {
  "colab": {
   "collapsed_sections": [],
   "name": "weeks_2_and_3_assignment.ipynb",
   "provenance": [],
   "version": "0.3.2"
  },
  "kernelspec": {
   "display_name": "Python 3",
   "language": "python",
   "name": "python3"
  },
  "language_info": {
   "codemirror_mode": {
    "name": "ipython",
    "version": 3
   },
   "file_extension": ".py",
   "mimetype": "text/x-python",
   "name": "python",
   "nbconvert_exporter": "python",
   "pygments_lexer": "ipython3",
   "version": "3.6.6"
  }
 },
 "nbformat": 4,
 "nbformat_minor": 1
}
